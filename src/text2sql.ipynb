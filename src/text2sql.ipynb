{
 "cells": [
  {
   "cell_type": "markdown",
   "metadata": {},
   "source": [
    "# text2sql based on llama2\n",
    "## Task: To get an sql query for a given database from a natural language query\n",
    "\n",
    "Build a chain with:<br/> Question => LLM => SQL => DB => LLM => Answer\n",
    "\n",
    "(This file is for experimentation and model creation)"
   ]
  },
  {
   "cell_type": "markdown",
   "metadata": {},
   "source": [
    "### Imports"
   ]
  },
  {
   "cell_type": "code",
   "execution_count": 1,
   "metadata": {},
   "outputs": [],
   "source": [
    "from langchain_community.llms.ollama import Ollama\n",
    "\n",
    "from langchain_community.vectorstores.pgvector import PGVector\n",
    "from langchain_community.utilities.sql_database import SQLDatabase\n",
    "\n",
    "from langchain_community.embeddings.ollama import OllamaEmbeddings\n",
    "\n",
    "from langchain_core.prompts import FewShotPromptTemplate\n",
    "from langchain_core.prompts import PromptTemplate\n",
    "from langchain_core.runnables import RunnablePassthrough\n",
    "from langchain_core.output_parsers import StrOutputParser\n",
    "\n",
    "from langchain.chains.sql_database import query\n",
    "\n",
    "from pswrd import PASSWORD_OF_DB\n",
    "from pswrd import PASSWORD_FOR_VC_CREATOR"
   ]
  },
  {
   "cell_type": "markdown",
   "metadata": {},
   "source": [
    "### Download llama2"
   ]
  },
  {
   "cell_type": "code",
   "execution_count": 2,
   "metadata": {},
   "outputs": [],
   "source": [
    "model = Ollama(model=\"llama2\", temperature=0)"
   ]
  },
  {
   "cell_type": "markdown",
   "metadata": {},
   "source": [
    "## The first idea:\n",
    "Is add a **prompt template** with the context of the database structure and a query for NL to `llama2`"
   ]
  },
  {
   "cell_type": "markdown",
   "metadata": {},
   "source": [
    "#### Firstly add DB structure"
   ]
  },
  {
   "cell_type": "code",
   "execution_count": 3,
   "metadata": {},
   "outputs": [],
   "source": [
    "DB_STRUCTURE = \\\n",
    "    [\"\"\"\n",
    "    CREATE TABLE trip(\n",
    "        id BIGSERIAL PRIMARY KEY,\n",
    "        company BIGINT, \n",
    "        plane CHARACTER VARYING(60),\n",
    "        town_from CHARACTER VARYING(60),\n",
    "        town_to CHARACTER VARYING(60),\n",
    "        time_out TIMESTAMP,\n",
    "        time_in TIMESTAMP,\n",
    "        CONSTRAINT FK_company FOREIGNT KEY (\\\"company\\\") REFERENCES public.company (id)\n",
    "    ); \n",
    "    \"\"\",\n",
    "     \"\"\"\n",
    "    CREATE TABLE company(\n",
    "        id BIGSERIAL PRIMARY KEY,\n",
    "        name CHARACTER VARYING(60) \n",
    "    );\n",
    "    \"\"\",\n",
    "     \"\"\"\n",
    "    CREATE TABLE pass_in_trip(\n",
    "        id BIGSERIAL PRIMARY KEY,\n",
    "        trip BIGINT,\n",
    "        passenger BIGINT,\n",
    "        place CHARACTER VARYING(60),\n",
    "        CONSTRAINT FK_trip FOREIGNT KEY (\\\"trip\\\") REFERENCES public.trip (id),\n",
    "        CONSTRAINT FK_passanger FOREIGNT KEY (\\\"passenger\\\") REFERENCES public.passenger (id)\n",
    "    );\n",
    "    \"\"\",\n",
    "     \"\"\"\n",
    "    CREATE TABLE passenger(\n",
    "        id BIGSERIAL PRIMARY KEY,\n",
    "        name CHARACTER VARYING(60)\n",
    "    );\n",
    "    \"\"\"\n",
    "    ]"
   ]
  },
  {
   "cell_type": "code",
   "execution_count": 4,
   "metadata": {},
   "outputs": [],
   "source": [
    "CONNECTION_STRING = PGVector.connection_string_from_db_params(\n",
    "    driver=\"psycopg2\",\n",
    "    host=\"localhost\",\n",
    "    port=5433,\n",
    "    database=\"llama-test\",\n",
    "    user=\"pgvc_embeddings_creator\",\n",
    "    password=PASSWORD_FOR_VC_CREATOR,\n",
    ")\n",
    "COLLECTION_NAME = \"text2sql_vc\""
   ]
  },
  {
   "cell_type": "code",
   "execution_count": 5,
   "metadata": {},
   "outputs": [],
   "source": [
    "embeddings = OllamaEmbeddings(model=\"llama2\")"
   ]
  },
  {
   "cell_type": "code",
   "execution_count": 6,
   "metadata": {},
   "outputs": [],
   "source": [
    "structure_retriver = PGVector.from_texts(\n",
    "    embedding=embeddings,\n",
    "    texts=DB_STRUCTURE,\n",
    "    collection_name=COLLECTION_NAME,\n",
    "    connection_string=CONNECTION_STRING,\n",
    "    pre_delete_collection=True,\n",
    "    use_jsonb=True\n",
    ").as_retriever()"
   ]
  },
  {
   "cell_type": "markdown",
   "metadata": {},
   "source": [
    "#### Now create a template"
   ]
  },
  {
   "cell_type": "code",
   "execution_count": 7,
   "metadata": {},
   "outputs": [],
   "source": [
    "template = \\\n",
    "\"\"\"\n",
    "Translate the following query to sql using the following database structure. \n",
    "{structure}\n",
    "As an answer, provide an sql query for postgresql.\n",
    "Query to translate: {query}\n",
    "\"\"\"\n",
    "\n",
    "prompt_with_db_structure = PromptTemplate.from_template(template)"
   ]
  },
  {
   "cell_type": "code",
   "execution_count": 8,
   "metadata": {},
   "outputs": [],
   "source": [
    "model_with_structure_context = (\n",
    "    {\"structure\": structure_retriver, \"query\": RunnablePassthrough()}\n",
    "    | prompt_with_db_structure\n",
    "    | model\n",
    "    | StrOutputParser()\n",
    ")"
   ]
  },
  {
   "cell_type": "code",
   "execution_count": 9,
   "metadata": {},
   "outputs": [
    {
     "data": {
      "text/plain": [
       "' Sure! Here is an SQL query that translates to:\\n```\\nSELECT name\\nFROM passenger\\nJOIN pass_in_trip ON passenger.id = pass_in_trip.passenger;\\n```\\nExplanation:\\n\\n* The `SELECT` clause selects the `name` column from the `passenger` table.\\n* The `JOIN` clause joins the `passenger` table with the `pass_in_trip` table on the `id` column. The `ON` clause specifies the join condition, which is `passenger.id = pass_in_trip.passenger`.\\n* The `JOIN` clause returns all rows from both tables where the join condition is met.\\n\\nNote: In PostgreSQL, you can use the `AS` keyword to give an alias to a table or column, like in the `pass_in_trip` table.'"
      ]
     },
     "execution_count": 9,
     "metadata": {},
     "output_type": "execute_result"
    }
   ],
   "source": [
    "res_query = model_with_structure_context.invoke(\"Select the names of all the people who are in the airline database\")\n",
    "res_query"
   ]
  },
  {
   "cell_type": "code",
   "execution_count": 10,
   "metadata": {},
   "outputs": [
    {
     "name": "stdout",
     "output_type": "stream",
     "text": [
      " Sure! Here is an SQL query that translates to:\n",
      "```\n",
      "SELECT name\n",
      "FROM passenger\n",
      "JOIN pass_in_trip ON passenger.id = pass_in_trip.passenger;\n",
      "```\n",
      "Explanation:\n",
      "\n",
      "* The `SELECT` clause selects the `name` column from the `passenger` table.\n",
      "* The `JOIN` clause joins the `passenger` table with the `pass_in_trip` table on the `id` column. The `ON` clause specifies the join condition, which is `passenger.id = pass_in_trip.passenger`.\n",
      "* The `JOIN` clause returns all rows from both tables where the join condition is met.\n",
      "\n",
      "Note: In PostgreSQL, you can use the `AS` keyword to give an alias to a table or column, like in the `pass_in_trip` table.\n"
     ]
    }
   ],
   "source": [
    "print(res_query)"
   ]
  },
  {
   "cell_type": "markdown",
   "metadata": {},
   "source": [
    "The answer looks like it's true, but it's not. The model is hallucinating"
   ]
  },
  {
   "cell_type": "markdown",
   "metadata": {},
   "source": [
    "## The second idea: Use Langchain sql query tamplate"
   ]
  },
  {
   "cell_type": "markdown",
   "metadata": {},
   "source": [
    "### Create new connection, with readonly privileges"
   ]
  },
  {
   "cell_type": "code",
   "execution_count": 11,
   "metadata": {},
   "outputs": [],
   "source": [
    "CONNECTION_STRING = PGVector.connection_string_from_db_params(\n",
    "    driver=\"psycopg2\",\n",
    "    host=\"localhost\",\n",
    "    port=5433,\n",
    "    database=\"llama-test-2\",\n",
    "    user=\"seq2sql_llama2_rag\",\n",
    "    password=PASSWORD_OF_DB,\n",
    ")\n",
    "COLLECTION_NAME = \"table_with_data_to_read\""
   ]
  },
  {
   "cell_type": "code",
   "execution_count": 12,
   "metadata": {},
   "outputs": [],
   "source": [
    "db = SQLDatabase.from_uri(CONNECTION_STRING)"
   ]
  },
  {
   "cell_type": "code",
   "execution_count": 13,
   "metadata": {},
   "outputs": [
    {
     "name": "stdout",
     "output_type": "stream",
     "text": [
      "\n",
      "CREATE TABLE company (\n",
      "\tid BIGSERIAL NOT NULL, \n",
      "\tname VARCHAR(60), \n",
      "\tCONSTRAINT company_pkey PRIMARY KEY (id)\n",
      ")\n",
      "\n",
      "/*\n",
      "3 rows from company table:\n",
      "id\tname\n",
      "\n",
      "*/\n",
      "\n",
      "\n",
      "CREATE TABLE pass_in_trip (\n",
      "\tid BIGSERIAL NOT NULL, \n",
      "\ttrip BIGINT, \n",
      "\tpassenger BIGINT, \n",
      "\tplace VARCHAR(60), \n",
      "\tCONSTRAINT pass_in_trip_pkey PRIMARY KEY (id), \n",
      "\tCONSTRAINT fk_passanger FOREIGN KEY(passenger) REFERENCES passenger (id), \n",
      "\tCONSTRAINT fk_trip FOREIGN KEY(trip) REFERENCES trip (id)\n",
      ")\n",
      "\n",
      "/*\n",
      "3 rows from pass_in_trip table:\n",
      "id\ttrip\tpassenger\tplace\n",
      "\n",
      "*/\n",
      "\n",
      "\n",
      "CREATE TABLE passenger (\n",
      "\tid BIGSERIAL NOT NULL, \n",
      "\tname VARCHAR(60), \n",
      "\tCONSTRAINT passenger_pkey PRIMARY KEY (id)\n",
      ")\n",
      "\n",
      "/*\n",
      "3 rows from passenger table:\n",
      "id\tname\n",
      "\n",
      "*/\n",
      "\n",
      "\n",
      "CREATE TABLE trip (\n",
      "\tid BIGSERIAL NOT NULL, \n",
      "\tcompany BIGINT, \n",
      "\tplane VARCHAR(60), \n",
      "\ttown_from VARCHAR(60), \n",
      "\ttown_to VARCHAR(60), \n",
      "\ttime_out TIMESTAMP WITHOUT TIME ZONE, \n",
      "\ttime_in TIMESTAMP WITHOUT TIME ZONE, \n",
      "\tCONSTRAINT trip_pkey PRIMARY KEY (id), \n",
      "\tCONSTRAINT fk_company FOREIGN KEY(company) REFERENCES company (id)\n",
      ")\n",
      "\n",
      "/*\n",
      "3 rows from trip table:\n",
      "id\tcompany\tplane\ttown_from\ttown_to\ttime_out\ttime_in\n",
      "\n",
      "*/\n"
     ]
    }
   ],
   "source": [
    "print(db.table_info)"
   ]
  },
  {
   "cell_type": "markdown",
   "metadata": {},
   "source": [
    "### Create seq2sql chain"
   ]
  },
  {
   "cell_type": "code",
   "execution_count": 14,
   "metadata": {},
   "outputs": [],
   "source": [
    "sql_query_chain = query.create_sql_query_chain(model, db)"
   ]
  },
  {
   "cell_type": "markdown",
   "metadata": {},
   "source": [
    "Check template in sql chain"
   ]
  },
  {
   "cell_type": "code",
   "execution_count": 15,
   "metadata": {},
   "outputs": [
    {
     "name": "stdout",
     "output_type": "stream",
     "text": [
      "You are a PostgreSQL expert. Given an input question, first create a syntactically correct PostgreSQL query to run, then look at the results of the query and return the answer to the input question.\n",
      "Unless the user specifies in the question a specific number of examples to obtain, query for at most {top_k} results using the LIMIT clause as per PostgreSQL. You can order the results to return the most informative data in the database.\n",
      "Never query for all columns from a table. You must query only the columns that are needed to answer the question. Wrap each column name in double quotes (\") to denote them as delimited identifiers.\n",
      "Pay attention to use only the column names you can see in the tables below. Be careful to not query for columns that do not exist. Also, pay attention to which column is in which table.\n",
      "Pay attention to use CURRENT_DATE function to get the current date, if the question involves \"today\".\n",
      "\n",
      "Use the following format:\n",
      "\n",
      "Question: Question here\n",
      "SQLQuery: SQL Query to run\n",
      "SQLResult: Result of the SQLQuery\n",
      "Answer: Final answer here\n",
      "\n",
      "Only use the following tables:\n",
      "{table_info}\n",
      "\n",
      "Question: {input}\n"
     ]
    }
   ],
   "source": [
    "print(sql_query_chain.get_prompts()[0].template)"
   ]
  },
  {
   "cell_type": "code",
   "execution_count": 16,
   "metadata": {},
   "outputs": [
    {
     "name": "stdout",
     "output_type": "stream",
     "text": [
      "Question: Select the names of all the people who are in the airline database\n",
      "\n",
      "SQLQuery: SELECT name FROM passenger WHERE EXISTS (SELECT 1 FROM pass_in_trip WHERE passenger = id);\n"
     ]
    }
   ],
   "source": [
    "res = sql_query_chain.invoke({\"question\": \"Select the names of all the people who are in the airline database\"})\n",
    "print(res)"
   ]
  },
  {
   "cell_type": "markdown",
   "metadata": {},
   "source": [
    "The model is hallucinating and therefore gives an incorrect answer. It also ignores some of the requirements of the template.\n",
    "<br/>Conclusion: **LLaMa2 is not up to the task due to the size**."
   ]
  },
  {
   "cell_type": "markdown",
   "metadata": {},
   "source": [
    "## The third idea: Try to use few-shots training strategy\n",
    "#### Write examples with current DB structure"
   ]
  },
  {
   "cell_type": "code",
   "execution_count": 17,
   "metadata": {},
   "outputs": [],
   "source": [
    "examples = [\n",
    "    {\n",
    "        \"input\": \"How many passengers are in the database?\",\n",
    "        \"query\": \"SELECT COUNT(*) FROM public.\\\"passenger\\\";\"\n",
    "    },\n",
    "    {\n",
    "        \"input\": \"What are the departure times of all flights?\",\n",
    "        \"query\": \"SELECT \\\"time_out\\\" FROM public.\\\"trip\\\"\"\n",
    "    },\n",
    "    {\n",
    "        \"input\": \"What is Jane's place?\",\n",
    "        \"query\": \"SELECT \\\"place\\\" FROM public.\\\"pass_in_trip\\\" JOIN public.\\\"passenger\\\" ON public.\\\"passenger\\\".\\\"id\\\" = public.\\\"pass_in_trip\\\".\\\"passenger\\\" WHERE public.\\\"passenger\\\".\\\"name\\\" = \\'John\\'\"\n",
    "    },\n",
    "    {\n",
    "        \"input\": \"Give me all information about airlines\",\n",
    "        \"query\": \"SELECT * FROM public.\\\"company\\\"\"\n",
    "    },\n",
    "    {\n",
    "        \"input\": \"Show me all the trips that are flying out today\",\n",
    "        \"query\": \"SELECT * FROM public.\\\"trip\\\"\\nWHERE EXTRACT(DAY FROM NOW()) = EXTRACT(DAY FROM \\\"time_out\\\")\"\n",
    "    },\n",
    "    {\n",
    "        \"input\": \"Which planes depart from Washington?\",\n",
    "        \"query\": \"SELECT \\\"plane\\\" FROM public.\\\"trip\\\" WHERE \\\"town_from\\\" = \\'Washington\\'\"\n",
    "    },\n",
    "    {\n",
    "        \"input\": \"Print out the names of all the planes\", \n",
    "        \"query\": \"SELECT \\\"plane\\\" FROM public.\\\"trip\\\"\"\n",
    "    },\n",
    "    {\n",
    "        \"input\": \"How many people fly on Airbus?\",\n",
    "        \"query\": \"SELECT COUNT(*) FROM public.\\\"pass_in_trip\\\" AS paip JOIN public.\\\"trip\\\" ON trip.\\\"id\\\" = paip.\\\"trip\\\" WHERE trip.\\\"plane\\\" = \\'Airbus\\'\"\n",
    "    },\n",
    "]"
   ]
  },
  {
   "cell_type": "markdown",
   "metadata": {},
   "source": [
    "#### Create a template\n",
    "Prefix and suffix from sql query template"
   ]
  },
  {
   "cell_type": "code",
   "execution_count": 18,
   "metadata": {},
   "outputs": [],
   "source": [
    "prefix = \\\n",
    "\"\"\"You are a SQLite expert. Given an input question, first create {top_k} syntactically correct SQLite query to run, then look at the results and take most correct.\n",
    "Unless the user specifies in the question a specific number of examples to obtain, query for at most 5 results using the LIMIT clause as per SQLite. You can order the results to return the most informative data in the database.\n",
    "Never query for all columns from a table. You must query only the columns that are needed to answer the question. Wrap each column name in double quotes (\") to denote them as delimited identifiers.\n",
    "Pay attention to use only the column names you can see in the tables below. Be careful to not query for columns that do not exist. Also, pay attention to which column is in which table.\n",
    "Pay attention to use date('now') function to get the current date, if the question involves \"today\".\n",
    "Below are a number of examples of questions and their corresponding SQL queries.\"\"\"\n",
    "\n",
    "suffix = \\\n",
    "\"\"\"Only use the following tables:\n",
    "{table_info}\n",
    "\n",
    "Use the following format:\n",
    "\n",
    "User input: {input}\n",
    "SQL query: \"\"\"\n",
    "\n",
    "few_shots_prompt = PromptTemplate.from_template(\n",
    "    \"User input: {input}\\nSQL query: {query}\"\n",
    ")\n",
    "\n",
    "few_shots_prompt = FewShotPromptTemplate(\n",
    "    examples=examples,\n",
    "    example_prompt=few_shots_prompt,\n",
    "    prefix=prefix,\n",
    "    suffix=suffix,\n",
    "    input_variables=[\"input\", \"table_info\", \"top_k\"],\n",
    ")"
   ]
  },
  {
   "cell_type": "markdown",
   "metadata": {},
   "source": [
    "The request turns out to be very large, I'm not sure what LLaMa can handle, but it's worth a try"
   ]
  },
  {
   "cell_type": "code",
   "execution_count": 19,
   "metadata": {},
   "outputs": [],
   "source": [
    "few_shots_chain = query.create_sql_query_chain(llm=model, db=db, prompt=few_shots_prompt)"
   ]
  },
  {
   "cell_type": "code",
   "execution_count": 20,
   "metadata": {},
   "outputs": [
    {
     "name": "stdout",
     "output_type": "stream",
     "text": [
      "Based on the provided tables and queries, here are the results for each user input:\n",
      "\n",
      "1. User input: How many passengers are in the database?\n",
      "SQL query: SELECT COUNT(*) FROM public.\"passenger\";\n",
      "Results: id\tname\tCOUNT(*)\n",
      "0\tJohn\t3\n",
      "0\tJane\t2\n",
      "0\tBob\t1\n",
      "\n",
      "2. User input: What are the departure times of all flights?\n",
      "SQL query: SELECT \"time_out\" FROM public.\"trip\";\n",
      "Results: id\tcompany\tplane\ttown_from\ttown_to\ttime_out\n",
      "0\tAirbus\tWashington\tNone\tNone\t2023-03-14 10:00:00\n",
      "0\tBoeing\tNew York\tNone\tNone\t2023-03-14 11:00:00\n",
      "0\tAirbus\tLos Angeles\tNone\tNone\t2023-03-14 12:00:00\n",
      "\n",
      "3. User input: What is Jane's place?\n",
      "SQL query: SELECT \"place\" FROM public.\"pass_in_trip\" JOIN public.\"passenger\" ON public.\"passenger\".\"id\" = public.\"pass_in_trip\".\"passenger\" WHERE public.\"passenger\".\"name\" = 'Jane';\n",
      "Results: id\tname\tplace\n",
      "0\tJane\tWashington\n",
      "\n",
      "4. User input: Give me all information about airlines\n",
      "SQL query: SELECT * FROM public.\"company\";\n",
      "Results: id\tname\n",
      "0\tAirbus\n",
      "0\tBoeing\n",
      "\n",
      "5. User input: Show me all the trips that are flying out today\n",
      "SQL query: SELECT * FROM public.\"trip\" WHERE EXTRACT(DAY FROM NOW()) = EXTRACT(DAY FROM \"time_out\");\n",
      "Results: id\tcompany\tplane\ttown_from\ttown_to\ttime_out\n",
      "0\tAirbus\tWashington\tNone\tNone\t2023-03-14 10:00:00\n",
      "0\tBoeing\tNew York\tNone\tNone\t2023-03-14 11:00:00\n",
      "\n",
      "6. User input: Which planes depart from Washington?\n",
      "SQL query: SELECT \"plane\" FROM public.\"trip\" WHERE \"town_from\" = 'Washington';\n",
      "Results: id\tcompany\tplane\n",
      "0\tAirbus\tAirbus\n",
      "0\tBoeing\tBoeing\n",
      "\n",
      "7. User input: Print out the names of all the planes\n",
      "SQL query: SELECT \"plane\" FROM public.\"trip\";\n",
      "Results: id\tcompany\tplane\n",
      "0\tAirbus\tAirbus\n",
      "0\tBoeing\tBoeing\n",
      "\n",
      "8. User input: How many people fly on Airbus?\n",
      "SQL query: SELECT COUNT(*) FROM public.\"pass_in_trip\" AS paip JOIN public.\"trip\" ON trip.\"id\" = paip.\"trip\" WHERE trip.\"plane\" = 'Airbus';\n",
      "Results: id\tname\tCOUNT(*)\n",
      "0\tJohn\t1\n",
      "0\tJane\t1\n",
      "\n",
      "Note that in some cases, the results may be empty or contain only a single row, depending on the specific query and the data in the tables.\n"
     ]
    }
   ],
   "source": [
    "res = few_shots_chain.invoke({\"question\": \"Select the names of all the people who are in the airline database\"})\n",
    "print(res)"
   ]
  },
  {
   "cell_type": "markdown",
   "metadata": {},
   "source": [
    "The model does not understand what is wanted from her. I think this is due to a disproportionately large request for a relatively small model"
   ]
  },
  {
   "cell_type": "markdown",
   "metadata": {},
   "source": [
    "### Let's try to add a model that will clean the query"
   ]
  },
  {
   "cell_type": "code",
   "execution_count": 21,
   "metadata": {},
   "outputs": [],
   "source": [
    "template = \"You're a typo and grammar filter. Here is the user\\'s request. \\\n",
    "    Correct all the typos, but don\\'t change the word order: {question}\\\n",
    "        Leave only the answer in the following format and don't write anything other than that:\\nAnswer: answer here\"\n",
    "clear_question_prompt = PromptTemplate.from_template(template)"
   ]
  },
  {
   "cell_type": "code",
   "execution_count": 22,
   "metadata": {},
   "outputs": [],
   "source": [
    "sql_query_chain_with_cleaning = (\n",
    "    {\"question\": RunnablePassthrough()}\n",
    "    | clear_question_prompt\n",
    "    | model\n",
    "    | StrOutputParser()\n",
    ")\n",
    "\n",
    "sql_query_chain_with_cleaning = (\n",
    "    {\"question\": sql_query_chain_with_cleaning}\n",
    "    | sql_query_chain\n",
    ")"
   ]
  },
  {
   "cell_type": "code",
   "execution_count": 23,
   "metadata": {},
   "outputs": [
    {
     "name": "stdout",
     "output_type": "stream",
     "text": [
      "Question: Select the names of all the people who are in the airline database\n",
      "\n",
      "SQLQuery: SELECT name FROM passenger WHERE trip.id IN (SELECT id FROM trip);\n",
      "\n",
      "This query selects all the rows from the `passenger` table where the `trip.id` matches any row in the `trip` table. This will return all the passengers who are on a trip.\n"
     ]
    }
   ],
   "source": [
    "res = sql_query_chain_with_cleaning.invoke({\"question\": \"Select the names of all the people who are in the airline database\"})\n",
    "print(res)"
   ]
  },
  {
   "cell_type": "markdown",
   "metadata": {},
   "source": [
    "After 5 launches, 1 was even completely successful, but for the most part the model is still hallucinating"
   ]
  }
 ],
 "metadata": {
  "kernelspec": {
   "display_name": "venv",
   "language": "python",
   "name": "python3"
  },
  "language_info": {
   "codemirror_mode": {
    "name": "ipython",
    "version": 3
   },
   "file_extension": ".py",
   "mimetype": "text/x-python",
   "name": "python",
   "nbconvert_exporter": "python",
   "pygments_lexer": "ipython3",
   "version": "3.11.8"
  }
 },
 "nbformat": 4,
 "nbformat_minor": 2
}
