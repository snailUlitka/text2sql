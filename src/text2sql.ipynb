{
 "cells": [
  {
   "cell_type": "markdown",
   "metadata": {},
   "source": [
    "# text2sql based on llama2\n",
    "## Task: To get an sql query for a given database from a natural language query\n",
    "\n",
    "(This file is for experimentation and model creation)"
   ]
  },
  {
   "cell_type": "markdown",
   "metadata": {},
   "source": [
    "### Imports"
   ]
  },
  {
   "cell_type": "code",
   "execution_count": 1,
   "metadata": {},
   "outputs": [],
   "source": [
    "from langchain_community.llms.ollama import Ollama\n",
    "\n",
    "from langchain_community.vectorstores.pgvector import PGVector\n",
    "\n",
    "from langchain_community.embeddings.ollama import OllamaEmbeddings\n",
    "from langchain_text_splitters import CharacterTextSplitter\n",
    "\n",
    "from langchain_core.prompts import ChatPromptTemplate\n",
    "from langchain_core.runnables import RunnablePassthrough\n",
    "from langchain_core.output_parsers import StrOutputParser\n",
    "\n",
    "from pswrd import PASSWORD_OF_DB"
   ]
  },
  {
   "cell_type": "markdown",
   "metadata": {},
   "source": [
    "### Download llama2"
   ]
  },
  {
   "cell_type": "code",
   "execution_count": 2,
   "metadata": {},
   "outputs": [],
   "source": [
    "model = Ollama(model=\"llama2\")"
   ]
  },
  {
   "cell_type": "markdown",
   "metadata": {},
   "source": [
    "## The first idea:\n",
    "Is add a **prompt template** with the context of the database structure and a query for NL to `llama2`"
   ]
  },
  {
   "cell_type": "markdown",
   "metadata": {},
   "source": [
    "#### Firstly add DB structure"
   ]
  },
  {
   "cell_type": "code",
   "execution_count": 3,
   "metadata": {},
   "outputs": [],
   "source": [
    "DB_STRUCTURE = \\\n",
    "    [\"\"\"\n",
    "    CREATE TABLE trip(\n",
    "        id BIGSERIAL PRIMARY KEY,\n",
    "        company BIGINT, \n",
    "        plane CHARACTER VARYING(60),\n",
    "        town_from CHARACTER VARYING(60),\n",
    "        town_to CHARACTER VARYING(60),\n",
    "        time_out TIMESTAMP,\n",
    "        time_in TIMESTAMP,\n",
    "        CONSTRAINT FK_company FOREIGNT KEY (\\\"company\\\") REFERENCES public.company (id)\n",
    "    ); \n",
    "    \"\"\",\n",
    "     \"\"\"\n",
    "    CREATE TABLE company(\n",
    "        id BIGSERIAL PRIMARY KEY,\n",
    "        name CHARACTER VARYING(60) \n",
    "    );\n",
    "    \"\"\",\n",
    "     \"\"\"\n",
    "    CREATE TABLE pass_in_trip(\n",
    "        id BIGSERIAL PRIMARY KEY,\n",
    "        trip BIGINT,\n",
    "        passenger BIGINT,\n",
    "        place CHARACTER VARYING(60),\n",
    "        CONSTRAINT FK_trip FOREIGNT KEY (\\\"trip\\\") REFERENCES public.trip (id),\n",
    "        CONSTRAINT FK_passanger FOREIGNT KEY (\\\"passenger\\\") REFERENCES public.passenger (id)\n",
    "    );\n",
    "    \"\"\",\n",
    "     \"\"\"\n",
    "    CREATE TABLE passenger(\n",
    "        id BIGSERIAL PRIMARY KEY,\n",
    "        name CHARACTER VARYING(60)\n",
    "    );\n",
    "    \"\"\"\n",
    "    ]"
   ]
  },
  {
   "cell_type": "code",
   "execution_count": 4,
   "metadata": {},
   "outputs": [],
   "source": [
    "CONNECTION_STRING = PGVector.connection_string_from_db_params(\n",
    "    driver=\"psycopg2\",\n",
    "    host=\"localhost\",\n",
    "    port=\"5433\",\n",
    "    database=\"llama-test-vc\",\n",
    "    user=\"postgres\",\n",
    "    password=PASSWORD_OF_DB,\n",
    ")\n",
    "COLLECTION_NAME = \"text2sql_vc\""
   ]
  },
  {
   "cell_type": "code",
   "execution_count": 5,
   "metadata": {},
   "outputs": [],
   "source": [
    "embeddings = OllamaEmbeddings(model=\"llama2\")"
   ]
  },
  {
   "cell_type": "code",
   "execution_count": 6,
   "metadata": {},
   "outputs": [],
   "source": [
    "structure_retriver = PGVector.from_texts(\n",
    "    embedding=embeddings,\n",
    "    texts=DB_STRUCTURE,\n",
    "    collection_name=COLLECTION_NAME,\n",
    "    connection_string=CONNECTION_STRING,\n",
    "    pre_delete_collection=True,\n",
    "    use_jsonb=True\n",
    ").as_retriever()"
   ]
  },
  {
   "cell_type": "markdown",
   "metadata": {},
   "source": [
    "#### Now create a template"
   ]
  },
  {
   "cell_type": "code",
   "execution_count": 7,
   "metadata": {},
   "outputs": [],
   "source": [
    "template = \\\n",
    "\"\"\"\n",
    "Translate the following query to sql using the following database structure. \n",
    "{structure}\n",
    "As an answer, provide an sql query for postgresql.\n",
    "Query to translate: {query}\n",
    "\"\"\"\n",
    "\n",
    "prompt_with_db_structure = ChatPromptTemplate.from_template(template)"
   ]
  },
  {
   "cell_type": "code",
   "execution_count": 8,
   "metadata": {},
   "outputs": [],
   "source": [
    "model_with_structure_context = (\n",
    "    {\"structure\": structure_retriver, \"query\": RunnablePassthrough()}\n",
    "    | prompt_with_db_structure\n",
    "    | model\n",
    "    | StrOutputParser()\n",
    ")"
   ]
  },
  {
   "cell_type": "code",
   "execution_count": 9,
   "metadata": {},
   "outputs": [
    {
     "data": {
      "text/plain": [
       "\" Sure! Here's an SQL query that translates the given query for a PostgreSQL database:\\n```sql\\nSELECT name\\nFROM passenger\\nJOIN trip ON passenger.id = trip.passenger\\nJOIN company ON trip.company = company.id;\\n```\\nExplanation:\\n\\n* The `SELECT` clause selects the `name` column from the `passenger`, `trip`, and `company` tables.\\n* The `JOIN` clause performs a left outer join between the `passenger` and `trip` tables on the `id` column, and then performs another left outer join between the result set and the `company` table on the `company` column. This allows us to retrieve the names of all the people who are in the airline database, as well as their corresponding company information.\\n\\nNote: In PostgreSQL, the `JOIN` clause can be written in several ways, including `JOIN`, `INNER JOIN`, `LEFT OUTER JOIN`, etc. The query above uses a left outer join to ensure that all rows from the `passenger` and `trip` tables are included in the result set, even if they have no matching row in the `company` table.\""
      ]
     },
     "execution_count": 9,
     "metadata": {},
     "output_type": "execute_result"
    }
   ],
   "source": [
    "res_query = model_with_structure_context.invoke(\"Select the names of all the people who are in the airline database\")\n",
    "res_query"
   ]
  },
  {
   "cell_type": "code",
   "execution_count": 10,
   "metadata": {},
   "outputs": [
    {
     "name": "stdout",
     "output_type": "stream",
     "text": [
      " Sure! Here's an SQL query that translates the given query for a PostgreSQL database:\n",
      "```sql\n",
      "SELECT name\n",
      "FROM passenger\n",
      "JOIN trip ON passenger.id = trip.passenger\n",
      "JOIN company ON trip.company = company.id;\n",
      "```\n",
      "Explanation:\n",
      "\n",
      "* The `SELECT` clause selects the `name` column from the `passenger`, `trip`, and `company` tables.\n",
      "* The `JOIN` clause performs a left outer join between the `passenger` and `trip` tables on the `id` column, and then performs another left outer join between the result set and the `company` table on the `company` column. This allows us to retrieve the names of all the people who are in the airline database, as well as their corresponding company information.\n",
      "\n",
      "Note: In PostgreSQL, the `JOIN` clause can be written in several ways, including `JOIN`, `INNER JOIN`, `LEFT OUTER JOIN`, etc. The query above uses a left outer join to ensure that all rows from the `passenger` and `trip` tables are included in the result set, even if they have no matching row in the `company` table.\n"
     ]
    }
   ],
   "source": [
    "print(res_query)"
   ]
  },
  {
   "cell_type": "markdown",
   "metadata": {},
   "source": [
    "The answer looks like it's true, but it's not. The model is hallucinating"
   ]
  }
 ],
 "metadata": {
  "kernelspec": {
   "display_name": "venv",
   "language": "python",
   "name": "python3"
  },
  "language_info": {
   "codemirror_mode": {
    "name": "ipython",
    "version": 3
   },
   "file_extension": ".py",
   "mimetype": "text/x-python",
   "name": "python",
   "nbconvert_exporter": "python",
   "pygments_lexer": "ipython3",
   "version": "3.11.8"
  }
 },
 "nbformat": 4,
 "nbformat_minor": 2
}
