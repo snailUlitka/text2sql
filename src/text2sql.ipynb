{
 "cells": [
  {
   "cell_type": "markdown",
   "metadata": {},
   "source": [
    "# text2sql based on llama2\n",
    "## Task: To get an sql query for a given database from a natural language query\n",
    "\n",
    "Build a chain with:<br/> Question => LLM => SQL => DB => LLM => Answer\n",
    "\n",
    "(This file is for experimentation and model creation)"
   ]
  },
  {
   "cell_type": "markdown",
   "metadata": {},
   "source": [
    "### Imports"
   ]
  },
  {
   "cell_type": "code",
   "execution_count": 1,
   "metadata": {},
   "outputs": [],
   "source": [
    "from langchain_community.llms.ollama import Ollama\n",
    "\n",
    "from langchain_community.vectorstores.pgvector import PGVector\n",
    "from langchain_community.utilities.sql_database import SQLDatabase\n",
    "\n",
    "from langchain_community.embeddings.ollama import OllamaEmbeddings\n",
    "\n",
    "from langchain_core.prompts import ChatPromptTemplate\n",
    "from langchain_core.runnables import RunnablePassthrough\n",
    "from langchain_core.output_parsers import StrOutputParser\n",
    "\n",
    "from langchain.chains.sql_database import query\n",
    "\n",
    "from pswrd import PASSWORD_OF_DB\n",
    "from pswrd import PASSWORD_FOR_VC_CREATOR"
   ]
  },
  {
   "cell_type": "markdown",
   "metadata": {},
   "source": [
    "### Download llama2"
   ]
  },
  {
   "cell_type": "code",
   "execution_count": 2,
   "metadata": {},
   "outputs": [],
   "source": [
    "model = Ollama(model=\"llama2\", temperature=0)"
   ]
  },
  {
   "cell_type": "markdown",
   "metadata": {},
   "source": [
    "## The first idea:\n",
    "Is add a **prompt template** with the context of the database structure and a query for NL to `llama2`"
   ]
  },
  {
   "cell_type": "markdown",
   "metadata": {},
   "source": [
    "#### Firstly add DB structure"
   ]
  },
  {
   "cell_type": "code",
   "execution_count": 3,
   "metadata": {},
   "outputs": [],
   "source": [
    "DB_STRUCTURE = \\\n",
    "    [\"\"\"\n",
    "    CREATE TABLE trip(\n",
    "        id BIGSERIAL PRIMARY KEY,\n",
    "        company BIGINT, \n",
    "        plane CHARACTER VARYING(60),\n",
    "        town_from CHARACTER VARYING(60),\n",
    "        town_to CHARACTER VARYING(60),\n",
    "        time_out TIMESTAMP,\n",
    "        time_in TIMESTAMP,\n",
    "        CONSTRAINT FK_company FOREIGNT KEY (\\\"company\\\") REFERENCES public.company (id)\n",
    "    ); \n",
    "    \"\"\",\n",
    "     \"\"\"\n",
    "    CREATE TABLE company(\n",
    "        id BIGSERIAL PRIMARY KEY,\n",
    "        name CHARACTER VARYING(60) \n",
    "    );\n",
    "    \"\"\",\n",
    "     \"\"\"\n",
    "    CREATE TABLE pass_in_trip(\n",
    "        id BIGSERIAL PRIMARY KEY,\n",
    "        trip BIGINT,\n",
    "        passenger BIGINT,\n",
    "        place CHARACTER VARYING(60),\n",
    "        CONSTRAINT FK_trip FOREIGNT KEY (\\\"trip\\\") REFERENCES public.trip (id),\n",
    "        CONSTRAINT FK_passanger FOREIGNT KEY (\\\"passenger\\\") REFERENCES public.passenger (id)\n",
    "    );\n",
    "    \"\"\",\n",
    "     \"\"\"\n",
    "    CREATE TABLE passenger(\n",
    "        id BIGSERIAL PRIMARY KEY,\n",
    "        name CHARACTER VARYING(60)\n",
    "    );\n",
    "    \"\"\"\n",
    "    ]"
   ]
  },
  {
   "cell_type": "code",
   "execution_count": 4,
   "metadata": {},
   "outputs": [],
   "source": [
    "CONNECTION_STRING = PGVector.connection_string_from_db_params(\n",
    "    driver=\"psycopg2\",\n",
    "    host=\"localhost\",\n",
    "    port=5433,\n",
    "    database=\"llama-test\",\n",
    "    user=\"pgvc_embeddings_creator\",\n",
    "    password=PASSWORD_FOR_VC_CREATOR,\n",
    ")\n",
    "COLLECTION_NAME = \"text2sql_vc\""
   ]
  },
  {
   "cell_type": "code",
   "execution_count": 5,
   "metadata": {},
   "outputs": [],
   "source": [
    "embeddings = OllamaEmbeddings(model=\"llama2\")"
   ]
  },
  {
   "cell_type": "code",
   "execution_count": 6,
   "metadata": {},
   "outputs": [],
   "source": [
    "structure_retriver = PGVector.from_texts(\n",
    "    embedding=embeddings,\n",
    "    texts=DB_STRUCTURE,\n",
    "    collection_name=COLLECTION_NAME,\n",
    "    connection_string=CONNECTION_STRING,\n",
    "    pre_delete_collection=True,\n",
    "    use_jsonb=True\n",
    ").as_retriever()"
   ]
  },
  {
   "cell_type": "markdown",
   "metadata": {},
   "source": [
    "#### Now create a template"
   ]
  },
  {
   "cell_type": "code",
   "execution_count": 7,
   "metadata": {},
   "outputs": [],
   "source": [
    "template = \\\n",
    "\"\"\"\n",
    "Translate the following query to sql using the following database structure. \n",
    "{structure}\n",
    "As an answer, provide an sql query for postgresql.\n",
    "Query to translate: {query}\n",
    "\"\"\"\n",
    "\n",
    "prompt_with_db_structure = ChatPromptTemplate.from_template(template)"
   ]
  },
  {
   "cell_type": "code",
   "execution_count": 8,
   "metadata": {},
   "outputs": [],
   "source": [
    "model_with_structure_context = (\n",
    "    {\"structure\": structure_retriver, \"query\": RunnablePassthrough()}\n",
    "    | prompt_with_db_structure\n",
    "    | model\n",
    "    | StrOutputParser()\n",
    ")"
   ]
  },
  {
   "cell_type": "code",
   "execution_count": 9,
   "metadata": {},
   "outputs": [
    {
     "data": {
      "text/plain": [
       "\" Sure! Here's an SQL query that translates the given query for PostgreSQL:\\n```sql\\nSELECT name\\nFROM passenger\\nJOIN trip ON passenger.id = trip.passenger\\nJOIN company ON trip.company = company.id;\\n```\\nExplanation:\\n\\n* The `SELECT` clause selects the `name` column from the `passenger`, `trip`, and `company` tables.\\n* The `JOIN` clause performs a left outer join between the `passenger` and `trip` tables on the `id` column, and then performs a left outer join between the `trip` and `company` tables on the `company` column. This allows us to retrieve the names of all the people who are in the airline database.\\n\\nNote: In PostgreSQL, the `JOIN` clause can be written using the `USING` keyword instead of `ON`. For example:\\n```sql\\nSELECT name\\nFROM passenger\\nJOIN trip USING (id)\\nJOIN company USING (id);\\n```\""
      ]
     },
     "execution_count": 9,
     "metadata": {},
     "output_type": "execute_result"
    }
   ],
   "source": [
    "res_query = model_with_structure_context.invoke(\"Select the names of all the people who are in the airline database\")\n",
    "res_query"
   ]
  },
  {
   "cell_type": "code",
   "execution_count": 10,
   "metadata": {},
   "outputs": [
    {
     "name": "stdout",
     "output_type": "stream",
     "text": [
      " Sure! Here's an SQL query that translates the given query for PostgreSQL:\n",
      "```sql\n",
      "SELECT name\n",
      "FROM passenger\n",
      "JOIN trip ON passenger.id = trip.passenger\n",
      "JOIN company ON trip.company = company.id;\n",
      "```\n",
      "Explanation:\n",
      "\n",
      "* The `SELECT` clause selects the `name` column from the `passenger`, `trip`, and `company` tables.\n",
      "* The `JOIN` clause performs a left outer join between the `passenger` and `trip` tables on the `id` column, and then performs a left outer join between the `trip` and `company` tables on the `company` column. This allows us to retrieve the names of all the people who are in the airline database.\n",
      "\n",
      "Note: In PostgreSQL, the `JOIN` clause can be written using the `USING` keyword instead of `ON`. For example:\n",
      "```sql\n",
      "SELECT name\n",
      "FROM passenger\n",
      "JOIN trip USING (id)\n",
      "JOIN company USING (id);\n",
      "```\n"
     ]
    }
   ],
   "source": [
    "print(res_query)"
   ]
  },
  {
   "cell_type": "markdown",
   "metadata": {},
   "source": [
    "The answer looks like it's true, but it's not. The model is hallucinating"
   ]
  },
  {
   "cell_type": "markdown",
   "metadata": {},
   "source": [
    "## The second idea: Use Langchain sql query tamplate"
   ]
  },
  {
   "cell_type": "markdown",
   "metadata": {},
   "source": [
    "### Create new connection, with readonly privileges"
   ]
  },
  {
   "cell_type": "code",
   "execution_count": 11,
   "metadata": {},
   "outputs": [],
   "source": [
    "CONNECTION_STRING = PGVector.connection_string_from_db_params(\n",
    "    driver=\"psycopg2\",\n",
    "    host=\"localhost\",\n",
    "    port=5433,\n",
    "    database=\"llama-test-2\",\n",
    "    user=\"seq2sql_llama2_rag\",\n",
    "    password=PASSWORD_OF_DB,\n",
    ")\n",
    "COLLECTION_NAME = \"table_with_data_to_read\""
   ]
  },
  {
   "cell_type": "code",
   "execution_count": 12,
   "metadata": {},
   "outputs": [],
   "source": [
    "db = SQLDatabase.from_uri(CONNECTION_STRING)"
   ]
  },
  {
   "cell_type": "code",
   "execution_count": 13,
   "metadata": {},
   "outputs": [
    {
     "name": "stdout",
     "output_type": "stream",
     "text": [
      "\n",
      "CREATE TABLE company (\n",
      "\tid BIGSERIAL NOT NULL, \n",
      "\tname VARCHAR(60), \n",
      "\tCONSTRAINT company_pkey PRIMARY KEY (id)\n",
      ")\n",
      "\n",
      "/*\n",
      "3 rows from company table:\n",
      "id\tname\n",
      "\n",
      "*/\n",
      "\n",
      "\n",
      "CREATE TABLE pass_in_trip (\n",
      "\tid BIGSERIAL NOT NULL, \n",
      "\ttrip BIGINT, \n",
      "\tpassenger BIGINT, \n",
      "\tplace VARCHAR(60), \n",
      "\tCONSTRAINT pass_in_trip_pkey PRIMARY KEY (id), \n",
      "\tCONSTRAINT fk_passanger FOREIGN KEY(passenger) REFERENCES passenger (id), \n",
      "\tCONSTRAINT fk_trip FOREIGN KEY(trip) REFERENCES trip (id)\n",
      ")\n",
      "\n",
      "/*\n",
      "3 rows from pass_in_trip table:\n",
      "id\ttrip\tpassenger\tplace\n",
      "\n",
      "*/\n",
      "\n",
      "\n",
      "CREATE TABLE passenger (\n",
      "\tid BIGSERIAL NOT NULL, \n",
      "\tname VARCHAR(60), \n",
      "\tCONSTRAINT passenger_pkey PRIMARY KEY (id)\n",
      ")\n",
      "\n",
      "/*\n",
      "3 rows from passenger table:\n",
      "id\tname\n",
      "\n",
      "*/\n",
      "\n",
      "\n",
      "CREATE TABLE trip (\n",
      "\tid BIGSERIAL NOT NULL, \n",
      "\tcompany BIGINT, \n",
      "\tplane VARCHAR(60), \n",
      "\ttown_from VARCHAR(60), \n",
      "\ttown_to VARCHAR(60), \n",
      "\ttime_out TIMESTAMP WITHOUT TIME ZONE, \n",
      "\ttime_in TIMESTAMP WITHOUT TIME ZONE, \n",
      "\tCONSTRAINT trip_pkey PRIMARY KEY (id), \n",
      "\tCONSTRAINT fk_company FOREIGN KEY(company) REFERENCES company (id)\n",
      ")\n",
      "\n",
      "/*\n",
      "3 rows from trip table:\n",
      "id\tcompany\tplane\ttown_from\ttown_to\ttime_out\ttime_in\n",
      "\n",
      "*/\n"
     ]
    }
   ],
   "source": [
    "print(db.table_info)"
   ]
  },
  {
   "cell_type": "markdown",
   "metadata": {},
   "source": [
    "### Create seq2sql chain"
   ]
  },
  {
   "cell_type": "code",
   "execution_count": 14,
   "metadata": {},
   "outputs": [],
   "source": [
    "sql_query_chain = query.create_sql_query_chain(model, db)"
   ]
  },
  {
   "cell_type": "markdown",
   "metadata": {},
   "source": [
    "Check template in sql chain"
   ]
  },
  {
   "cell_type": "code",
   "execution_count": 15,
   "metadata": {},
   "outputs": [
    {
     "name": "stdout",
     "output_type": "stream",
     "text": [
      "You are a PostgreSQL expert. Given an input question, first create a syntactically correct PostgreSQL query to run, then look at the results of the query and return the answer to the input question.\n",
      "Unless the user specifies in the question a specific number of examples to obtain, query for at most {top_k} results using the LIMIT clause as per PostgreSQL. You can order the results to return the most informative data in the database.\n",
      "Never query for all columns from a table. You must query only the columns that are needed to answer the question. Wrap each column name in double quotes (\") to denote them as delimited identifiers.\n",
      "Pay attention to use only the column names you can see in the tables below. Be careful to not query for columns that do not exist. Also, pay attention to which column is in which table.\n",
      "Pay attention to use CURRENT_DATE function to get the current date, if the question involves \"today\".\n",
      "\n",
      "Use the following format:\n",
      "\n",
      "Question: Question here\n",
      "SQLQuery: SQL Query to run\n",
      "SQLResult: Result of the SQLQuery\n",
      "Answer: Final answer here\n",
      "\n",
      "Only use the following tables:\n",
      "{table_info}\n",
      "\n",
      "Question: {input}\n"
     ]
    }
   ],
   "source": [
    "print(sql_query_chain.get_prompts()[0].template)"
   ]
  },
  {
   "cell_type": "code",
   "execution_count": 16,
   "metadata": {},
   "outputs": [
    {
     "name": "stdout",
     "output_type": "stream",
     "text": [
      "Question: Select the names of ALL the people who are in the airline database\n",
      "\n",
      "SQLQuery: SELECT name FROM passenger WHERE EXISTS (SELECT 1 FROM pass_in_trip WHERE passenger = id);\n"
     ]
    }
   ],
   "source": [
    "res = sql_query_chain.invoke({\"question\": \"Select the names of ALL the people who are in the airline database\"})\n",
    "print(res)"
   ]
  },
  {
   "cell_type": "markdown",
   "metadata": {},
   "source": [
    "The model is hallucinating and therefore gives an incorrect answer. It also ignores some of the requirements of the template.\n",
    "<br/>Conclusion: **LLaMa2 is not up to the task due to the size**."
   ]
  }
 ],
 "metadata": {
  "kernelspec": {
   "display_name": "venv",
   "language": "python",
   "name": "python3"
  },
  "language_info": {
   "codemirror_mode": {
    "name": "ipython",
    "version": 3
   },
   "file_extension": ".py",
   "mimetype": "text/x-python",
   "name": "python",
   "nbconvert_exporter": "python",
   "pygments_lexer": "ipython3",
   "version": "3.11.8"
  }
 },
 "nbformat": 4,
 "nbformat_minor": 2
}
