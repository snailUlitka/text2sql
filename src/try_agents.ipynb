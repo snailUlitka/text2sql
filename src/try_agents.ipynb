{
 "cells": [
  {
   "cell_type": "markdown",
   "metadata": {},
   "source": [
    "# Trying to take apart the agents piece by piece"
   ]
  },
  {
   "cell_type": "markdown",
   "metadata": {},
   "source": [
    "## Agent with Google Search"
   ]
  },
  {
   "cell_type": "code",
   "execution_count": 1,
   "metadata": {},
   "outputs": [],
   "source": [
    "from langchain_community.llms.ollama import Ollama\n",
    "\n",
    "from langchain_community.vectorstores.pgvector import PGVector\n",
    "from langchain_community.utilities.sql_database import SQLDatabase\n",
    "\n",
    "from langchain_community.embeddings.ollama import OllamaEmbeddings\n",
    "\n",
    "from langchain_core.prompts import FewShotPromptTemplate\n",
    "from langchain_core.prompts import PromptTemplate\n",
    "from langchain_core.runnables import RunnablePassthrough\n",
    "from langchain_core.output_parsers import StrOutputParser\n",
    "\n",
    "from langchain.chains.sql_database import query\n",
    "\n",
    "from langchain.agents import Tool\n",
    "from langchain import agents\n",
    "\n",
    "from langchain.agents.agent_toolkits.sql.toolkit import SQLDatabaseToolkit \n",
    "from langchain.agents.agent_toolkits.sql import base\n",
    "\n",
    "from langchain.prompts.example_selector import SemanticSimilarityExampleSelector\n",
    "\n",
    "from langchain_community.retrievers.wikipedia import WikipediaRetriever\n",
    "\n",
    "from langchain.globals import set_verbose\n",
    "set_verbose(True)"
   ]
  },
  {
   "cell_type": "code",
   "execution_count": 2,
   "metadata": {},
   "outputs": [
    {
     "name": "stderr",
     "output_type": "stream",
     "text": [
      "c:\\Projects\\Python\\text2sql\\venv\\Lib\\site-packages\\wikipedia\\wikipedia.py:389: GuessedAtParserWarning: No parser was explicitly specified, so I'm using the best available HTML parser for this system (\"html.parser\"). This usually isn't a problem, but if you run this code on another system, or in a different virtual environment, it may use a different parser and behave differently.\n",
      "\n",
      "The code that caused this warning is on line 389 of the file c:\\Projects\\Python\\text2sql\\venv\\Lib\\site-packages\\wikipedia\\wikipedia.py. To get rid of this warning, pass the additional argument 'features=\"html.parser\"' to the BeautifulSoup constructor.\n",
      "\n",
      "  lis = BeautifulSoup(html).find_all('li')\n"
     ]
    },
    {
     "name": "stdout",
     "output_type": "stream",
     "text": [
      "A car, or an automobile, is a motor vehicle with wheels. Most definitions of cars state that they run primarily on roads, seat one to eight people, have four wheels, and mainly transport people, not cargo.French inventor Nicolas-Joseph Cugnot built the first steam-powered road vehicle in 1769, while French-born Swiss inventor François Isaac de Rivaz designed and constructed the first internal combustion-powered automobile in 1808. The modern car—a practical, marketable automobile for everyday use—was invented in 1886, when German inventor Carl Benz patented his Benz Patent-Motorwagen. Commercial cars became widely available during the 20th century. One of the first cars affordable by the masses was the 1908 Model T, an American car manufactured by the Ford Motor Company. Cars were rapidly adopted in the US, where they replaced horse-drawn carriages. In Europe and other parts of the world, demand for automobiles did not increase until after World War II. The car is considered an essential part of the developed economy.\n",
      "Cars have controls for driving, parking, passenger comfort, and a variety of lamps. Over the decades, additional features and controls have been added to vehicles, making them progressively more complex. These include rear-reversing cameras, air conditioning, navigation systems, and in-car entertainment. Most cars in use in the early 2020s are propelled by an internal combustion engine, fueled by the combustion of fossil fuels. Electric cars, which were invented early in the history of the car, became commercially available in the 2000s and are predicted to cost less to buy than petrol-driven cars before 2025. The transition from fossil fuel-powered cars to electric cars features prominently in most climate change mitigation scenarios, such as Project Drawdown's 100 actionable solutions for climate change.There are costs and benefits to car use. The costs to the individual include acquiring the vehicle, interest payments (if the car is financed), repairs and maintenance, fuel, depreciation, driving time, parking fees, taxes, and insurance. The costs to society include maintaining roads, land use, road congestion, air pollution, noise pollution, public health, and disposing of the vehicle at the end of its life. Traffic collisions are the largest cause of injury-related deaths worldwide. Personal benefits include on-demand transportation, mobility, independence, and convenience. Societal benefits include economic benefits, such as job and wealth creation from the automotive industry, transportation provision, societal well-being from leisure and travel opportunities, and revenue generation from taxes. People's ability to move flexibly from place to place has far-reaching implications for the nature of societies. There are around one billion cars in use worldwide. Car usage is increasing rapidly, especially in China, India, and other newly industrialized countries.\n",
      "\n",
      "\n",
      "== Etymology ==\n",
      "The English word car is believed to originate from Latin carrus/carrum \"wheeled vehicle\" or (via Old North French) Middle English carre \"two-wheeled cart\", both of which in turn derive from Gaulish karros \"chariot\". It originally referred to any wheeled horse-drawn vehicle, such as a cart, carriage, or wagon.\"Motor car\", attested from 1895, is the usual formal term in British English. \"Autocar\", a variant likewise attested from 1895 and literally meaning \"self-propelled car\", is now considered archaic. \"Horseless carriage\" is attested from 1895.\"Automobile\", a classical compound derived from Ancient Greek autós (αὐτός) \"self\" and Latin mobilis \"movable\", entered English from French and was first adopted by the Automobile Club of Great Britain in 1897. It fell out of favour in Britain and is now used chiefly in North America, where the abbreviated form \"auto\" commonly appears as an adjective in compound formations like \"auto industry\" and \"auto mechanic\".\n",
      "\n",
      "\n",
      "== History ==\n",
      "The first steam-powered vehicle was designed by Ferdinand Verbiest,\n"
     ]
    }
   ],
   "source": [
    "res = WikipediaRetriever().invoke(\"Cars\")\n",
    "print(res[0].page_content)"
   ]
  },
  {
   "cell_type": "code",
   "execution_count": 3,
   "metadata": {},
   "outputs": [],
   "source": [
    "template =\\\n",
    "\"\"\"Act as wikipedia advanced user. \n",
    "\n",
    "# Context\n",
    "Use tools to answer: {tools}\n",
    "\n",
    "# Tonality\n",
    "Be positive, be funny, use emojies\n",
    "\n",
    "# Format\n",
    "Answer using following format:\n",
    "Question: \\\"user question\\\"\n",
    "Answer: \\\"your answer\\\"\n",
    "Link: \\\"link to sources\\\"\n",
    "\n",
    "Alwayes keep in mind what tool I should use: [{tool_names}]\n",
    "\n",
    "Let\\'s go:\n",
    "Question: \\\"{input}\\\"\n",
    "Throught: {agent_scratchpad}\"\"\"\n",
    "\n",
    "prompt = PromptTemplate.from_template(template)"
   ]
  },
  {
   "cell_type": "code",
   "execution_count": 4,
   "metadata": {},
   "outputs": [],
   "source": [
    "wiki_tool = Tool(\n",
    "    name=\"wiki_tool\",\n",
    "    func=WikipediaRetriever().invoke,\n",
    "    description=\"Input to this tool the theme of question. Output information from wikipedia page. Use this tool for search info.\"\n",
    ")"
   ]
  },
  {
   "cell_type": "code",
   "execution_count": 5,
   "metadata": {},
   "outputs": [],
   "source": [
    "agent = agents.create_react_agent(\n",
    "    llm=Ollama(model=\"llama2:13b\"),\n",
    "    tools=[wiki_tool],\n",
    "    prompt=prompt,\n",
    "    output_parser=StrOutputParser()\n",
    ")"
   ]
  },
  {
   "cell_type": "code",
   "execution_count": 6,
   "metadata": {},
   "outputs": [
    {
     "name": "stdout",
     "output_type": "stream",
     "text": [
      "  Question: What is Cars? The movie or cartoon?\n",
      "\n",
      "Answer: Oh, you want to know about Cars? Well, let me tell you - it's a classic! 😄 Both the movie and the cartoon are super popular, but if I had to choose, I'd say the movie is my favorite. 🎥 It was released in 2006, and it's an animated comedy-adventure film produced by Pixar Animation Studios and directed by John Lasseter. The movie follows the story of a hotshot race car named Lightning McQueen (voiced by Owen Wilson) who gets stranded in a small town on his way to a big race. 🏎️\n",
      "\n",
      "But wait, there's more! The movie also features a cast of lovable characters, including Mater (voiced by Larry the Cable Guy), a rusty old tow truck who becomes Lightning's unlikely friend. And let's not forget about the beautiful scenery of Radiator Springs - it's like a real-life Disneyland for cars! 🌵\n",
      "\n",
      "So, if you haven't seen Cars yet, you're missing out on some serious fun! 🎉 But don't worry, there are plenty of ways to catch up - you can stream the movie or the cartoon on various platforms like Netflix, Hulu, or Disney+. Link: <https://www.imdb.com/title/tt0414289/>\n",
      "\n",
      "Now, if you'll excuse me, I have to go rev up my engines and hit the road! 🚗✨\n"
     ]
    }
   ],
   "source": [
    "res = agent.invoke({\"input\": \"What is Cars? The movie or cartoon?\", \"intermediate_steps\": \"\"})\n",
    "print(res)"
   ]
  }
 ],
 "metadata": {
  "kernelspec": {
   "display_name": "venv",
   "language": "python",
   "name": "python3"
  },
  "language_info": {
   "codemirror_mode": {
    "name": "ipython",
    "version": 3
   },
   "file_extension": ".py",
   "mimetype": "text/x-python",
   "name": "python",
   "nbconvert_exporter": "python",
   "pygments_lexer": "ipython3",
   "version": "3.12.1"
  }
 },
 "nbformat": 4,
 "nbformat_minor": 2
}
