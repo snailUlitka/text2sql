{
 "cells": [
  {
   "cell_type": "markdown",
   "metadata": {},
   "source": [
    "# SQL agent"
   ]
  },
  {
   "cell_type": "markdown",
   "metadata": {},
   "source": [
    "## Setup"
   ]
  },
  {
   "cell_type": "markdown",
   "metadata": {},
   "source": [
    "### Imports"
   ]
  },
  {
   "cell_type": "code",
   "execution_count": 1,
   "metadata": {},
   "outputs": [],
   "source": [
    "import os\n",
    "import re\n",
    "import pickle\n",
    "from typing import (\n",
    "    List,\n",
    "    Any\n",
    ")\n",
    "\n",
    "import db_connect\n",
    "from test_data import TestData\n",
    "from prompt_generator import PromptGenerator\n",
    "from examples import FEW_SHOT_EXAMPLES\n",
    "from prompt import (\n",
    "    PREFIX,\n",
    "    SUFFIX,\n",
    "    TABLE_DESCRIPTIONS\n",
    ")\n",
    "\n",
    "from langsmith import Client\n",
    "\n",
    "from langchain_core.language_models import BaseLanguageModel\n",
    "\n",
    "from langchain.prompts import (\n",
    "    PromptTemplate, \n",
    "    ChatPromptTemplate\n",
    ")\n",
    "\n",
    "from langchain.agents.agent_types import AgentType\n",
    "from langchain.agents.agent_toolkits.sql import base\n",
    "from langchain.agents.agent import AgentExecutor\n",
    "from langchain.agents import create_openai_tools_agent, create_react_agent, create_sql_agent\n",
    "from langchain.agents.agent_toolkits.sql.toolkit import SQLDatabaseToolkit\n",
    "from langchain_community.tools.sql_database import tool as sql_tools\n",
    "\n",
    "from langchain_community.llms.ollama import Ollama\n",
    "from langchain_community.chat_models.ollama import ChatOllama\n",
    "from langchain_community.embeddings.ollama import OllamaEmbeddings\n",
    "\n",
    "from langchain_experimental.llms.ollama_functions import (\n",
    "    OllamaFunctions,\n",
    "    DEFAULT_RESPONSE_FUNCTION\n",
    ")\n",
    "\n",
    "from langchain_core.output_parsers import StrOutputParser\n",
    "\n",
    "from langchain_core.messages.human import HumanMessage\n",
    "from langchain_core.messages.ai import AIMessage\n",
    "\n",
    "from langchain_experimental.llms.ollama_functions import convert_to_ollama_tool\n",
    "from langchain.schema.agent import AgentFinish, AgentActionMessageLog\n",
    "\n",
    "from langchain_core.pydantic_v1 import BaseModel, Field\n",
    "\n",
    "from langchain.tools import (tool, BaseTool)\n",
    "\n",
    "from langchain_core.runnables import Runnable, RunnablePassthrough\n",
    "from langchain.agents.openai_tools.base import convert_to_openai_tool\n",
    "from langchain.agents.format_scratchpad.openai_functions import (\n",
    "    format_to_openai_function_messages, \n",
    ")\n",
    "from langchain.agents.output_parsers.openai_functions import (\n",
    "    OpenAIFunctionsAgentOutputParser,\n",
    ")\n",
    "\n",
    "from langchain_core.runnables.config import RunnableConfig\n",
    "from langchain.callbacks.tracers import ConsoleCallbackHandler\n",
    "\n",
    "from langchain_openai.chat_models import ChatOpenAI\n",
    "from langchain_openai.embeddings import OpenAIEmbeddings"
   ]
  },
  {
   "cell_type": "markdown",
   "metadata": {},
   "source": [
    "### LangSmith"
   ]
  },
  {
   "cell_type": "code",
   "execution_count": 2,
   "metadata": {},
   "outputs": [],
   "source": [
    "os.environ[\"LANGCHAIN_PROJECT\"] = \"text2sql\"\n",
    "client = Client()"
   ]
  },
  {
   "cell_type": "markdown",
   "metadata": {},
   "source": [
    "### Load models"
   ]
  },
  {
   "cell_type": "code",
   "execution_count": 3,
   "metadata": {},
   "outputs": [],
   "source": [
    "llama3_embeddings = OllamaEmbeddings(\n",
    "    model=\"llama3:8b\", \n",
    "    temperature=0\n",
    ")\n",
    "\n",
    "llama3 = Ollama(\n",
    "    model=\"llama3:instruct\", \n",
    "    temperature=0\n",
    ")\n",
    "llama3_q8 = Ollama(\n",
    "    model=\"llama3:8b-instruct-q8_0\", \n",
    "    temperature=0\n",
    ")\n",
    "\n",
    "llama3__chat = ChatOllama(\n",
    "    model=\"llama3:instruct\", \n",
    "    temperature=0\n",
    ")\n",
    "llama3_q8__chat = ChatOllama(\n",
    "    model=\"llama3:8b-instruct-q8_0\", \n",
    "    temperature=0\n",
    ")\n",
    "\n",
    "llama3__with_functions = OllamaFunctions(\n",
    "    model=\"llama3:instruct\",\n",
    "    format=\"json\",\n",
    "    temperature=0\n",
    ")\n",
    "llama3_q8__with_functions = OllamaFunctions(\n",
    "    model=\"llama3:8b-instruct-q8_0\",\n",
    "    format=\"json\",\n",
    "    temperature=0\n",
    ")"
   ]
  },
  {
   "cell_type": "markdown",
   "metadata": {},
   "source": [
    "### Connect to DB with Readonly role"
   ]
  },
  {
   "cell_type": "code",
   "execution_count": 4,
   "metadata": {},
   "outputs": [],
   "source": [
    "db = db_connect.get_db()"
   ]
  },
  {
   "cell_type": "markdown",
   "metadata": {},
   "source": [
    "#### Check connection"
   ]
  },
  {
   "cell_type": "code",
   "execution_count": 5,
   "metadata": {},
   "outputs": [
    {
     "data": {
      "text/plain": [
       "\"[(1, 'John'), (2, 'James'), (3, 'Poul'), (4, 'Christofer'), (5, 'Superman'), (6, 'Donald'), (7, 'Douglas'), (8, 'Dwight'), (9, 'Earl'), (10, 'Edgar'), (11, 'Edmund'), (12, 'Edwin'), (13, 'Elliot'), (14, 'Eric'), (15, 'Ernest'), (16, 'Ethan'), (17, 'Ezekiel'), (18, 'Felix'), (19, 'Franklin'), (20, 'Frederick'), (21, 'Gabriel'), (22, 'Joseph'), (23, 'Joshua'), (24, 'Julian'), (25, 'Alice'), (26, 'Bob'), (27, 'Charlie'), (28, 'David'), (29, 'Emily'), (30, 'Frank'), (31, 'George'), (32, 'Helen'), (33, 'Irene'), (34, 'Jack'), (35, 'Kate'), (36, 'Leo'), (37, 'Mary'), (38, 'Nancy'), (39, 'Oliver'), (40, 'Paul'), (41, 'Qiana'), (42, 'Robert'), (43, 'Samantha'), (44, 'Thomas'), (45, 'Victoria')]\""
      ]
     },
     "execution_count": 5,
     "metadata": {},
     "output_type": "execute_result"
    }
   ],
   "source": [
    "db.run(\"select * from passenger\")"
   ]
  },
  {
   "cell_type": "markdown",
   "metadata": {},
   "source": [
    "-----"
   ]
  },
  {
   "cell_type": "markdown",
   "metadata": {},
   "source": [
    "## Create agent"
   ]
  },
  {
   "cell_type": "markdown",
   "metadata": {},
   "source": [
    "### Prompt and error handler"
   ]
  },
  {
   "cell_type": "code",
   "execution_count": 6,
   "metadata": {},
   "outputs": [],
   "source": [
    "prompt_generator = PromptGenerator().set_example_selector(\n",
    "        examples=FEW_SHOT_EXAMPLES,\n",
    "        embedding_llm=llama3_embeddings,\n",
    "        k=3\n",
    ")"
   ]
  },
  {
   "cell_type": "markdown",
   "metadata": {},
   "source": [
    "### Create functions for `OllamaFunctions`"
   ]
  },
  {
   "cell_type": "markdown",
   "metadata": {},
   "source": [
    "#### Pydentic classes (Functions)"
   ]
  },
  {
   "cell_type": "code",
   "execution_count": 7,
   "metadata": {},
   "outputs": [],
   "source": [
    "class QuerySQLDatabaseTool(BaseModel):\n",
    "    \"\"\"INPUT to this tool is a DETAILED and CORRECT SQL query, \n",
    "    OUTPUT is a RESULT FROM the DATABASE. If the query is not \n",
    "    correct, an error message will be returned. If an error is \n",
    "    returned, rewrite the query, check the query, and try again. \n",
    "    If you encounter an issue with Unknown column 'xxxx' in \n",
    "    'field list', use sql_db_schema to query the correct table fields.\"\"\"\n",
    "    sql_query: str = Field(\n",
    "        description=\"Detailed and correct SQL query.\"\n",
    "    )\n",
    "\n",
    "\n",
    "class InfoSQLDatabaseTool(BaseModel):\n",
    "    \"\"\"INPUT to this tool is a comma-separated LIST OF TABLES, \n",
    "    output is the schema and sample rows for those tables. \n",
    "    Be sure that the tables actually exist by calling \n",
    "    sql_db_list_tables first! Example Input: table1, table2, table3.\n",
    "    This tool will not help if you need to get information about a column!\"\"\"\n",
    "    list_of_tables: str = Field(\n",
    "        description=\"Comma-separated list of tables. Example: table1, table2, table3\"\n",
    "    )\n",
    "\n",
    "\n",
    "class ListSQLDatabaseTool(BaseModel):\n",
    "    \"\"\"INPUT to this tool is a EMPTY STRING, \n",
    "    OUTPUT is a comma-separated LIST OF TABLES \n",
    "    in database. Use this tool to select the \n",
    "    tables needed to respond to the user.\"\"\"\n",
    "    empty_string: str = Field(description=\"Empty string\")\n",
    "\n",
    "\n",
    "class QuerySQLCheckerTool(BaseModel):\n",
    "    \"\"\"INPUT to this tool is a QUERY to check, \n",
    "    OUTPUT is a CORRECT QUERY in database. \n",
    "    Use this tool to double check if \n",
    "    your query is correct before executing it. \n",
    "    Always use this tool before executing a \n",
    "    query with sql_db_query!\"\"\"\n",
    "    query_to_check: str = Field(\n",
    "        description=\"SQL query that needs to be checked before execution.\"\n",
    "    )\n",
    "\n",
    "\n",
    "functions = [\n",
    "    QuerySQLDatabaseTool, \n",
    "    InfoSQLDatabaseTool,\n",
    "    ListSQLDatabaseTool,\n",
    "    QuerySQLCheckerTool,\n",
    "]\n",
    "functions = [convert_to_openai_tool(f)[\"function\"] for f in functions]"
   ]
  },
  {
   "cell_type": "markdown",
   "metadata": {},
   "source": [
    "#### Tools"
   ]
  },
  {
   "cell_type": "code",
   "execution_count": 8,
   "metadata": {},
   "outputs": [],
   "source": [
    "key_words = [\n",
    "    \"CONSTRAINT\",\n",
    "    \"CHECK\",\n",
    "    \"UNIQUE\",\n",
    "    \"PRIMARY\",\n",
    "    \"FOREIGN\",\n",
    "    \"EXCLUDE\",\n",
    "    \"DEFERRABLE\",\n",
    "    \"NOT\",\n",
    "    \"INITIALLY\",\n",
    "    \"LIKE\",\n",
    "]\n",
    "\n",
    "def exclude_key_words_from_list(\n",
    "    list: List[str], \n",
    "    key_words: List[str]\n",
    ") -> List[str]:\n",
    "    return [ \n",
    "        column_name_or_key_word \n",
    "        for column_name_or_key_word in list\n",
    "        if column_name_or_key_word.upper() not in key_words\n",
    "    ]\n",
    "\n",
    "def extract_names_from_db(create_table_query: str, key_words_to_exclude: List[str]):\n",
    "    # Removes VARCHAR(60) and others for subsequent processing\n",
    "    clean_sql = re.sub(r\"\\(\\d+\\)\", \"\", create_table_query)\n",
    "    \n",
    "    # Removes sample rows in table info\n",
    "    clean_sql = re.sub(r\"/\\*(.|\\s)*?\\*/\", \"\", clean_sql)\n",
    "    \n",
    "    # Get all table names\n",
    "    table_names = re.findall(r\"CREATE TABLE (\\w+) \\(\", clean_sql)\n",
    "    \n",
    "    res = []\n",
    "    \n",
    "    for name in table_names:\n",
    "        # Returns a description {names}\n",
    "        table_sql = re.search(fr\"CREATE TABLE {name} \\((\\s+(.|\\s+)*?)\\s+\\)\", clean_sql).group(1)\n",
    "        \n",
    "        # Gets all column names and constraints (this is noise)\n",
    "        columns_part = re.findall(r\"\\n\\t(\\w+)\", table_sql)\n",
    "        \n",
    "        res.append({\n",
    "            \"name\": name,\n",
    "            # Exclude constraints (noise)\n",
    "            \"columns\": exclude_key_words_from_list(\n",
    "                columns_part, key_words_to_exclude\n",
    "            )\n",
    "        })\n",
    "    \n",
    "    return res"
   ]
  },
  {
   "cell_type": "code",
   "execution_count": 9,
   "metadata": {},
   "outputs": [],
   "source": [
    "def QuerySQLDatabaseTool(sql_query: str):\n",
    "    \"\"\"INPUT to this tool is a DETAILED and CORRECT SQL query, \n",
    "    OUTPUT is a RESULT FROM the DATABASE. If the query is not \n",
    "    correct, an error message will be returned. If an error is \n",
    "    returned, rewrite the query, check the query, and try again. \n",
    "    If you encounter an issue with Unknown column 'xxxx' in \n",
    "    'field list', use sql_db_schema to query the correct table fields.\"\"\"\n",
    "    \n",
    "    res = {}\n",
    "    \n",
    "    try:\n",
    "        res[\"type\"] = \"ok\"\n",
    "        res[\"result\"] = db.run(sql_query)\n",
    "    except Exception as e:\n",
    "        res[\"type\"] = \"error\"\n",
    "        res[\"result\"] = str(e)\n",
    "        \n",
    "    return res\n",
    "\n",
    "def InfoSQLDatabaseTool(list_of_tables: str):\n",
    "    \"\"\"INPUT to this tool is a comma-separated LIST OF TABLES, \n",
    "    output is the schema and sample rows for those tables. \n",
    "    Be sure that the tables actually exist by calling \n",
    "    sql_db_list_tables first! Example Input: table1, table2, table3.\n",
    "    This tool will not help if you need to get information about a column!\"\"\"\n",
    "    \n",
    "    res = \"\"\n",
    "    res += \"company, \" if \"company\" in list_of_tables else \"\"\n",
    "    res += \"pass_in_trip, \" if \"pass_in_trip\" in list_of_tables else \"\"\n",
    "    res += \"passenger, \" if \"passenger\" in list_of_tables else \"\"\n",
    "    res += \"trip, \" if \"trip\" in list_of_tables else \"\"\n",
    "    \n",
    "    res = res[:-2]\n",
    "    \n",
    "    return db.get_table_info_no_throw(\n",
    "            [t.strip() for t in res.split(\",\")]\n",
    "        )\n",
    "\n",
    "def ListSQLDatabaseTool(empty_string: str = \"\"):\n",
    "    \"\"\"INPUT to this tool is a EMPTY STRING, \n",
    "    OUTPUT is a comma-separated LIST OF TABLES \n",
    "    in database. Use this tool to select the \n",
    "    tables needed to respond to the user.\"\"\"\n",
    "    return \", \".join(db.get_usable_table_names())\n",
    "\n",
    "QUERY_CHECKER = \"\"\"\n",
    "Double check the {dialect} query for common mistakes, including:\n",
    "- Using NOT IN with NULL values\n",
    "- Using UNION when UNION ALL should have been used\n",
    "- Using BETWEEN for exclusive ranges\n",
    "- Data type mismatch in predicates\n",
    "- Properly quoting identifiers\n",
    "- Using the correct number of arguments for functions\n",
    "- Casting to the correct data type\n",
    "- Using the proper columns for joins\n",
    "\n",
    "Also check that all column and table names correspond to the database, these are the ones you need to check:\n",
    "\n",
    "{db_names}\n",
    "\n",
    "If there are any of the above mistakes, rewrite the query. If there are no mistakes, just reproduce the original query.\n",
    "\n",
    "OUTPUT THE FINAL SQL QUERY ONLY.\"\"\"\n",
    "\n",
    "checker_prompt = ChatPromptTemplate.from_messages((\n",
    "    (\"system\", QUERY_CHECKER),\n",
    "    (\"human\", \"SQL Query: SELECT name FROM passenger;\"),\n",
    "    (\"ai\", \"SELECT passenger_name FROM passenger;\"),\n",
    "    (\"human\", \"SQL Query: SELECT plane FROM flight;\"),\n",
    "    (\"ai\", \"SELECT plane FROM trip;\"),\n",
    "    (\"human\", \"SQL Query: {query}\")\n",
    "))\n",
    "\n",
    "def QuerySQLCheckerTool(query_to_check: str):\n",
    "    \"\"\"INPUT to this tool is a QUERY to check, \n",
    "    OUTPUT is a CORRECT QUERY in database. \n",
    "    Use this tool to double check if \n",
    "    your query is correct before executing it. \n",
    "    Always use this tool before executing a \n",
    "    query with sql_db_query!\"\"\"\n",
    "    db_names_list = extract_names_from_db(db.get_table_info(), key_words)\n",
    "    \n",
    "    db_names = \"\"\n",
    "    for name_pair in db_names_list:\n",
    "        db_names += f\"Table name: {name_pair[\"name\"]}\\n\\tColumn names: {name_pair[\"columns\"]}\\n\"\n",
    "    \n",
    "    chain = (\n",
    "        checker_prompt.partial(db_names=db_names) \n",
    "        | llama3__chat \n",
    "        | StrOutputParser()\n",
    "    )\n",
    "    return chain.invoke({\n",
    "        \"query\": query_to_check,\n",
    "        \"dialect\": db.dialect,\n",
    "    })\n",
    "\n",
    "tools = [\n",
    "    QuerySQLDatabaseTool,\n",
    "    InfoSQLDatabaseTool,\n",
    "    ListSQLDatabaseTool,\n",
    "    QuerySQLCheckerTool,\n",
    "]"
   ]
  },
  {
   "cell_type": "markdown",
   "metadata": {},
   "source": [
    "#### Routing"
   ]
  },
  {
   "cell_type": "markdown",
   "metadata": {},
   "source": [
    "### Function to get agent with provided llm model"
   ]
  },
  {
   "cell_type": "code",
   "execution_count": 10,
   "metadata": {},
   "outputs": [],
   "source": [
    "def format_to_ollama_chat_messages(intermediate_steps):\n",
    "    agent_scratchpad = []\n",
    "    \n",
    "    for step in intermediate_steps:\n",
    "        agent_scratchpad.append(\n",
    "            AIMessage(\n",
    "                content=f\"I use this tool \\\"{step[0].tool}\\\" \" +\n",
    "                f\"with this input\\nInput: {step[0].tool_input}\"\n",
    "            )\n",
    "        )\n",
    "        \n",
    "        tool_result = step[1]\n",
    "        \n",
    "        if step[0].tool == \"QuerySQLDatabaseTool\":\n",
    "            if tool_result[\"type\"] == \"ok\":\n",
    "                human_message = \"This is similar to the database \" +\\\n",
    "                    \"response. Maybe there's something I need there. \" +\\\n",
    "                    \"I can't see it, please help me understand, if \" +\\\n",
    "                    \"there is an answer to my question, please give it \" +\\\n",
    "                    \"to me, use it for this: \\\"__conversational_response\\\"\"\n",
    "            elif tool_result[\"type\"] == \"error\":\n",
    "                human_message = \"Oops.. There seems to be a mistake here. \" +\\\n",
    "                    \"Apparently the request was incorrect, try to fix it, \" +\\\n",
    "                    \"maybe it will work and try again! Maybe it will help \" +\\\n",
    "                    \"you \\\"InfoSQLDatabaseTool\\\" to better understand the structure.\"\n",
    "            tool_result = tool_result[\"result\"]\n",
    "        elif step[0].tool == \"InfoSQLDatabaseTool\":\n",
    "            human_message = \"It looks like the structure of the database \" +\\\n",
    "                \"tables(s). Maybe this will help you write the right query? \" +\\\n",
    "                \"Please make sure you remember the names!\"\n",
    "        elif step[0].tool == \"ListSQLDatabaseTool\":\n",
    "            human_message = \"It looks like a list of table names. \" +\\\n",
    "                \"Maybe it will help to get an answer. I think if you don't \" +\\\n",
    "                \"have enough information, you can use this: \\\"InfoSQLDatabaseTool\\\"\"\n",
    "        elif step[0].tool == \"QuerySQLCheckerTool\":\n",
    "            human_message = \"It looks like an SQL query! I think it's the \" +\\\n",
    "                \"right one. Try to execute this query.\"\n",
    "        \n",
    "        agent_scratchpad.append(\n",
    "            HumanMessage(\n",
    "                content=\"I can help you execute the tool. Give me a second... \" +\n",
    "                    \"And so, I think I managed to call it, but I can't read \" +\n",
    "                    \"what's written there, only a smart AI can understand it.\" +\n",
    "                    f\"\\nI checked, the result of the tool\\n{human_message}\" +\n",
    "                    f\"\\n\\nResult of tool: \\n{tool_result}\"\n",
    "            )\n",
    "        )\n",
    "        \n",
    "    return agent_scratchpad\n",
    "\n",
    "def get_agent(llm: OllamaFunctions, functions: List[BaseModel]) -> AgentExecutor:\n",
    "    \"\"\"Create and return agent with provided `llm` model\"\"\"\n",
    "\n",
    "    llm_with_tools = llm.bind_tools(tools=functions + [DEFAULT_RESPONSE_FUNCTION])\n",
    "    \n",
    "    agent = (\n",
    "        RunnablePassthrough.assign(\n",
    "            agent_scratchpad=lambda steps: format_to_ollama_chat_messages(steps['intermediate_steps'])\n",
    "        )\n",
    "        | prompt_generator.get_prompt()\n",
    "        | llm_with_tools\n",
    "        | OpenAIFunctionsAgentOutputParser()\n",
    "    )\n",
    "    \n",
    "    return agent"
   ]
  },
  {
   "cell_type": "code",
   "execution_count": 11,
   "metadata": {},
   "outputs": [],
   "source": [
    "agent = get_agent(llama3__with_functions, functions)\n",
    "\n",
    "def run_agent(user_input: str) -> AgentFinish:\n",
    "    intermediate_steps = []\n",
    "    while True:\n",
    "        result = agent.invoke({\n",
    "            \"dialect\": \"PostgreSQL\",\n",
    "            \"input\": user_input,\n",
    "            \"top_k\": \"20\", \n",
    "            \"intermediate_steps\": intermediate_steps\n",
    "        })\n",
    "        \n",
    "        if isinstance(result, AgentFinish):\n",
    "            return result\n",
    "        else:\n",
    "            result: AgentActionMessageLog = result\n",
    "        \n",
    "        tool = {\n",
    "            \"QuerySQLDatabaseTool\": QuerySQLDatabaseTool, \n",
    "            \"InfoSQLDatabaseTool\": InfoSQLDatabaseTool,\n",
    "            \"ListSQLDatabaseTool\": ListSQLDatabaseTool, \n",
    "            \"QuerySQLCheckerTool\": QuerySQLCheckerTool,\n",
    "        }[result.tool]\n",
    "        print(f\"result\\t{result}\\n\") # TODO: DELETE THIS ROW\n",
    "        if isinstance(result.tool_input, str):\n",
    "            observation = tool(result.tool_input)\n",
    "        else:\n",
    "            observation = tool(**result.tool_input)\n",
    "        intermediate_steps.append((result, observation))"
   ]
  },
  {
   "cell_type": "markdown",
   "metadata": {},
   "source": [
    "-----\n",
    "## Testing an agent with different models and save the results"
   ]
  },
  {
   "cell_type": "code",
   "execution_count": 12,
   "metadata": {},
   "outputs": [
    {
     "name": "stdout",
     "output_type": "stream",
     "text": [
      "Here are the names you asked for: 'Alice', 'Bob', 'Charlie', 'Christofer', 'David'\n"
     ]
    }
   ],
   "source": [
    "print(TestData.ANSWER[0])"
   ]
  },
  {
   "cell_type": "code",
   "execution_count": 13,
   "metadata": {},
   "outputs": [
    {
     "name": "stdout",
     "output_type": "stream",
     "text": [
      "not parsed chat\t{ \"tool\": \"QuerySQLDatabaseTool\", \"tool_input\": { \"sql_query\": \"SELECT name FROM passenger ORDER BY name LIMIT 5;\" } }\n",
      "parsed chat\t{'tool': 'QuerySQLDatabaseTool', 'tool_input': {'sql_query': 'SELECT name FROM passenger ORDER BY name LIMIT 5;'}}\n",
      "result\ttool='QuerySQLDatabaseTool' tool_input={'sql_query': 'SELECT name FROM passenger ORDER BY name LIMIT 5;'} log=\"\\nInvoking: `QuerySQLDatabaseTool` with `{'sql_query': 'SELECT name FROM passenger ORDER BY name LIMIT 5;'}`\\n\\n\\n\" message_log=[AIMessage(content='', additional_kwargs={'function_call': {'name': 'QuerySQLDatabaseTool', 'arguments': '{\"sql_query\": \"SELECT name FROM passenger ORDER BY name LIMIT 5;\"}'}}, id='run-4f9bb291-d47c-4011-82bb-79f481776679-0')]\n",
      "\n",
      "not parsed chat\t{\"tool\": \"QuerySQLCheckerTool\", \"tool_input\": {\"query_to_check\": \"SELECT name FROM passenger ORDER BY name LIMIT 5;\"}}\n",
      "parsed chat\t{'tool': 'QuerySQLCheckerTool', 'tool_input': {'query_to_check': 'SELECT name FROM passenger ORDER BY name LIMIT 5;'}}\n",
      "result\ttool='QuerySQLCheckerTool' tool_input={'query_to_check': 'SELECT name FROM passenger ORDER BY name LIMIT 5;'} log=\"\\nInvoking: `QuerySQLCheckerTool` with `{'query_to_check': 'SELECT name FROM passenger ORDER BY name LIMIT 5;'}`\\n\\n\\n\" message_log=[AIMessage(content='', additional_kwargs={'function_call': {'name': 'QuerySQLCheckerTool', 'arguments': '{\"query_to_check\": \"SELECT name FROM passenger ORDER BY name LIMIT 5;\"}'}}, id='run-18c2415b-2e47-4586-bf1b-2ee0040c4ab3-0')]\n",
      "\n",
      "not parsed chat\t{\"sql_query\": \"SELECT passenger_name FROM passenger ORDER BY passenger_name LIMIT 5;\"}\n",
      "\n",
      " \n",
      " \n",
      "parsed chat\t{'sql_query': 'SELECT passenger_name FROM passenger ORDER BY passenger_name LIMIT 5;'}\n"
     ]
    },
    {
     "ename": "KeyError",
     "evalue": "'tool'",
     "output_type": "error",
     "traceback": [
      "\u001b[1;31m---------------------------------------------------------------------------\u001b[0m",
      "\u001b[1;31mKeyError\u001b[0m                                  Traceback (most recent call last)",
      "Cell \u001b[1;32mIn[13], line 1\u001b[0m\n\u001b[1;32m----> 1\u001b[0m res \u001b[38;5;241m=\u001b[39m \u001b[43mrun_agent\u001b[49m\u001b[43m(\u001b[49m\u001b[43mTestData\u001b[49m\u001b[38;5;241;43m.\u001b[39;49m\u001b[43mQUESTIONS\u001b[49m\u001b[43m[\u001b[49m\u001b[38;5;241;43m0\u001b[39;49m\u001b[43m]\u001b[49m\u001b[43m)\u001b[49m\n",
      "Cell \u001b[1;32mIn[11], line 6\u001b[0m, in \u001b[0;36mrun_agent\u001b[1;34m(user_input)\u001b[0m\n\u001b[0;32m      4\u001b[0m intermediate_steps \u001b[38;5;241m=\u001b[39m []\n\u001b[0;32m      5\u001b[0m \u001b[38;5;28;01mwhile\u001b[39;00m \u001b[38;5;28;01mTrue\u001b[39;00m:\n\u001b[1;32m----> 6\u001b[0m     result \u001b[38;5;241m=\u001b[39m \u001b[43magent\u001b[49m\u001b[38;5;241;43m.\u001b[39;49m\u001b[43minvoke\u001b[49m\u001b[43m(\u001b[49m\u001b[43m{\u001b[49m\n\u001b[0;32m      7\u001b[0m \u001b[43m        \u001b[49m\u001b[38;5;124;43m\"\u001b[39;49m\u001b[38;5;124;43mdialect\u001b[39;49m\u001b[38;5;124;43m\"\u001b[39;49m\u001b[43m:\u001b[49m\u001b[43m \u001b[49m\u001b[38;5;124;43m\"\u001b[39;49m\u001b[38;5;124;43mPostgreSQL\u001b[39;49m\u001b[38;5;124;43m\"\u001b[39;49m\u001b[43m,\u001b[49m\n\u001b[0;32m      8\u001b[0m \u001b[43m        \u001b[49m\u001b[38;5;124;43m\"\u001b[39;49m\u001b[38;5;124;43minput\u001b[39;49m\u001b[38;5;124;43m\"\u001b[39;49m\u001b[43m:\u001b[49m\u001b[43m \u001b[49m\u001b[43muser_input\u001b[49m\u001b[43m,\u001b[49m\n\u001b[0;32m      9\u001b[0m \u001b[43m        \u001b[49m\u001b[38;5;124;43m\"\u001b[39;49m\u001b[38;5;124;43mtop_k\u001b[39;49m\u001b[38;5;124;43m\"\u001b[39;49m\u001b[43m:\u001b[49m\u001b[43m \u001b[49m\u001b[38;5;124;43m\"\u001b[39;49m\u001b[38;5;124;43m20\u001b[39;49m\u001b[38;5;124;43m\"\u001b[39;49m\u001b[43m,\u001b[49m\u001b[43m \u001b[49m\n\u001b[0;32m     10\u001b[0m \u001b[43m        \u001b[49m\u001b[38;5;124;43m\"\u001b[39;49m\u001b[38;5;124;43mintermediate_steps\u001b[39;49m\u001b[38;5;124;43m\"\u001b[39;49m\u001b[43m:\u001b[49m\u001b[43m \u001b[49m\u001b[43mintermediate_steps\u001b[49m\n\u001b[0;32m     11\u001b[0m \u001b[43m    \u001b[49m\u001b[43m}\u001b[49m\u001b[43m)\u001b[49m\n\u001b[0;32m     13\u001b[0m     \u001b[38;5;28;01mif\u001b[39;00m \u001b[38;5;28misinstance\u001b[39m(result, AgentFinish):\n\u001b[0;32m     14\u001b[0m         \u001b[38;5;28;01mreturn\u001b[39;00m result\n",
      "File \u001b[1;32mc:\\Projects\\Python\\text2sql\\.venv\\Lib\\site-packages\\langchain_core\\runnables\\base.py:2499\u001b[0m, in \u001b[0;36mRunnableSequence.invoke\u001b[1;34m(self, input, config)\u001b[0m\n\u001b[0;32m   2497\u001b[0m \u001b[38;5;28;01mtry\u001b[39;00m:\n\u001b[0;32m   2498\u001b[0m     \u001b[38;5;28;01mfor\u001b[39;00m i, step \u001b[38;5;129;01min\u001b[39;00m \u001b[38;5;28menumerate\u001b[39m(\u001b[38;5;28mself\u001b[39m\u001b[38;5;241m.\u001b[39msteps):\n\u001b[1;32m-> 2499\u001b[0m         \u001b[38;5;28minput\u001b[39m \u001b[38;5;241m=\u001b[39m \u001b[43mstep\u001b[49m\u001b[38;5;241;43m.\u001b[39;49m\u001b[43minvoke\u001b[49m\u001b[43m(\u001b[49m\n\u001b[0;32m   2500\u001b[0m \u001b[43m            \u001b[49m\u001b[38;5;28;43minput\u001b[39;49m\u001b[43m,\u001b[49m\n\u001b[0;32m   2501\u001b[0m \u001b[43m            \u001b[49m\u001b[38;5;66;43;03m# mark each step as a child run\u001b[39;49;00m\n\u001b[0;32m   2502\u001b[0m \u001b[43m            \u001b[49m\u001b[43mpatch_config\u001b[49m\u001b[43m(\u001b[49m\n\u001b[0;32m   2503\u001b[0m \u001b[43m                \u001b[49m\u001b[43mconfig\u001b[49m\u001b[43m,\u001b[49m\u001b[43m \u001b[49m\u001b[43mcallbacks\u001b[49m\u001b[38;5;241;43m=\u001b[39;49m\u001b[43mrun_manager\u001b[49m\u001b[38;5;241;43m.\u001b[39;49m\u001b[43mget_child\u001b[49m\u001b[43m(\u001b[49m\u001b[38;5;124;43mf\u001b[39;49m\u001b[38;5;124;43m\"\u001b[39;49m\u001b[38;5;124;43mseq:step:\u001b[39;49m\u001b[38;5;132;43;01m{\u001b[39;49;00m\u001b[43mi\u001b[49m\u001b[38;5;241;43m+\u001b[39;49m\u001b[38;5;241;43m1\u001b[39;49m\u001b[38;5;132;43;01m}\u001b[39;49;00m\u001b[38;5;124;43m\"\u001b[39;49m\u001b[43m)\u001b[49m\n\u001b[0;32m   2504\u001b[0m \u001b[43m            \u001b[49m\u001b[43m)\u001b[49m\u001b[43m,\u001b[49m\n\u001b[0;32m   2505\u001b[0m \u001b[43m        \u001b[49m\u001b[43m)\u001b[49m\n\u001b[0;32m   2506\u001b[0m \u001b[38;5;66;03m# finish the root run\u001b[39;00m\n\u001b[0;32m   2507\u001b[0m \u001b[38;5;28;01mexcept\u001b[39;00m \u001b[38;5;167;01mBaseException\u001b[39;00m \u001b[38;5;28;01mas\u001b[39;00m e:\n",
      "File \u001b[1;32mc:\\Projects\\Python\\text2sql\\.venv\\Lib\\site-packages\\langchain_core\\runnables\\base.py:4525\u001b[0m, in \u001b[0;36mRunnableBindingBase.invoke\u001b[1;34m(self, input, config, **kwargs)\u001b[0m\n\u001b[0;32m   4519\u001b[0m \u001b[38;5;28;01mdef\u001b[39;00m \u001b[38;5;21minvoke\u001b[39m(\n\u001b[0;32m   4520\u001b[0m     \u001b[38;5;28mself\u001b[39m,\n\u001b[0;32m   4521\u001b[0m     \u001b[38;5;28minput\u001b[39m: Input,\n\u001b[0;32m   4522\u001b[0m     config: Optional[RunnableConfig] \u001b[38;5;241m=\u001b[39m \u001b[38;5;28;01mNone\u001b[39;00m,\n\u001b[0;32m   4523\u001b[0m     \u001b[38;5;241m*\u001b[39m\u001b[38;5;241m*\u001b[39mkwargs: Optional[Any],\n\u001b[0;32m   4524\u001b[0m ) \u001b[38;5;241m-\u001b[39m\u001b[38;5;241m>\u001b[39m Output:\n\u001b[1;32m-> 4525\u001b[0m     \u001b[38;5;28;01mreturn\u001b[39;00m \u001b[38;5;28;43mself\u001b[39;49m\u001b[38;5;241;43m.\u001b[39;49m\u001b[43mbound\u001b[49m\u001b[38;5;241;43m.\u001b[39;49m\u001b[43minvoke\u001b[49m\u001b[43m(\u001b[49m\n\u001b[0;32m   4526\u001b[0m \u001b[43m        \u001b[49m\u001b[38;5;28;43minput\u001b[39;49m\u001b[43m,\u001b[49m\n\u001b[0;32m   4527\u001b[0m \u001b[43m        \u001b[49m\u001b[38;5;28;43mself\u001b[39;49m\u001b[38;5;241;43m.\u001b[39;49m\u001b[43m_merge_configs\u001b[49m\u001b[43m(\u001b[49m\u001b[43mconfig\u001b[49m\u001b[43m)\u001b[49m\u001b[43m,\u001b[49m\n\u001b[0;32m   4528\u001b[0m \u001b[43m        \u001b[49m\u001b[38;5;241;43m*\u001b[39;49m\u001b[38;5;241;43m*\u001b[39;49m\u001b[43m{\u001b[49m\u001b[38;5;241;43m*\u001b[39;49m\u001b[38;5;241;43m*\u001b[39;49m\u001b[38;5;28;43mself\u001b[39;49m\u001b[38;5;241;43m.\u001b[39;49m\u001b[43mkwargs\u001b[49m\u001b[43m,\u001b[49m\u001b[43m \u001b[49m\u001b[38;5;241;43m*\u001b[39;49m\u001b[38;5;241;43m*\u001b[39;49m\u001b[43mkwargs\u001b[49m\u001b[43m}\u001b[49m\u001b[43m,\u001b[49m\n\u001b[0;32m   4529\u001b[0m \u001b[43m    \u001b[49m\u001b[43m)\u001b[49m\n",
      "File \u001b[1;32mc:\\Projects\\Python\\text2sql\\.venv\\Lib\\site-packages\\langchain_core\\language_models\\chat_models.py:158\u001b[0m, in \u001b[0;36mBaseChatModel.invoke\u001b[1;34m(self, input, config, stop, **kwargs)\u001b[0m\n\u001b[0;32m    147\u001b[0m \u001b[38;5;28;01mdef\u001b[39;00m \u001b[38;5;21minvoke\u001b[39m(\n\u001b[0;32m    148\u001b[0m     \u001b[38;5;28mself\u001b[39m,\n\u001b[0;32m    149\u001b[0m     \u001b[38;5;28minput\u001b[39m: LanguageModelInput,\n\u001b[1;32m   (...)\u001b[0m\n\u001b[0;32m    153\u001b[0m     \u001b[38;5;241m*\u001b[39m\u001b[38;5;241m*\u001b[39mkwargs: Any,\n\u001b[0;32m    154\u001b[0m ) \u001b[38;5;241m-\u001b[39m\u001b[38;5;241m>\u001b[39m BaseMessage:\n\u001b[0;32m    155\u001b[0m     config \u001b[38;5;241m=\u001b[39m ensure_config(config)\n\u001b[0;32m    156\u001b[0m     \u001b[38;5;28;01mreturn\u001b[39;00m cast(\n\u001b[0;32m    157\u001b[0m         ChatGeneration,\n\u001b[1;32m--> 158\u001b[0m         \u001b[38;5;28;43mself\u001b[39;49m\u001b[38;5;241;43m.\u001b[39;49m\u001b[43mgenerate_prompt\u001b[49m\u001b[43m(\u001b[49m\n\u001b[0;32m    159\u001b[0m \u001b[43m            \u001b[49m\u001b[43m[\u001b[49m\u001b[38;5;28;43mself\u001b[39;49m\u001b[38;5;241;43m.\u001b[39;49m\u001b[43m_convert_input\u001b[49m\u001b[43m(\u001b[49m\u001b[38;5;28;43minput\u001b[39;49m\u001b[43m)\u001b[49m\u001b[43m]\u001b[49m\u001b[43m,\u001b[49m\n\u001b[0;32m    160\u001b[0m \u001b[43m            \u001b[49m\u001b[43mstop\u001b[49m\u001b[38;5;241;43m=\u001b[39;49m\u001b[43mstop\u001b[49m\u001b[43m,\u001b[49m\n\u001b[0;32m    161\u001b[0m \u001b[43m            \u001b[49m\u001b[43mcallbacks\u001b[49m\u001b[38;5;241;43m=\u001b[39;49m\u001b[43mconfig\u001b[49m\u001b[38;5;241;43m.\u001b[39;49m\u001b[43mget\u001b[49m\u001b[43m(\u001b[49m\u001b[38;5;124;43m\"\u001b[39;49m\u001b[38;5;124;43mcallbacks\u001b[39;49m\u001b[38;5;124;43m\"\u001b[39;49m\u001b[43m)\u001b[49m\u001b[43m,\u001b[49m\n\u001b[0;32m    162\u001b[0m \u001b[43m            \u001b[49m\u001b[43mtags\u001b[49m\u001b[38;5;241;43m=\u001b[39;49m\u001b[43mconfig\u001b[49m\u001b[38;5;241;43m.\u001b[39;49m\u001b[43mget\u001b[49m\u001b[43m(\u001b[49m\u001b[38;5;124;43m\"\u001b[39;49m\u001b[38;5;124;43mtags\u001b[39;49m\u001b[38;5;124;43m\"\u001b[39;49m\u001b[43m)\u001b[49m\u001b[43m,\u001b[49m\n\u001b[0;32m    163\u001b[0m \u001b[43m            \u001b[49m\u001b[43mmetadata\u001b[49m\u001b[38;5;241;43m=\u001b[39;49m\u001b[43mconfig\u001b[49m\u001b[38;5;241;43m.\u001b[39;49m\u001b[43mget\u001b[49m\u001b[43m(\u001b[49m\u001b[38;5;124;43m\"\u001b[39;49m\u001b[38;5;124;43mmetadata\u001b[39;49m\u001b[38;5;124;43m\"\u001b[39;49m\u001b[43m)\u001b[49m\u001b[43m,\u001b[49m\n\u001b[0;32m    164\u001b[0m \u001b[43m            \u001b[49m\u001b[43mrun_name\u001b[49m\u001b[38;5;241;43m=\u001b[39;49m\u001b[43mconfig\u001b[49m\u001b[38;5;241;43m.\u001b[39;49m\u001b[43mget\u001b[49m\u001b[43m(\u001b[49m\u001b[38;5;124;43m\"\u001b[39;49m\u001b[38;5;124;43mrun_name\u001b[39;49m\u001b[38;5;124;43m\"\u001b[39;49m\u001b[43m)\u001b[49m\u001b[43m,\u001b[49m\n\u001b[0;32m    165\u001b[0m \u001b[43m            \u001b[49m\u001b[43mrun_id\u001b[49m\u001b[38;5;241;43m=\u001b[39;49m\u001b[43mconfig\u001b[49m\u001b[38;5;241;43m.\u001b[39;49m\u001b[43mpop\u001b[49m\u001b[43m(\u001b[49m\u001b[38;5;124;43m\"\u001b[39;49m\u001b[38;5;124;43mrun_id\u001b[39;49m\u001b[38;5;124;43m\"\u001b[39;49m\u001b[43m,\u001b[49m\u001b[43m \u001b[49m\u001b[38;5;28;43;01mNone\u001b[39;49;00m\u001b[43m)\u001b[49m\u001b[43m,\u001b[49m\n\u001b[0;32m    166\u001b[0m \u001b[43m            \u001b[49m\u001b[38;5;241;43m*\u001b[39;49m\u001b[38;5;241;43m*\u001b[39;49m\u001b[43mkwargs\u001b[49m\u001b[43m,\u001b[49m\n\u001b[0;32m    167\u001b[0m \u001b[43m        \u001b[49m\u001b[43m)\u001b[49m\u001b[38;5;241m.\u001b[39mgenerations[\u001b[38;5;241m0\u001b[39m][\u001b[38;5;241m0\u001b[39m],\n\u001b[0;32m    168\u001b[0m     )\u001b[38;5;241m.\u001b[39mmessage\n",
      "File \u001b[1;32mc:\\Projects\\Python\\text2sql\\.venv\\Lib\\site-packages\\langchain_core\\language_models\\chat_models.py:560\u001b[0m, in \u001b[0;36mBaseChatModel.generate_prompt\u001b[1;34m(self, prompts, stop, callbacks, **kwargs)\u001b[0m\n\u001b[0;32m    552\u001b[0m \u001b[38;5;28;01mdef\u001b[39;00m \u001b[38;5;21mgenerate_prompt\u001b[39m(\n\u001b[0;32m    553\u001b[0m     \u001b[38;5;28mself\u001b[39m,\n\u001b[0;32m    554\u001b[0m     prompts: List[PromptValue],\n\u001b[1;32m   (...)\u001b[0m\n\u001b[0;32m    557\u001b[0m     \u001b[38;5;241m*\u001b[39m\u001b[38;5;241m*\u001b[39mkwargs: Any,\n\u001b[0;32m    558\u001b[0m ) \u001b[38;5;241m-\u001b[39m\u001b[38;5;241m>\u001b[39m LLMResult:\n\u001b[0;32m    559\u001b[0m     prompt_messages \u001b[38;5;241m=\u001b[39m [p\u001b[38;5;241m.\u001b[39mto_messages() \u001b[38;5;28;01mfor\u001b[39;00m p \u001b[38;5;129;01min\u001b[39;00m prompts]\n\u001b[1;32m--> 560\u001b[0m     \u001b[38;5;28;01mreturn\u001b[39;00m \u001b[38;5;28;43mself\u001b[39;49m\u001b[38;5;241;43m.\u001b[39;49m\u001b[43mgenerate\u001b[49m\u001b[43m(\u001b[49m\u001b[43mprompt_messages\u001b[49m\u001b[43m,\u001b[49m\u001b[43m \u001b[49m\u001b[43mstop\u001b[49m\u001b[38;5;241;43m=\u001b[39;49m\u001b[43mstop\u001b[49m\u001b[43m,\u001b[49m\u001b[43m \u001b[49m\u001b[43mcallbacks\u001b[49m\u001b[38;5;241;43m=\u001b[39;49m\u001b[43mcallbacks\u001b[49m\u001b[43m,\u001b[49m\u001b[43m \u001b[49m\u001b[38;5;241;43m*\u001b[39;49m\u001b[38;5;241;43m*\u001b[39;49m\u001b[43mkwargs\u001b[49m\u001b[43m)\u001b[49m\n",
      "File \u001b[1;32mc:\\Projects\\Python\\text2sql\\.venv\\Lib\\site-packages\\langchain_core\\language_models\\chat_models.py:421\u001b[0m, in \u001b[0;36mBaseChatModel.generate\u001b[1;34m(self, messages, stop, callbacks, tags, metadata, run_name, run_id, **kwargs)\u001b[0m\n\u001b[0;32m    419\u001b[0m         \u001b[38;5;28;01mif\u001b[39;00m run_managers:\n\u001b[0;32m    420\u001b[0m             run_managers[i]\u001b[38;5;241m.\u001b[39mon_llm_error(e, response\u001b[38;5;241m=\u001b[39mLLMResult(generations\u001b[38;5;241m=\u001b[39m[]))\n\u001b[1;32m--> 421\u001b[0m         \u001b[38;5;28;01mraise\u001b[39;00m e\n\u001b[0;32m    422\u001b[0m flattened_outputs \u001b[38;5;241m=\u001b[39m [\n\u001b[0;32m    423\u001b[0m     LLMResult(generations\u001b[38;5;241m=\u001b[39m[res\u001b[38;5;241m.\u001b[39mgenerations], llm_output\u001b[38;5;241m=\u001b[39mres\u001b[38;5;241m.\u001b[39mllm_output)  \u001b[38;5;66;03m# type: ignore[list-item]\u001b[39;00m\n\u001b[0;32m    424\u001b[0m     \u001b[38;5;28;01mfor\u001b[39;00m res \u001b[38;5;129;01min\u001b[39;00m results\n\u001b[0;32m    425\u001b[0m ]\n\u001b[0;32m    426\u001b[0m llm_output \u001b[38;5;241m=\u001b[39m \u001b[38;5;28mself\u001b[39m\u001b[38;5;241m.\u001b[39m_combine_llm_outputs([res\u001b[38;5;241m.\u001b[39mllm_output \u001b[38;5;28;01mfor\u001b[39;00m res \u001b[38;5;129;01min\u001b[39;00m results])\n",
      "File \u001b[1;32mc:\\Projects\\Python\\text2sql\\.venv\\Lib\\site-packages\\langchain_core\\language_models\\chat_models.py:411\u001b[0m, in \u001b[0;36mBaseChatModel.generate\u001b[1;34m(self, messages, stop, callbacks, tags, metadata, run_name, run_id, **kwargs)\u001b[0m\n\u001b[0;32m    408\u001b[0m \u001b[38;5;28;01mfor\u001b[39;00m i, m \u001b[38;5;129;01min\u001b[39;00m \u001b[38;5;28menumerate\u001b[39m(messages):\n\u001b[0;32m    409\u001b[0m     \u001b[38;5;28;01mtry\u001b[39;00m:\n\u001b[0;32m    410\u001b[0m         results\u001b[38;5;241m.\u001b[39mappend(\n\u001b[1;32m--> 411\u001b[0m             \u001b[38;5;28;43mself\u001b[39;49m\u001b[38;5;241;43m.\u001b[39;49m\u001b[43m_generate_with_cache\u001b[49m\u001b[43m(\u001b[49m\n\u001b[0;32m    412\u001b[0m \u001b[43m                \u001b[49m\u001b[43mm\u001b[49m\u001b[43m,\u001b[49m\n\u001b[0;32m    413\u001b[0m \u001b[43m                \u001b[49m\u001b[43mstop\u001b[49m\u001b[38;5;241;43m=\u001b[39;49m\u001b[43mstop\u001b[49m\u001b[43m,\u001b[49m\n\u001b[0;32m    414\u001b[0m \u001b[43m                \u001b[49m\u001b[43mrun_manager\u001b[49m\u001b[38;5;241;43m=\u001b[39;49m\u001b[43mrun_managers\u001b[49m\u001b[43m[\u001b[49m\u001b[43mi\u001b[49m\u001b[43m]\u001b[49m\u001b[43m \u001b[49m\u001b[38;5;28;43;01mif\u001b[39;49;00m\u001b[43m \u001b[49m\u001b[43mrun_managers\u001b[49m\u001b[43m \u001b[49m\u001b[38;5;28;43;01melse\u001b[39;49;00m\u001b[43m \u001b[49m\u001b[38;5;28;43;01mNone\u001b[39;49;00m\u001b[43m,\u001b[49m\n\u001b[0;32m    415\u001b[0m \u001b[43m                \u001b[49m\u001b[38;5;241;43m*\u001b[39;49m\u001b[38;5;241;43m*\u001b[39;49m\u001b[43mkwargs\u001b[49m\u001b[43m,\u001b[49m\n\u001b[0;32m    416\u001b[0m \u001b[43m            \u001b[49m\u001b[43m)\u001b[49m\n\u001b[0;32m    417\u001b[0m         )\n\u001b[0;32m    418\u001b[0m     \u001b[38;5;28;01mexcept\u001b[39;00m \u001b[38;5;167;01mBaseException\u001b[39;00m \u001b[38;5;28;01mas\u001b[39;00m e:\n\u001b[0;32m    419\u001b[0m         \u001b[38;5;28;01mif\u001b[39;00m run_managers:\n",
      "File \u001b[1;32mc:\\Projects\\Python\\text2sql\\.venv\\Lib\\site-packages\\langchain_core\\language_models\\chat_models.py:632\u001b[0m, in \u001b[0;36mBaseChatModel._generate_with_cache\u001b[1;34m(self, messages, stop, run_manager, **kwargs)\u001b[0m\n\u001b[0;32m    630\u001b[0m \u001b[38;5;28;01melse\u001b[39;00m:\n\u001b[0;32m    631\u001b[0m     \u001b[38;5;28;01mif\u001b[39;00m inspect\u001b[38;5;241m.\u001b[39msignature(\u001b[38;5;28mself\u001b[39m\u001b[38;5;241m.\u001b[39m_generate)\u001b[38;5;241m.\u001b[39mparameters\u001b[38;5;241m.\u001b[39mget(\u001b[38;5;124m\"\u001b[39m\u001b[38;5;124mrun_manager\u001b[39m\u001b[38;5;124m\"\u001b[39m):\n\u001b[1;32m--> 632\u001b[0m         result \u001b[38;5;241m=\u001b[39m \u001b[38;5;28;43mself\u001b[39;49m\u001b[38;5;241;43m.\u001b[39;49m\u001b[43m_generate\u001b[49m\u001b[43m(\u001b[49m\n\u001b[0;32m    633\u001b[0m \u001b[43m            \u001b[49m\u001b[43mmessages\u001b[49m\u001b[43m,\u001b[49m\u001b[43m \u001b[49m\u001b[43mstop\u001b[49m\u001b[38;5;241;43m=\u001b[39;49m\u001b[43mstop\u001b[49m\u001b[43m,\u001b[49m\u001b[43m \u001b[49m\u001b[43mrun_manager\u001b[49m\u001b[38;5;241;43m=\u001b[39;49m\u001b[43mrun_manager\u001b[49m\u001b[43m,\u001b[49m\u001b[43m \u001b[49m\u001b[38;5;241;43m*\u001b[39;49m\u001b[38;5;241;43m*\u001b[39;49m\u001b[43mkwargs\u001b[49m\n\u001b[0;32m    634\u001b[0m \u001b[43m        \u001b[49m\u001b[43m)\u001b[49m\n\u001b[0;32m    635\u001b[0m     \u001b[38;5;28;01melse\u001b[39;00m:\n\u001b[0;32m    636\u001b[0m         result \u001b[38;5;241m=\u001b[39m \u001b[38;5;28mself\u001b[39m\u001b[38;5;241m.\u001b[39m_generate(messages, stop\u001b[38;5;241m=\u001b[39mstop, \u001b[38;5;241m*\u001b[39m\u001b[38;5;241m*\u001b[39mkwargs)\n",
      "File \u001b[1;32mc:\\Projects\\Python\\text2sql\\.venv\\Lib\\site-packages\\langchain_experimental\\llms\\ollama_functions.py:322\u001b[0m, in \u001b[0;36mOllamaFunctions._generate\u001b[1;34m(self, messages, stop, run_manager, **kwargs)\u001b[0m\n\u001b[0;32m    316\u001b[0m     \u001b[38;5;28;01mraise\u001b[39;00m \u001b[38;5;167;01mValueError\u001b[39;00m(\n\u001b[0;32m    317\u001b[0m         \u001b[38;5;124mf\u001b[39m\u001b[38;5;124m\"\"\"\u001b[39m\u001b[38;5;124m'\u001b[39m\u001b[38;5;132;01m{\u001b[39;00m\u001b[38;5;28mself\u001b[39m\u001b[38;5;241m.\u001b[39mmodel\u001b[38;5;132;01m}\u001b[39;00m\u001b[38;5;124m'\u001b[39m\u001b[38;5;124m did not respond with valid JSON. \u001b[39m\n\u001b[0;32m    318\u001b[0m \u001b[38;5;124m        Please try again. \u001b[39m\n\u001b[0;32m    319\u001b[0m \u001b[38;5;124m        Response: \u001b[39m\u001b[38;5;132;01m{\u001b[39;00mchat_generation_content\u001b[38;5;132;01m}\u001b[39;00m\u001b[38;5;124m\"\"\"\u001b[39m\n\u001b[0;32m    320\u001b[0m     )\n\u001b[0;32m    321\u001b[0m \u001b[38;5;28mprint\u001b[39m(\u001b[38;5;124mf\u001b[39m\u001b[38;5;124m\"\u001b[39m\u001b[38;5;124mparsed chat\u001b[39m\u001b[38;5;130;01m\\t\u001b[39;00m\u001b[38;5;132;01m{\u001b[39;00mparsed_chat_result\u001b[38;5;132;01m}\u001b[39;00m\u001b[38;5;124m\"\u001b[39m) \u001b[38;5;66;03m# TODO: DELETE THIS ROW\u001b[39;00m\n\u001b[1;32m--> 322\u001b[0m called_tool_name \u001b[38;5;241m=\u001b[39m \u001b[43mparsed_chat_result\u001b[49m\u001b[43m[\u001b[49m\u001b[38;5;124;43m\"\u001b[39;49m\u001b[38;5;124;43mtool\u001b[39;49m\u001b[38;5;124;43m\"\u001b[39;49m\u001b[43m]\u001b[49m\n\u001b[0;32m    323\u001b[0m called_tool_arguments \u001b[38;5;241m=\u001b[39m parsed_chat_result[\u001b[38;5;124m\"\u001b[39m\u001b[38;5;124mtool_input\u001b[39m\u001b[38;5;124m\"\u001b[39m]\n\u001b[0;32m    324\u001b[0m called_tool \u001b[38;5;241m=\u001b[39m \u001b[38;5;28mnext\u001b[39m(\n\u001b[0;32m    325\u001b[0m     (fn \u001b[38;5;28;01mfor\u001b[39;00m fn \u001b[38;5;129;01min\u001b[39;00m functions \u001b[38;5;28;01mif\u001b[39;00m fn[\u001b[38;5;124m\"\u001b[39m\u001b[38;5;124mname\u001b[39m\u001b[38;5;124m\"\u001b[39m] \u001b[38;5;241m==\u001b[39m called_tool_name), \u001b[38;5;28;01mNone\u001b[39;00m\n\u001b[0;32m    326\u001b[0m )\n",
      "\u001b[1;31mKeyError\u001b[0m: 'tool'"
     ]
    }
   ],
   "source": [
    "res = run_agent(TestData.QUESTIONS[0])"
   ]
  },
  {
   "cell_type": "code",
   "execution_count": null,
   "metadata": {},
   "outputs": [],
   "source": [
    "print(res)"
   ]
  },
  {
   "cell_type": "code",
   "execution_count": null,
   "metadata": {},
   "outputs": [],
   "source": [
    "res = run_agent(TestData.QUESTIONS[1])"
   ]
  },
  {
   "cell_type": "code",
   "execution_count": null,
   "metadata": {},
   "outputs": [],
   "source": [
    "print(res)"
   ]
  }
 ],
 "metadata": {
  "kernelspec": {
   "display_name": "venv",
   "language": "python",
   "name": "python3"
  },
  "language_info": {
   "codemirror_mode": {
    "name": "ipython",
    "version": 3
   },
   "file_extension": ".py",
   "mimetype": "text/x-python",
   "name": "python",
   "nbconvert_exporter": "python",
   "pygments_lexer": "ipython3",
   "version": "3.12.1"
  }
 },
 "nbformat": 4,
 "nbformat_minor": 2
}
