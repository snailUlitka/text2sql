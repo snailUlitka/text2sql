{
 "cells": [
  {
   "cell_type": "markdown",
   "metadata": {},
   "source": [
    "# SQL agent"
   ]
  },
  {
   "cell_type": "markdown",
   "metadata": {},
   "source": [
    "## Setup"
   ]
  },
  {
   "cell_type": "markdown",
   "metadata": {},
   "source": [
    "### Imports"
   ]
  },
  {
   "cell_type": "code",
   "execution_count": 15,
   "metadata": {},
   "outputs": [],
   "source": [
    "import os\n",
    "import re\n",
    "import pickle\n",
    "from typing import (\n",
    "    List,\n",
    "    Any\n",
    ")\n",
    "\n",
    "import db_connect\n",
    "from test_data import TestData\n",
    "from prompt import (\n",
    "    PREFIX,\n",
    "    SUFFIX,\n",
    "    TABLE_DESCRIPTIONS\n",
    ")\n",
    "\n",
    "from langsmith import Client\n",
    "\n",
    "from langchain_core.language_models import BaseLanguageModel\n",
    "\n",
    "from langchain.prompts import PromptTemplate\n",
    "\n",
    "from langchain.agents.agent_types import AgentType\n",
    "from langchain.agents.agent_toolkits.sql import base\n",
    "from langchain.agents.agent import AgentExecutor\n",
    "from langchain.agents import create_openai_tools_agent, create_react_agent, create_sql_agent\n",
    "from langchain.agents.agent_toolkits.sql.toolkit import SQLDatabaseToolkit\n",
    "from langchain_community.tools.sql_database import tool as sql_tools\n",
    "\n",
    "from langchain_community.llms.ollama import Ollama\n",
    "from langchain_community.embeddings.ollama import OllamaEmbeddings\n",
    "\n",
    "from langchain_experimental.llms.ollama_functions import (\n",
    "    OllamaFunctions,\n",
    "    DEFAULT_RESPONSE_FUNCTION\n",
    ")\n",
    "\n",
    "from langchain_core.output_parsers import StrOutputParser\n",
    "\n",
    "from langchain_core.messages.human import HumanMessage\n",
    "from langchain_core.messages.ai import AIMessage\n",
    "\n",
    "from langchain_experimental.llms.ollama_functions import convert_to_ollama_tool\n",
    "from langchain.schema.agent import AgentFinish\n",
    "\n",
    "from langchain_core.pydantic_v1 import BaseModel, Field\n",
    "\n",
    "from langchain.tools import (tool, BaseTool)\n",
    "\n",
    "from prompt_generator import PromptGenerator\n",
    "from examples import FEW_SHOT_EXAMPLES\n",
    "\n",
    "from langchain_core.runnables import Runnable, RunnablePassthrough\n",
    "from langchain.agents.format_scratchpad.openai_functions import (\n",
    "    format_to_openai_function_messages,\n",
    ")\n",
    "from langchain.agents.output_parsers.openai_functions import (\n",
    "    OpenAIFunctionsAgentOutputParser,\n",
    ")\n",
    "\n",
    "from langchain_core.runnables.config import RunnableConfig\n",
    "from langchain.callbacks.tracers import ConsoleCallbackHandler\n",
    "\n",
    "from langchain_openai.chat_models import ChatOpenAI\n",
    "from langchain_openai.embeddings import OpenAIEmbeddings"
   ]
  },
  {
   "cell_type": "markdown",
   "metadata": {},
   "source": [
    "### LangSmith"
   ]
  },
  {
   "cell_type": "code",
   "execution_count": 16,
   "metadata": {},
   "outputs": [],
   "source": [
    "os.environ[\"LANGCHAIN_PROJECT\"] = \"text2sql\"\n",
    "client = Client()"
   ]
  },
  {
   "cell_type": "markdown",
   "metadata": {},
   "source": [
    "### Load models"
   ]
  },
  {
   "cell_type": "code",
   "execution_count": 17,
   "metadata": {},
   "outputs": [],
   "source": [
    "llama3_embeddings = OllamaEmbeddings(model=\"llama3:8b\", temperature=0)\n",
    "\n",
    "llama3 = Ollama(model=\"llama3:instruct\", temperature=0)\n",
    "llama3_q8 = Ollama(model=\"llama3:8b-instruct-q8_0\", temperature=0)\n",
    "\n",
    "llama3__with_functions = OllamaFunctions(model=\"llama3:instruct\", format=\"json\")\n",
    "llama3_q8__with_functions = OllamaFunctions(model=\"llama3:8b-instruct-q8_0\", format=\"json\")"
   ]
  },
  {
   "cell_type": "markdown",
   "metadata": {},
   "source": [
    "### Connect to DB with Readonly role"
   ]
  },
  {
   "cell_type": "code",
   "execution_count": 18,
   "metadata": {},
   "outputs": [],
   "source": [
    "db = db_connect.get_db()"
   ]
  },
  {
   "cell_type": "markdown",
   "metadata": {},
   "source": [
    "#### Check connection"
   ]
  },
  {
   "cell_type": "code",
   "execution_count": 19,
   "metadata": {},
   "outputs": [
    {
     "data": {
      "text/plain": [
       "\"[(1, 'John'), (2, 'James'), (3, 'Poul'), (4, 'Christofer'), (5, 'Superman'), (6, 'Donald'), (7, 'Douglas'), (8, 'Dwight'), (9, 'Earl'), (10, 'Edgar'), (11, 'Edmund'), (12, 'Edwin'), (13, 'Elliot'), (14, 'Eric'), (15, 'Ernest'), (16, 'Ethan'), (17, 'Ezekiel'), (18, 'Felix'), (19, 'Franklin'), (20, 'Frederick'), (21, 'Gabriel'), (22, 'Joseph'), (23, 'Joshua'), (24, 'Julian'), (25, 'Alice'), (26, 'Bob'), (27, 'Charlie'), (28, 'David'), (29, 'Emily'), (30, 'Frank'), (31, 'George'), (32, 'Helen'), (33, 'Irene'), (34, 'Jack'), (35, 'Kate'), (36, 'Leo'), (37, 'Mary'), (38, 'Nancy'), (39, 'Oliver'), (40, 'Paul'), (41, 'Qiana'), (42, 'Robert'), (43, 'Samantha'), (44, 'Thomas'), (45, 'Victoria')]\""
      ]
     },
     "execution_count": 19,
     "metadata": {},
     "output_type": "execute_result"
    }
   ],
   "source": [
    "db.run(\"select * from passenger\")"
   ]
  },
  {
   "cell_type": "markdown",
   "metadata": {},
   "source": [
    "-----"
   ]
  },
  {
   "cell_type": "markdown",
   "metadata": {},
   "source": [
    "## Create agent"
   ]
  },
  {
   "cell_type": "markdown",
   "metadata": {},
   "source": [
    "### Prompt and error handler"
   ]
  },
  {
   "cell_type": "code",
   "execution_count": 20,
   "metadata": {},
   "outputs": [],
   "source": [
    "prompt_generator = PromptGenerator().set_example_selector(\n",
    "        examples=FEW_SHOT_EXAMPLES,\n",
    "        embedding_llm=llama3_embeddings,\n",
    "        k=3\n",
    ")"
   ]
  },
  {
   "cell_type": "markdown",
   "metadata": {},
   "source": [
    "### Create functions for `OllamaFunctions`"
   ]
  },
  {
   "cell_type": "markdown",
   "metadata": {},
   "source": [
    "#### Pydentic classes (Functions)"
   ]
  },
  {
   "cell_type": "code",
   "execution_count": 21,
   "metadata": {},
   "outputs": [],
   "source": [
    "class QuerySQLDatabaseTool(BaseModel):\n",
    "    \"\"\"INPUT to this tool is a DETAILED and CORRECT SQL query, \n",
    "    OUTPUT is a RESULT FROM the DATABASE. If the query is not \n",
    "    correct, an error message will be returned. If an error is \n",
    "    returned, rewrite the query, check the query, and try again. \n",
    "    If you encounter an issue with Unknown column 'xxxx' in \n",
    "    'field list', use sql_db_schema to query the correct table fields.\"\"\"\n",
    "    query: str = Field(\n",
    "        description=\"Detailed and correct SQL query.\"\n",
    "    )\n",
    "\n",
    "\n",
    "class InfoSQLDatabaseTool(BaseModel):\n",
    "    \"\"\"INPUT to this tool is a comma-separated LIST OF TABLES, \n",
    "    output is the schema and sample rows for those tables. \n",
    "    Be sure that the tables actually exist by calling \n",
    "    sql_db_list_tables first! Example Input: table1, table2, table3.\n",
    "    This tool will not help if you need to get information about a column!\"\"\"\n",
    "    input_list: str = Field(\n",
    "        description=\"Comma-separated list of tables. Example: table1, table2, table3\"\n",
    "    )\n",
    "\n",
    "\n",
    "class ListSQLDatabaseTool(BaseModel):\n",
    "    \"\"\"INPUT to this tool is a EMPTY STRING, \n",
    "    OUTPUT is a comma-separated LIST OF TABLES \n",
    "    in database. Use this tool to select the \n",
    "    tables needed to respond to the user.\"\"\"\n",
    "    empty_string: str = Field(description=\"Empty string\")\n",
    "\n",
    "\n",
    "class QuerySQLCheckerTool(BaseModel):\n",
    "    \"\"\"INPUT to this tool is a QUERY to check, \n",
    "    OUTPUT is a CORRECT QUERY in database. \n",
    "    Use this tool to double check if \n",
    "    your query is correct before executing it. \n",
    "    Always use this tool before executing a \n",
    "    query with sql_db_query!\"\"\"\n",
    "    query_to_check: str = Field(\n",
    "        description=\"SQL query that needs to be checked before execution.\"\n",
    "    )\n",
    "    \n",
    "\n",
    "class ConversationalResponse(BaseModel):\n",
    "    \"\"\"INPUT to this tool is a message to \n",
    "    the user Use this tool to text replies \n",
    "    to the user or if no other tool is \n",
    "    suitable for you. For example, \n",
    "    if you are ready to answer a \n",
    "    question. Or if the user just \n",
    "    wants to chat.\"\"\"\n",
    "    message_to_user: str = Field(\n",
    "        description=\"Message or response or answer to user.\"\n",
    "    )\n",
    "\n",
    "\n",
    "\n",
    "functions = [\n",
    "    QuerySQLDatabaseTool, \n",
    "    InfoSQLDatabaseTool,\n",
    "    ListSQLDatabaseTool,\n",
    "    QuerySQLCheckerTool,\n",
    "    ConversationalResponse\n",
    "]\n",
    "functions = [convert_to_ollama_tool(f) for f in functions]\n",
    "functions[-1]['name'] = DEFAULT_RESPONSE_FUNCTION['name']"
   ]
  },
  {
   "cell_type": "markdown",
   "metadata": {},
   "source": [
    "#### Tools"
   ]
  },
  {
   "cell_type": "code",
   "execution_count": 22,
   "metadata": {},
   "outputs": [],
   "source": [
    "@tool\n",
    "def QuerySQLDatabaseTool(query: str):\n",
    "    \"\"\"INPUT to this tool is a DETAILED and CORRECT SQL query, \n",
    "    OUTPUT is a RESULT FROM the DATABASE. If the query is not \n",
    "    correct, an error message will be returned. If an error is \n",
    "    returned, rewrite the query, check the query, and try again. \n",
    "    If you encounter an issue with Unknown column 'xxxx' in \n",
    "    'field list', use sql_db_schema to query the correct table fields.\"\"\"\n",
    "    return db.run_no_throw(query)\n",
    "\n",
    "@tool\n",
    "def InfoSQLDatabaseTool(input_list: str):\n",
    "    \"\"\"INPUT to this tool is a comma-separated LIST OF TABLES, \n",
    "    output is the schema and sample rows for those tables. \n",
    "    Be sure that the tables actually exist by calling \n",
    "    sql_db_list_tables first! Example Input: table1, table2, table3.\n",
    "    This tool will not help if you need to get information about a column!\"\"\"\n",
    "    \n",
    "    res = \"\"\n",
    "    res += \"company, \" if \"company\" in input_list else \"\"\n",
    "    res += \"pass_in_trip, \" if \"pass_in_trip\" in input_list else \"\"\n",
    "    res += \"passenger, \" if \"passenger\" in input_list else \"\"\n",
    "    res += \"trip, \" if \"trip\" in input_list else \"\"\n",
    "    \n",
    "    res = res[:-2]\n",
    "    \n",
    "    return db.get_table_info_no_throw(\n",
    "            [t.strip() for t in res.split(\",\")]\n",
    "        )\n",
    "\n",
    "@tool\n",
    "def ListSQLDatabaseTool(empty_string: str = \"\"):\n",
    "    \"\"\"INPUT to this tool is a EMPTY STRING, \n",
    "    OUTPUT is a comma-separated LIST OF TABLES \n",
    "    in database. Use this tool to select the \n",
    "    tables needed to respond to the user.\"\"\"\n",
    "    return \", \".join(db.get_usable_table_names())\n",
    "\n",
    "QUERY_CHECKER = \"\"\"\n",
    "{query}\n",
    "Double check the {dialect} query above for common mistakes, including:\n",
    "- Using NOT IN with NULL values\n",
    "- Using UNION when UNION ALL should have been used\n",
    "- Using BETWEEN for exclusive ranges\n",
    "- Data type mismatch in predicates\n",
    "- Properly quoting identifiers\n",
    "- Using the correct number of arguments for functions\n",
    "- Casting to the correct data type\n",
    "- Using the proper columns for joins\n",
    "\n",
    "If there are any of the above mistakes, rewrite the query. If there are no mistakes, just reproduce the original query.\n",
    "\n",
    "Output the final SQL query only.\n",
    "\n",
    "SQL Query: \"\"\"\n",
    "\n",
    "checker_prompt = PromptTemplate.from_template(\n",
    "    template=QUERY_CHECKER\n",
    ")\n",
    "\n",
    "@tool\n",
    "def QuerySQLCheckerTool(query_to_check: str):\n",
    "    \"\"\"INPUT to this tool is a QUERY to check, \n",
    "    OUTPUT is a CORRECT QUERY in database. \n",
    "    Use this tool to double check if \n",
    "    your query is correct before executing it. \n",
    "    Always use this tool before executing a \n",
    "    query with sql_db_query!\"\"\"\n",
    "    chain = checker_prompt | llama3 | StrOutputParser()\n",
    "    return chain.invoke({\n",
    "        \"query\": query_to_check,\n",
    "        \"dialect\": db.dialect,\n",
    "    })\n",
    "\n",
    "tools = [\n",
    "    QuerySQLDatabaseTool,\n",
    "    InfoSQLDatabaseTool,\n",
    "    ListSQLDatabaseTool,\n",
    "    QuerySQLCheckerTool,\n",
    "]"
   ]
  },
  {
   "cell_type": "markdown",
   "metadata": {},
   "source": [
    "#### Routing"
   ]
  },
  {
   "cell_type": "markdown",
   "metadata": {},
   "source": [
    "### Function to get agent with provided llm model"
   ]
  },
  {
   "cell_type": "code",
   "execution_count": 23,
   "metadata": {},
   "outputs": [],
   "source": [
    "def format_to_ollama_chat_messages(intermediate_steps):\n",
    "    agent_scratchpad = []\n",
    "    \n",
    "    for step in intermediate_steps:\n",
    "        agent_scratchpad.append(\n",
    "            AIMessage(\n",
    "                content=f\"I use this tool \\\"{step[0].tool}\\\" \" +\n",
    "                f\"with this input\\nInput: {step[0].tool_input}\"\n",
    "            )\n",
    "        )\n",
    "        if step[0].tool == \"QuerySQLDataBaseTool\":\n",
    "            human_message = \"This is similar to the database \" +\\\n",
    "                \"response. Maybe there's something I need there. \" +\\\n",
    "                \"I can't see it, please help me understand, if \" +\\\n",
    "                \"there is an answer to my question, please give it \" +\\\n",
    "                \"to me, use it for this: \\\"__conversational_response\\\"\"\n",
    "        elif step[0].tool == \"InfoSQLDatabaseTool\":\n",
    "            human_message = \"It looks like the structure of the database \" +\\\n",
    "                \"tables(s). Maybe this will help you write the right query? \" +\\\n",
    "                \"Please make sure you remember the names!\"\n",
    "        elif step[0].tool == \"ListSQLDatabaseTool\":\n",
    "            human_message = \"It looks like a list of table names. \" +\\\n",
    "                \"Maybe it will help to get an answer. I think if you don't \" +\\\n",
    "                \"have enough information, you can use this: \\\"InfoSQLDatabaseTool\\\"\"\n",
    "        elif step[0].tool == \"QuerySQLCheckerTool\":\n",
    "            human_message = \"It looks like an SQL query! I think it's the \" +\\\n",
    "                \"right one. It's worth running it and seeing what it gives, \" +\\\n",
    "                \"maybe there's an answer to my question. Help me, please!\"\n",
    "        \n",
    "        agent_scratchpad.append(\n",
    "            HumanMessage(\n",
    "                content=\"I can help you execute the tool. Give me a second... \" +\n",
    "                    \"And so, I think I managed to call it, but I can't read \" +\n",
    "                    \"what's written there, only a smart AI can understand it.\" +\n",
    "                    f\"\\nI checked, the result of the tool\\n{human_message}\" +\n",
    "                    f\"\\n\\nResult of tool: \\n{step[1]}\"\n",
    "            )\n",
    "        )\n",
    "        \n",
    "    return agent_scratchpad\n",
    "\n",
    "def get_agent(llm: OllamaFunctions, functions: List[BaseModel]) -> AgentExecutor:\n",
    "    \"\"\"Create and return agent with provided `llm` model\"\"\"\n",
    "\n",
    "    llm_with_tools = llm.bind_tools(tools=functions)\n",
    "    llm_with_tools.bind(verbose=True)\n",
    "    agent = (\n",
    "        RunnablePassthrough.assign(\n",
    "            agent_scratchpad=lambda steps: format_to_ollama_chat_messages(steps['intermediate_steps'])\n",
    "        )\n",
    "        | prompt_generator.get_prompt()\n",
    "        | llm_with_tools\n",
    "        | OpenAIFunctionsAgentOutputParser()\n",
    "    )\n",
    "    \n",
    "    return agent"
   ]
  },
  {
   "cell_type": "code",
   "execution_count": 27,
   "metadata": {},
   "outputs": [],
   "source": [
    "agent = get_agent(llama3__with_functions, functions)\n",
    "\n",
    "def run_agent(user_input):\n",
    "    intermediate_steps = []\n",
    "    while True:\n",
    "        result = agent.invoke({\n",
    "            \"dialect\": \"PostgreSQL\",\n",
    "            \"input\": TestData.QUESTIONS[0],\n",
    "            \"top_k\": \"3\", \n",
    "            \"intermediate_steps\": intermediate_steps\n",
    "        }, config=RunnableConfig(callbacks=[ConsoleCallbackHandler()]))\n",
    "        if isinstance(result, AgentFinish):\n",
    "            return result\n",
    "        tool = {\n",
    "            \"QuerySQLDataBaseTool\": QuerySQLDatabaseTool, \n",
    "            \"InfoSQLDatabaseTool\": InfoSQLDatabaseTool,\n",
    "            \"ListSQLDatabaseTool\": ListSQLDatabaseTool, \n",
    "            \"QuerySQLCheckerTool\": QuerySQLCheckerTool,\n",
    "        }[result.tool]\n",
    "        observation = tool.run(result.tool_input)\n",
    "        intermediate_steps.append((result, observation))"
   ]
  },
  {
   "cell_type": "markdown",
   "metadata": {},
   "source": [
    "-----\n",
    "## Testing an agent with different models and save the results"
   ]
  },
  {
   "cell_type": "code",
   "execution_count": 25,
   "metadata": {},
   "outputs": [
    {
     "name": "stdout",
     "output_type": "stream",
     "text": [
      "Here are the names you asked for: 'Alice', 'Bob', 'Charlie', 'Christofer', 'David'\n"
     ]
    }
   ],
   "source": [
    "print(TestData.ANSWER[0])"
   ]
  },
  {
   "cell_type": "code",
   "execution_count": 28,
   "metadata": {},
   "outputs": [
    {
     "name": "stdout",
     "output_type": "stream",
     "text": [
      "\u001b[32;1m\u001b[1;3m[chain/start]\u001b[0m \u001b[1m[chain:RunnableSequence] Entering Chain run with input:\n",
      "\u001b[0m{\n",
      "  \"dialect\": \"PostgreSQL\",\n",
      "  \"input\": \"Print the first 5 names of the passengers, sorted by name\",\n",
      "  \"top_k\": \"3\",\n",
      "  \"intermediate_steps\": []\n",
      "}\n",
      "\u001b[32;1m\u001b[1;3m[chain/start]\u001b[0m \u001b[1m[chain:RunnableSequence > chain:RunnableAssign<agent_scratchpad>] Entering Chain run with input:\n",
      "\u001b[0m{\n",
      "  \"dialect\": \"PostgreSQL\",\n",
      "  \"input\": \"Print the first 5 names of the passengers, sorted by name\",\n",
      "  \"top_k\": \"3\",\n",
      "  \"intermediate_steps\": []\n",
      "}\n",
      "\u001b[32;1m\u001b[1;3m[chain/start]\u001b[0m \u001b[1m[chain:RunnableSequence > chain:RunnableAssign<agent_scratchpad> > chain:RunnableParallel<agent_scratchpad>] Entering Chain run with input:\n",
      "\u001b[0m{\n",
      "  \"dialect\": \"PostgreSQL\",\n",
      "  \"input\": \"Print the first 5 names of the passengers, sorted by name\",\n",
      "  \"top_k\": \"3\",\n",
      "  \"intermediate_steps\": []\n",
      "}\n",
      "\u001b[32;1m\u001b[1;3m[chain/start]\u001b[0m \u001b[1m[chain:RunnableSequence > chain:RunnableAssign<agent_scratchpad> > chain:RunnableParallel<agent_scratchpad> > chain:RunnableLambda] Entering Chain run with input:\n",
      "\u001b[0m{\n",
      "  \"dialect\": \"PostgreSQL\",\n",
      "  \"input\": \"Print the first 5 names of the passengers, sorted by name\",\n",
      "  \"top_k\": \"3\",\n",
      "  \"intermediate_steps\": []\n",
      "}\n",
      "\u001b[36;1m\u001b[1;3m[chain/end]\u001b[0m \u001b[1m[chain:RunnableSequence > chain:RunnableAssign<agent_scratchpad> > chain:RunnableParallel<agent_scratchpad> > chain:RunnableLambda] [3ms] Exiting Chain run with output:\n",
      "\u001b[0m{\n",
      "  \"output\": []\n",
      "}\n",
      "\u001b[36;1m\u001b[1;3m[chain/end]\u001b[0m \u001b[1m[chain:RunnableSequence > chain:RunnableAssign<agent_scratchpad> > chain:RunnableParallel<agent_scratchpad>] [8ms] Exiting Chain run with output:\n",
      "\u001b[0m{\n",
      "  \"agent_scratchpad\": []\n",
      "}\n",
      "\u001b[36;1m\u001b[1;3m[chain/end]\u001b[0m \u001b[1m[chain:RunnableSequence > chain:RunnableAssign<agent_scratchpad>] [13ms] Exiting Chain run with output:\n",
      "\u001b[0m{\n",
      "  \"dialect\": \"PostgreSQL\",\n",
      "  \"input\": \"Print the first 5 names of the passengers, sorted by name\",\n",
      "  \"top_k\": \"3\",\n",
      "  \"intermediate_steps\": [],\n",
      "  \"agent_scratchpad\": []\n",
      "}\n",
      "\u001b[32;1m\u001b[1;3m[chain/start]\u001b[0m \u001b[1m[chain:RunnableSequence > prompt:ChatPromptTemplate] Entering Prompt run with input:\n",
      "\u001b[0m{\n",
      "  \"dialect\": \"PostgreSQL\",\n",
      "  \"input\": \"Print the first 5 names of the passengers, sorted by name\",\n",
      "  \"top_k\": \"3\",\n",
      "  \"intermediate_steps\": [],\n",
      "  \"agent_scratchpad\": []\n",
      "}\n",
      "\u001b[36;1m\u001b[1;3m[chain/end]\u001b[0m \u001b[1m[chain:RunnableSequence > prompt:ChatPromptTemplate] [7.29s] Exiting Prompt run with output:\n",
      "\u001b[0m[outputs]\n",
      "\u001b[32;1m\u001b[1;3m[llm/start]\u001b[0m \u001b[1m[chain:RunnableSequence > llm:OllamaFunctions] Entering LLM run with input:\n",
      "\u001b[0m{\n",
      "  \"prompts\": [\n",
      "    \"System: You are an agent designed to interact with a PostgreSQL database.\\nGiven an input question, create a syntactically correct PostgreSQL query to run, then look at the results of the query and return the answer.\\nUnless the user specifies a specific number of examples they wish to obtain, always limit your query to at most 3 results.\\nYou can order the results by a relevant column to return the most interesting examples in the database.\\nNever query for all the columns from a specific table, only ask for the relevant columns given the question.\\nYou have access to tools for interacting with the database.\\nOnly use the given tools. Only use the information returned by the tools to construct your final answer.\\nYou MUST double check your query before executing it. If you get an error while executing a query, rewrite the query and try again.\\n\\nDO NOT make any DML statements (INSERT, UPDATE, DELETE, DROP etc.) to the database.\\n\\nYou have access to 3 tables: company, pass_in_trip, passenger, trip\\n\\ncompany: Use 'company' table, if you are asked to provide information about airlines or if you are asked to provide information related to any airline.\\n\\npassenger: Use 'passenger' table if you are asked to provide data about passengers or people.\\n\\npass_in_trip: Use 'pass_in_trip' table if you are asked to provide information about the passenger's place on the plane. Also use this table to link the 'passenger' and 'trip' tables to each other.\\n\\ntrip: Use 'trip' table if you are asked to provide trip information. If you are asked to provide information about the departure time or else information about a particular passenger, then contact the 'passenger' table using 'pass_in_trip'\\n\\nIf the question does not seem related to any table, just return \\\"I don't know\\\" as the answer.\\nYou may actively speculate on reasons describing categories differences or similarities, or their defining feature values.\\nTrip is travel or flight, Company is airlines.\\n\\nHere are some other examples of user inputs and their corresponding SQL queries:\\n\\nUser input: Show me all the trips that are flying out today\\nSQL query: SELECT * FROM public.\\\"trip\\\" WHERE EXTRACT(DAY FROM NOW()) = EXTRACT(DAY FROM \\\"time_out\\\");\\n\\nUser input: Give me all the information about 1 company\\nSQL query: SELECT * FROM public.\\\"company\\\" LIMIT 1;\\n\\nUser input: Print out the names of all the planes\\nSQL query: SELECT \\\"plane\\\" FROM public.\\\"trip\\\" LIMIT 20;\\n\\nYou are working on the problem of INFORMING PASSENGERS, you should provide the required information unchanged. \\nWhen you are asked to provide a detailed description of the flight(s), please provide the following information:\\n1. Departure time and city\\n2. Time and city of arrival\\n3. If a specific passenger and a specific flight are specified, also indicate the passenger's seat on the plane.\\nWhen you are asked to provide a description of the passenger, provide the following information:\\n1. Passenger's name\\n2. If future information is requested for the next (within a month) flights, please provide a detailed description of the flight.\\n3. If past information is requested, specify the past (within a month)\\nflights, for this purpose specify a detailed description of the flight.\\n4. If information is requested for a specific period, then include information only from that period.\\n\\nMake the answer less technical and more understandable to the user from the sales department.\\nHuman: Print the first 5 names of the passengers, sorted by name\"\n",
      "  ]\n",
      "}\n"
     ]
    }
   ],
   "source": [
    "res = run_agent(\"\")"
   ]
  },
  {
   "cell_type": "code",
   "execution_count": null,
   "metadata": {},
   "outputs": [],
   "source": [
    "print(res)"
   ]
  }
 ],
 "metadata": {
  "kernelspec": {
   "display_name": "venv",
   "language": "python",
   "name": "python3"
  },
  "language_info": {
   "codemirror_mode": {
    "name": "ipython",
    "version": 3
   },
   "file_extension": ".py",
   "mimetype": "text/x-python",
   "name": "python",
   "nbconvert_exporter": "python",
   "pygments_lexer": "ipython3",
   "version": "3.12.1"
  }
 },
 "nbformat": 4,
 "nbformat_minor": 2
}
