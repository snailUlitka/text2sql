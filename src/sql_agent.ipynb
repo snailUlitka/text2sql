{
 "cells": [
  {
   "cell_type": "markdown",
   "metadata": {},
   "source": [
    "# SQL agent"
   ]
  },
  {
   "cell_type": "code",
   "execution_count": 1,
   "metadata": {},
   "outputs": [],
   "source": [
    "import db_connect \n",
    "\n",
    "from langchain_community.llms.ollama import Ollama\n",
    "from langchain_community.embeddings.ollama import OllamaEmbeddings\n",
    "\n",
    "from langchain import agents\n",
    "\n",
    "from langchain.agents.agent_toolkits.sql.toolkit import SQLDatabaseToolkit\n",
    "from langchain.agents.agent_toolkits.sql import base"
   ]
  },
  {
   "cell_type": "markdown",
   "metadata": {},
   "source": [
    "### Load models"
   ]
  },
  {
   "cell_type": "code",
   "execution_count": 2,
   "metadata": {},
   "outputs": [],
   "source": [
    "llama3 = Ollama(model=\"llama3:8b\", temperature=0)\n",
    "llama3_embeddings = OllamaEmbeddings(model=\"llama3:8b\", temperature=0)\n",
    "\n",
    "llama3_inst = Ollama(model=\"llama3:instruct\", temperature=0)\n",
    "llama3_inst_q8 = Ollama(model=\"llama3:8b-instruct-q8_0\", temperature=0)\n",
    "llama3_inst_fp16 = Ollama(model=\"llama3:8b-instruct-fp16\", temperature=0)"
   ]
  },
  {
   "cell_type": "markdown",
   "metadata": {},
   "source": [
    "### Connect to DB with Readonly role"
   ]
  },
  {
   "cell_type": "code",
   "execution_count": 3,
   "metadata": {},
   "outputs": [],
   "source": [
    "db = db_connect.get_db()"
   ]
  },
  {
   "cell_type": "markdown",
   "metadata": {},
   "source": [
    "#### Check connection"
   ]
  },
  {
   "cell_type": "code",
   "execution_count": 4,
   "metadata": {},
   "outputs": [
    {
     "data": {
      "text/plain": [
       "\"[(16, 'John'), (17, 'James'), (18, 'Poul'), (19, 'Christofer'), (20, 'Superman')]\""
      ]
     },
     "execution_count": 4,
     "metadata": {},
     "output_type": "execute_result"
    }
   ],
   "source": [
    "db.run(\"select * from passenger\")"
   ]
  },
  {
   "cell_type": "markdown",
   "metadata": {},
   "source": [
    "-----"
   ]
  },
  {
   "cell_type": "code",
   "execution_count": 5,
   "metadata": {},
   "outputs": [],
   "source": [
    "prefix =\\\n",
    "\"\"\"# Personality\n",
    "You are an expert in PostgreSQL. Answer a question from an ordinary employee.\n",
    "# Task\n",
    "Please answer the following question to the best of your ability.\n",
    "# Tools\n",
    "Use the following tools to answer:\"\"\"\n",
    "\n",
    "format_inst =\\\n",
    "\"\"\"#Format\n",
    "Use the following format:\n",
    "Question: the input question you must answer\n",
    "Thought: you should always think about what to do\n",
    "Action: the action to take, should be one of [{tool_names}]\n",
    "Action Input: the input to the action\n",
    "Observation: the result of the action... (this Thought/Action/Action Input/Observation can repeat N times)\n",
    "Thought: I now know the final answer\n",
    "Final Answer: the final answer to the original input question\"\"\"\n",
    "\n",
    "suffix =\\\n",
    "\"\"\"# Start chain of thoughts\n",
    "\n",
    "Question: {input}\n",
    "Thought:{agent_scratchpad}\"\"\"\n",
    "\n",
    "err_handle =\\\n",
    "\"\"\"# Error\n",
    "Please check your answer for these common mistakes:\n",
    "- There are both an answer and an action in the response.\n",
    "- The answer is not final.\n",
    "- The response is not based on the data from the database query.\"\"\"\n",
    "\n",
    "agent = base.create_sql_agent(\n",
    "    llm=llama3_inst_fp16,\n",
    "    db=db,\n",
    "    agent_type=agents.AgentType.ZERO_SHOT_REACT_DESCRIPTION,\n",
    "    prefix=prefix,\n",
    "    format_instructions=format_inst,\n",
    "    suffix=suffix,\n",
    "    verbose=True,\n",
    "    agent_executor_kwargs={\n",
    "        \"handle_parsing_errors\": err_handle\n",
    "    }\n",
    ")"
   ]
  },
  {
   "cell_type": "code",
   "execution_count": 6,
   "metadata": {},
   "outputs": [
    {
     "name": "stdout",
     "output_type": "stream",
     "text": [
      "\n",
      "\n",
      "\u001b[1m> Entering new SQL Agent Executor chain...\u001b[0m\n",
      "\u001b[32;1m\u001b[1;3mLet's start by listing the tables in the airline database.\n",
      "\n",
      "Action: sql_db_list_tables\n",
      "Action Input: (empty string\u001b[0m\u001b[38;5;200m\u001b[1;3mcompany, pass_in_trip, passenger, trip\u001b[0m"
     ]
    }
   ],
   "source": [
    "res = agent.invoke({\n",
    "    \"input\": \"Select the names of all the people who are in the airline database\"\n",
    "})"
   ]
  },
  {
   "cell_type": "code",
   "execution_count": null,
   "metadata": {},
   "outputs": [
    {
     "name": "stdout",
     "output_type": "stream",
     "text": [
      "{'input': 'Select the names of all the people who are in the airline database', 'output': 'Agent stopped due to iteration limit or time limit.'}\n"
     ]
    }
   ],
   "source": [
    "print(res)"
   ]
  },
  {
   "cell_type": "code",
   "execution_count": null,
   "metadata": {},
   "outputs": [
    {
     "name": "stdout",
     "output_type": "stream",
     "text": [
      "Agent stopped due to iteration limit or time limit.\n"
     ]
    }
   ],
   "source": [
    "print(res['output'])"
   ]
  }
 ],
 "metadata": {
  "kernelspec": {
   "display_name": "venv",
   "language": "python",
   "name": "python3"
  },
  "language_info": {
   "codemirror_mode": {
    "name": "ipython",
    "version": 3
   },
   "file_extension": ".py",
   "mimetype": "text/x-python",
   "name": "python",
   "nbconvert_exporter": "python",
   "pygments_lexer": "ipython3",
   "version": "3.12.1"
  }
 },
 "nbformat": 4,
 "nbformat_minor": 2
}
