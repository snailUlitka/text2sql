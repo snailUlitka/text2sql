{
 "cells": [
  {
   "cell_type": "markdown",
   "metadata": {},
   "source": [
    "# SQL agent"
   ]
  },
  {
   "cell_type": "markdown",
   "metadata": {},
   "source": [
    "## Setup"
   ]
  },
  {
   "cell_type": "markdown",
   "metadata": {},
   "source": [
    "### Imports"
   ]
  },
  {
   "cell_type": "code",
   "execution_count": 1,
   "metadata": {},
   "outputs": [],
   "source": [
    "import os\n",
    "import re\n",
    "import pickle\n",
    "from typing import (\n",
    "    List,\n",
    "    Any\n",
    ")\n",
    "\n",
    "import db_connect\n",
    "from test_data import TestData\n",
    "from prompt_generator import PromptGenerator\n",
    "from examples import FEW_SHOT_EXAMPLES\n",
    "from prompt import (\n",
    "    PREFIX,\n",
    "    SUFFIX,\n",
    "    TABLE_DESCRIPTIONS\n",
    ")\n",
    "\n",
    "from langsmith import Client\n",
    "\n",
    "from langchain_core.language_models import BaseLanguageModel\n",
    "\n",
    "from langchain.prompts import (\n",
    "    PromptTemplate, \n",
    "    ChatPromptTemplate\n",
    ")\n",
    "\n",
    "from langchain.agents.agent_types import AgentType\n",
    "from langchain.agents.agent_toolkits.sql import base\n",
    "from langchain.agents.agent import AgentExecutor\n",
    "from langchain.agents import create_openai_tools_agent, create_react_agent, create_sql_agent\n",
    "from langchain.agents.agent_toolkits.sql.toolkit import SQLDatabaseToolkit\n",
    "from langchain_community.tools.sql_database import tool as sql_tools\n",
    "\n",
    "from langchain_community.llms.ollama import Ollama\n",
    "from langchain_community.chat_models.ollama import ChatOllama\n",
    "from langchain_community.embeddings.ollama import OllamaEmbeddings\n",
    "\n",
    "from langchain_experimental.llms.ollama_functions import (\n",
    "    OllamaFunctions,\n",
    "    DEFAULT_RESPONSE_FUNCTION\n",
    ")\n",
    "\n",
    "from langchain_core.output_parsers import StrOutputParser\n",
    "\n",
    "from langchain_core.messages.human import HumanMessage\n",
    "from langchain_core.messages.ai import AIMessage\n",
    "\n",
    "from langchain_experimental.llms.ollama_functions import convert_to_ollama_tool\n",
    "from langchain.schema.agent import AgentFinish, AgentActionMessageLog\n",
    "\n",
    "from langchain_core.pydantic_v1 import BaseModel, Field\n",
    "\n",
    "from langchain.tools import (tool, BaseTool)\n",
    "\n",
    "from langchain_core.runnables import Runnable, RunnablePassthrough\n",
    "from langchain.agents.openai_tools.base import convert_to_openai_tool\n",
    "from langchain.agents.format_scratchpad.openai_functions import (\n",
    "    format_to_openai_function_messages, \n",
    ")\n",
    "from langchain.agents.output_parsers.openai_functions import (\n",
    "    OpenAIFunctionsAgentOutputParser,\n",
    ")\n",
    "\n",
    "from langchain_core.runnables.config import RunnableConfig\n",
    "from langchain.callbacks.tracers import ConsoleCallbackHandler\n",
    "\n",
    "from langchain_openai.chat_models import ChatOpenAI\n",
    "from langchain_openai.embeddings import OpenAIEmbeddings"
   ]
  },
  {
   "cell_type": "markdown",
   "metadata": {},
   "source": [
    "### LangSmith"
   ]
  },
  {
   "cell_type": "code",
   "execution_count": 2,
   "metadata": {},
   "outputs": [],
   "source": [
    "os.environ[\"LANGCHAIN_PROJECT\"] = \"text2sql\"\n",
    "client = Client()"
   ]
  },
  {
   "cell_type": "markdown",
   "metadata": {},
   "source": [
    "### Load models"
   ]
  },
  {
   "cell_type": "code",
   "execution_count": 3,
   "metadata": {},
   "outputs": [],
   "source": [
    "llama3_embeddings = OllamaEmbeddings(\n",
    "    model=\"llama3:8b\", \n",
    "    temperature=0\n",
    ")\n",
    "\n",
    "llama3 = Ollama(\n",
    "    model=\"llama3:instruct\", \n",
    "    temperature=0\n",
    ")\n",
    "llama3_q8 = Ollama(\n",
    "    model=\"llama3:8b-instruct-q8_0\", \n",
    "    temperature=0\n",
    ")\n",
    "\n",
    "llama3__chat = ChatOllama(\n",
    "    model=\"llama3:instruct\", \n",
    "    temperature=0\n",
    ")\n",
    "llama3_q8__chat = ChatOllama(\n",
    "    model=\"llama3:8b-instruct-q8_0\", \n",
    "    temperature=0\n",
    ")\n",
    "\n",
    "llama3__with_functions = OllamaFunctions(\n",
    "    model=\"llama3:instruct\",\n",
    "    format=\"json\",\n",
    "    temperature=0\n",
    ")\n",
    "llama3_q8__with_functions = OllamaFunctions(\n",
    "    model=\"llama3:8b-instruct-q8_0\",\n",
    "    format=\"json\",\n",
    "    temperature=0\n",
    ")"
   ]
  },
  {
   "cell_type": "markdown",
   "metadata": {},
   "source": [
    "### Connect to DB with Readonly role"
   ]
  },
  {
   "cell_type": "code",
   "execution_count": 4,
   "metadata": {},
   "outputs": [],
   "source": [
    "db = db_connect.get_db()"
   ]
  },
  {
   "cell_type": "markdown",
   "metadata": {},
   "source": [
    "#### Check connection"
   ]
  },
  {
   "cell_type": "code",
   "execution_count": 5,
   "metadata": {},
   "outputs": [
    {
     "data": {
      "text/plain": [
       "\"[(11, 'John'), (12, 'James'), (13, 'Poul'), (14, 'Christofer'), (15, 'Superman')]\""
      ]
     },
     "execution_count": 5,
     "metadata": {},
     "output_type": "execute_result"
    }
   ],
   "source": [
    "db.run(\"select * from passenger\")"
   ]
  },
  {
   "cell_type": "markdown",
   "metadata": {},
   "source": [
    "-----"
   ]
  },
  {
   "cell_type": "markdown",
   "metadata": {},
   "source": [
    "## Create agent"
   ]
  },
  {
   "cell_type": "markdown",
   "metadata": {},
   "source": [
    "### Prompt and error handler"
   ]
  },
  {
   "cell_type": "code",
   "execution_count": 6,
   "metadata": {},
   "outputs": [],
   "source": [
    "prompt_generator = PromptGenerator().set_example_selector(\n",
    "        examples=FEW_SHOT_EXAMPLES,\n",
    "        embedding_llm=llama3_embeddings,\n",
    "        k=3\n",
    ")"
   ]
  },
  {
   "cell_type": "markdown",
   "metadata": {},
   "source": [
    "### Create functions for `OllamaFunctions`"
   ]
  },
  {
   "cell_type": "markdown",
   "metadata": {},
   "source": [
    "#### Pydentic classes (Functions)"
   ]
  },
  {
   "cell_type": "code",
   "execution_count": 7,
   "metadata": {},
   "outputs": [],
   "source": [
    "class QuerySQLDatabaseTool(BaseModel):\n",
    "    \"\"\"INPUT to this tool is a DETAILED and CORRECT SQL query, \n",
    "    OUTPUT is a RESULT FROM the DATABASE. If the query is not \n",
    "    correct, an error message will be returned. If an error is \n",
    "    returned, rewrite the query, check the query, and try again. \n",
    "    If you encounter an issue with Unknown column 'xxxx' in \n",
    "    'field list', use sql_db_schema to query the correct table fields.\"\"\"\n",
    "    sql_query: str = Field(\n",
    "        description=\"Detailed and correct SQL query.\"\n",
    "    )\n",
    "\n",
    "\n",
    "class InfoSQLDatabaseTool(BaseModel):\n",
    "    \"\"\"INPUT to this tool is a comma-separated LIST OF TABLES, \n",
    "    output is the schema and sample rows for those tables. \n",
    "    Be sure that the tables actually exist by calling \n",
    "    sql_db_list_tables first! Example Input: table1, table2, table3.\n",
    "    This tool will not help if you need to get information about a column!\"\"\"\n",
    "    list_of_tables: str = Field(\n",
    "        description=\"Comma-separated list of tables. Example: table1, table2, table3\"\n",
    "    )\n",
    "\n",
    "\n",
    "class ListSQLDatabaseTool(BaseModel):\n",
    "    \"\"\"INPUT to this tool is a EMPTY STRING, \n",
    "    OUTPUT is a comma-separated LIST OF TABLES \n",
    "    in database. Use this tool to select the \n",
    "    tables needed to respond to the user.\"\"\"\n",
    "    empty_string: str = Field(description=\"Empty string\")\n",
    "\n",
    "\n",
    "class QuerySQLCheckerTool(BaseModel):\n",
    "    \"\"\"INPUT to this tool is a QUERY to check, \n",
    "    OUTPUT is a CORRECT QUERY in database. \n",
    "    Use this tool to double check if \n",
    "    your query is correct before executing it. \n",
    "    Always use this tool before executing a \n",
    "    query with sql_db_query!\"\"\"\n",
    "    query_to_check: str = Field(\n",
    "        description=\"SQL query that needs to be checked before execution.\"\n",
    "    )\n",
    "\n",
    "\n",
    "functions = [\n",
    "    QuerySQLDatabaseTool, \n",
    "    InfoSQLDatabaseTool,\n",
    "    ListSQLDatabaseTool,\n",
    "    QuerySQLCheckerTool,\n",
    "]\n",
    "functions = [convert_to_openai_tool(f)[\"function\"] for f in functions]"
   ]
  },
  {
   "cell_type": "markdown",
   "metadata": {},
   "source": [
    "#### Tools"
   ]
  },
  {
   "cell_type": "code",
   "execution_count": 8,
   "metadata": {},
   "outputs": [],
   "source": [
    "key_words = [\n",
    "    \"CONSTRAINT\",\n",
    "    \"CHECK\",\n",
    "    \"UNIQUE\",\n",
    "    \"PRIMARY\",\n",
    "    \"FOREIGN\",\n",
    "    \"EXCLUDE\",\n",
    "    \"DEFERRABLE\",\n",
    "    \"NOT\",\n",
    "    \"INITIALLY\",\n",
    "    \"LIKE\",\n",
    "]\n",
    "\n",
    "def exclude_key_words_from_list(\n",
    "    list: List[str], \n",
    "    key_words: List[str]\n",
    ") -> List[str]:\n",
    "    return [ \n",
    "        column_name_or_key_word \n",
    "        for column_name_or_key_word in list\n",
    "        if column_name_or_key_word.upper() not in key_words\n",
    "    ]\n",
    "\n",
    "def extract_names_from_db(create_table_query: str, key_words_to_exclude: List[str]):\n",
    "    # Removes VARCHAR(60) and others for subsequent processing\n",
    "    clean_sql = re.sub(r\"\\(\\d+\\)\", \"\", create_table_query)\n",
    "    \n",
    "    # Removes sample rows in table info\n",
    "    clean_sql = re.sub(r\"/\\*(.|\\s)*?\\*/\", \"\", clean_sql)\n",
    "    \n",
    "    # Get all table names\n",
    "    table_names = re.findall(r\"CREATE TABLE (\\w+) \\(\", clean_sql)\n",
    "    \n",
    "    res = []\n",
    "    \n",
    "    for name in table_names:\n",
    "        # Returns a description {names}\n",
    "        table_sql = re.search(fr\"CREATE TABLE {name} \\((\\s+(.|\\s+)*?)\\s+\\)\", clean_sql).group(1)\n",
    "        \n",
    "        # Gets all column names and constraints (this is noise)\n",
    "        columns_part = re.findall(r\"\\n\\t(\\w+)\", table_sql)\n",
    "        \n",
    "        res.append({\n",
    "            \"name\": name,\n",
    "            # Exclude constraints (noise)\n",
    "            \"columns\": exclude_key_words_from_list(\n",
    "                columns_part, key_words_to_exclude\n",
    "            )\n",
    "        })\n",
    "    \n",
    "    return res"
   ]
  },
  {
   "cell_type": "code",
   "execution_count": 9,
   "metadata": {},
   "outputs": [],
   "source": [
    "def QuerySQLDatabaseTool(sql_query: str):\n",
    "    \"\"\"INPUT to this tool is a DETAILED and CORRECT SQL query, \n",
    "    OUTPUT is a RESULT FROM the DATABASE. If the query is not \n",
    "    correct, an error message will be returned. If an error is \n",
    "    returned, rewrite the query, check the query, and try again. \n",
    "    If you encounter an issue with Unknown column 'xxxx' in \n",
    "    'field list', use sql_db_schema to query the correct table fields.\"\"\"\n",
    "    \n",
    "    res = {}\n",
    "    \n",
    "    try:\n",
    "        res[\"type\"] = \"ok\"\n",
    "        res[\"result\"] = db.run(sql_query)\n",
    "    except Exception as e:\n",
    "        res[\"type\"] = \"error\"\n",
    "        res[\"result\"] = str(e)\n",
    "        \n",
    "    return res\n",
    "\n",
    "def InfoSQLDatabaseTool(list_of_tables: str):\n",
    "    \"\"\"INPUT to this tool is a comma-separated LIST OF TABLES, \n",
    "    output is the schema and sample rows for those tables. \n",
    "    Be sure that the tables actually exist by calling \n",
    "    sql_db_list_tables first! Example Input: table1, table2, table3.\n",
    "    This tool will not help if you need to get information about a column!\"\"\"\n",
    "    \n",
    "    res = \"\"\n",
    "    res += \"company, \" if \"company\" in list_of_tables else \"\"\n",
    "    res += \"pass_in_trip, \" if \"pass_in_trip\" in list_of_tables else \"\"\n",
    "    res += \"passenger, \" if \"passenger\" in list_of_tables else \"\"\n",
    "    res += \"trip, \" if \"trip\" in list_of_tables else \"\"\n",
    "    \n",
    "    res = res[:-2]\n",
    "    \n",
    "    return db.get_table_info_no_throw(\n",
    "            [t.strip() for t in res.split(\",\")]\n",
    "        )\n",
    "\n",
    "def ListSQLDatabaseTool(empty_string: str = \"\"):\n",
    "    \"\"\"INPUT to this tool is a EMPTY STRING, \n",
    "    OUTPUT is a comma-separated LIST OF TABLES \n",
    "    in database. Use this tool to select the \n",
    "    tables needed to respond to the user.\"\"\"\n",
    "    return \", \".join(db.get_usable_table_names())\n",
    "\n",
    "QUERY_CHECKER = \"\"\"\n",
    "Double check the {dialect} query for common mistakes, including:\n",
    "- Using NOT IN with NULL values\n",
    "- Using UNION when UNION ALL should have been used\n",
    "- Using BETWEEN for exclusive ranges\n",
    "- Data type mismatch in predicates\n",
    "- Properly quoting identifiers\n",
    "- Using the correct number of arguments for functions\n",
    "- Casting to the correct data type\n",
    "- Using the proper columns for joins\n",
    "\n",
    "Also check that all column and table names correspond to the database, these are the ones you need to check:\n",
    "\n",
    "{db_names}\n",
    "\n",
    "If there are any of the above mistakes, rewrite the query. If there are no mistakes, just reproduce the original query.\n",
    "\n",
    "OUTPUT THE FINAL SQL QUERY ONLY.\"\"\"\n",
    "\n",
    "checker_prompt = ChatPromptTemplate.from_messages((\n",
    "    (\"system\", QUERY_CHECKER),\n",
    "    (\"human\", \"SQL Query: SELECT name FROM passenger;\"),\n",
    "    (\"ai\", \"SELECT passenger_name FROM passenger;\"),\n",
    "    (\"human\", \"SQL Query: SELECT plane FROM flight;\"),\n",
    "    (\"ai\", \"SELECT plane FROM trip;\"),\n",
    "    (\"human\", \"SQL Query: {query}\")\n",
    "))\n",
    "\n",
    "def QuerySQLCheckerTool(query_to_check: str):\n",
    "    \"\"\"INPUT to this tool is a QUERY to check, \n",
    "    OUTPUT is a CORRECT QUERY in database. \n",
    "    Use this tool to double check if \n",
    "    your query is correct before executing it. \n",
    "    Always use this tool before executing a \n",
    "    query with sql_db_query!\"\"\"\n",
    "    db_names_list = extract_names_from_db(db.get_table_info(), key_words)\n",
    "    \n",
    "    db_names = \"\"\n",
    "    for name_pair in db_names_list:\n",
    "        db_names += f\"Table name: {name_pair[\"name\"]}\\n\\tColumn names: {name_pair[\"columns\"]}\\n\"\n",
    "    \n",
    "    chain = (\n",
    "        checker_prompt.partial(db_names=db_names) \n",
    "        | llama3__chat \n",
    "        | StrOutputParser()\n",
    "    )\n",
    "    return chain.invoke({\n",
    "        \"query\": query_to_check,\n",
    "        \"dialect\": db.dialect,\n",
    "    })\n",
    "\n",
    "tools = [\n",
    "    QuerySQLDatabaseTool,\n",
    "    InfoSQLDatabaseTool,\n",
    "    ListSQLDatabaseTool,\n",
    "    QuerySQLCheckerTool,\n",
    "]"
   ]
  },
  {
   "cell_type": "markdown",
   "metadata": {},
   "source": [
    "#### Routing"
   ]
  },
  {
   "cell_type": "markdown",
   "metadata": {},
   "source": [
    "### Function to get agent with provided llm model"
   ]
  },
  {
   "cell_type": "code",
   "execution_count": 10,
   "metadata": {},
   "outputs": [],
   "source": [
    "def format_to_ollama_chat_messages(intermediate_steps):\n",
    "    agent_scratchpad = []\n",
    "    \n",
    "    for step in intermediate_steps:\n",
    "        agent_scratchpad.append(\n",
    "            AIMessage(\n",
    "                content=\"{ \" +\\\n",
    "                    f\"\\\"tool\\\": \\\"{step[0].tool}\\\", \" +\\\n",
    "                    f\"\\\"tool_input\\\": \\\"{step[0].tool_input}\\\"\"\n",
    "            )\n",
    "        )\n",
    "        \n",
    "        tool_result = step[1]\n",
    "        \n",
    "        if step[0].tool == \"QuerySQLDatabaseTool\":\n",
    "            if tool_result[\"type\"] == \"ok\":\n",
    "                human_message = \"This is similar to the database \" +\\\n",
    "                    \"response. Maybe there's something I need there. \" +\\\n",
    "                    \"I can't see it, please help me understand, if \" +\\\n",
    "                    \"there is an answer to my question, please give it \" +\\\n",
    "                    \"to me, use it for this: \\\"__conversational_response\\\"\"\n",
    "            elif tool_result[\"type\"] == \"error\":\n",
    "                human_message = \"Oops.. There seems to be a mistake here. \" +\\\n",
    "                    \"Apparently the request was incorrect, try to fix it, \" +\\\n",
    "                    \"maybe it will work and try again! Maybe it will help \" +\\\n",
    "                    \"you \\\"InfoSQLDatabaseTool\\\" to better understand the structure.\" +\\\n",
    "                    \"REWRITE QUERY AND COME BACK WITH ANSWER!\"\n",
    "            tool_result = tool_result[\"result\"]\n",
    "        elif step[0].tool == \"InfoSQLDatabaseTool\":\n",
    "            human_message = \"It looks like the structure of the database \" +\\\n",
    "                \"tables(s). Maybe this will help you write the right query? \" +\\\n",
    "                \"Please make sure you remember the names!\"\n",
    "        elif step[0].tool == \"ListSQLDatabaseTool\":\n",
    "            human_message = \"It looks like a list of table names. \" +\\\n",
    "                \"Maybe it will help to get an answer. I think if you don't \" +\\\n",
    "                \"have enough information, you can use this: \\\"InfoSQLDatabaseTool\\\"\"\n",
    "        elif step[0].tool == \"QuerySQLCheckerTool\":\n",
    "            human_message = \"It looks like an SQL query! I think it's the \" +\\\n",
    "                \"right one. Try to execute this query.\"\n",
    "        \n",
    "        agent_scratchpad.append(\n",
    "            HumanMessage(\n",
    "                content=\"I can help you execute the tool. Give me a second... \" +\n",
    "                    \"And so, I think I managed to call it, but I can't read \" +\n",
    "                    \"what's written there, only a smart AI can understand it.\" +\n",
    "                    f\"\\nI checked, the result of the tool\\n{human_message}\" +\n",
    "                    f\"\\n\\nResult of tool: \\n{tool_result}\"\n",
    "            )\n",
    "        )\n",
    "        \n",
    "    return agent_scratchpad\n",
    "\n",
    "def get_agent(llm: OllamaFunctions, functions: List[BaseModel]) -> AgentExecutor:\n",
    "    \"\"\"Create and return agent with provided `llm` model\"\"\"\n",
    "\n",
    "    llm_with_tools = llm.bind_tools(tools=functions + [DEFAULT_RESPONSE_FUNCTION])\n",
    "    \n",
    "    agent = (\n",
    "        RunnablePassthrough.assign(\n",
    "            agent_scratchpad=lambda steps: format_to_ollama_chat_messages(steps['intermediate_steps'])\n",
    "        )\n",
    "        | prompt_generator.get_prompt()\n",
    "        | llm_with_tools\n",
    "        | OpenAIFunctionsAgentOutputParser()\n",
    "    )\n",
    "    \n",
    "    return agent"
   ]
  },
  {
   "cell_type": "code",
   "execution_count": 11,
   "metadata": {},
   "outputs": [],
   "source": [
    "agent = get_agent(llama3__with_functions, functions)\n",
    "\n",
    "def run_agent(user_input: str) -> AgentFinish:\n",
    "    intermediate_steps = []\n",
    "    while True:\n",
    "        result = agent.invoke({\n",
    "            \"dialect\": \"PostgreSQL\",\n",
    "            \"input\": user_input,\n",
    "            \"top_k\": \"20\", \n",
    "            \"intermediate_steps\": intermediate_steps\n",
    "        })\n",
    "        \n",
    "        if isinstance(result, AgentFinish):\n",
    "            return result\n",
    "        else:\n",
    "            result: AgentActionMessageLog = result\n",
    "        \n",
    "        tool = {\n",
    "            \"QuerySQLDatabaseTool\": QuerySQLDatabaseTool, \n",
    "            \"InfoSQLDatabaseTool\": InfoSQLDatabaseTool,\n",
    "            \"ListSQLDatabaseTool\": ListSQLDatabaseTool, \n",
    "            \"QuerySQLCheckerTool\": QuerySQLCheckerTool,\n",
    "        }[result.tool]\n",
    "        print(f\"result\\t{result}\\n\") # TODO: DELETE THIS ROW\n",
    "        if isinstance(result.tool_input, str):\n",
    "            observation = tool(result.tool_input)\n",
    "        else:\n",
    "            observation = tool(**result.tool_input)\n",
    "        intermediate_steps.append((result, observation))"
   ]
  },
  {
   "cell_type": "markdown",
   "metadata": {},
   "source": [
    "-----\n",
    "## Testing an agent with different models and save the results"
   ]
  },
  {
   "cell_type": "code",
   "execution_count": 12,
   "metadata": {},
   "outputs": [],
   "source": [
    "res = []"
   ]
  },
  {
   "cell_type": "code",
   "execution_count": 13,
   "metadata": {},
   "outputs": [
    {
     "name": "stdout",
     "output_type": "stream",
     "text": [
      "in ollama\t{'tool': 'QuerySQLDatabaseTool', 'tool_input': {'sql_query': 'SELECT name FROM passenger ORDER BY name LIMIT 5;'}}\n",
      "result\ttool='QuerySQLDatabaseTool' tool_input={'sql_query': 'SELECT name FROM passenger ORDER BY name LIMIT 5;'} log=\"\\nInvoking: `QuerySQLDatabaseTool` with `{'sql_query': 'SELECT name FROM passenger ORDER BY name LIMIT 5;'}`\\n\\n\\n\" message_log=[AIMessage(content='', additional_kwargs={'function_call': {'name': 'QuerySQLDatabaseTool', 'arguments': '{\"sql_query\": \"SELECT name FROM passenger ORDER BY name LIMIT 5;\"}'}}, id='run-882f5fc3-3d8b-4951-aee3-f6355a48f8ab-0')]\n",
      "\n",
      "in ollama\t{'tool': 'QuerySQLCheckerTool', 'tool_input': {'query_to_check': \"SELECT * FROM passenger WHERE EXISTS (SELECT 1 FROM information_schema.columns WHERE table_name = 'passenger' AND column_name = 'name');\"}}\n",
      "result\ttool='QuerySQLCheckerTool' tool_input={'query_to_check': \"SELECT * FROM passenger WHERE EXISTS (SELECT 1 FROM information_schema.columns WHERE table_name = 'passenger' AND column_name = 'name');\"} log='\\nInvoking: `QuerySQLCheckerTool` with `{\\'query_to_check\\': \"SELECT * FROM passenger WHERE EXISTS (SELECT 1 FROM information_schema.columns WHERE table_name = \\'passenger\\' AND column_name = \\'name\\');\"}`\\n\\n\\n' message_log=[AIMessage(content='', additional_kwargs={'function_call': {'name': 'QuerySQLCheckerTool', 'arguments': '{\"query_to_check\": \"SELECT * FROM passenger WHERE EXISTS (SELECT 1 FROM information_schema.columns WHERE table_name = \\'passenger\\' AND column_name = \\'name\\');\"}'}}, id='run-57041364-050d-47cb-bdfa-0a1120e254e7-0')]\n",
      "\n",
      "in ollama\t{'tool': 'QuerySQLExecutorTool', 'tool_input': \"'query_to_execute': 'SELECT * FROM passenger;'\"}\n"
     ]
    }
   ],
   "source": [
    "try:\n",
    "    res.append(run_agent(TestData.QUESTIONS[0]))\n",
    "except Exception as e:\n",
    "    res.append(str(e))"
   ]
  },
  {
   "cell_type": "code",
   "execution_count": 14,
   "metadata": {},
   "outputs": [
    {
     "name": "stdout",
     "output_type": "stream",
     "text": [
      "in ollama\t{'tool': 'QuerySQLDatabaseTool', 'tool_input': {'sql_query': 'SELECT * FROM public.\"company\";'}}\n",
      "result\ttool='QuerySQLDatabaseTool' tool_input={'sql_query': 'SELECT * FROM public.\"company\";'} log='\\nInvoking: `QuerySQLDatabaseTool` with `{\\'sql_query\\': \\'SELECT * FROM public.\"company\";\\'}`\\n\\n\\n' message_log=[AIMessage(content='', additional_kwargs={'function_call': {'name': 'QuerySQLDatabaseTool', 'arguments': '{\"sql_query\": \"SELECT * FROM public.\\\\\"company\\\\\";\"}'}}, id='run-d9ae0cca-00fb-4acc-ba6c-c46b65ce3723-0')]\n",
      "\n",
      "in ollama\t{'tool': '__conversational_response', 'tool_input': {'response': \"Ah, I see! It looks like there's only one company listed in the database. According to the result, it seems that American Airlines is the only airline present. Would you like me to provide more information about this airline or help with something else?\"}}\n"
     ]
    }
   ],
   "source": [
    "try:\n",
    "    res.append(run_agent(TestData.QUESTIONS[1]))\n",
    "except Exception as e:\n",
    "    res.append(str(e))"
   ]
  },
  {
   "cell_type": "code",
   "execution_count": 15,
   "metadata": {},
   "outputs": [
    {
     "name": "stdout",
     "output_type": "stream",
     "text": [
      "in ollama\t{'tool': 'QuerySQLDatabaseTool', 'tool_input': {'sql_query': 'SELECT DISTINCT \"plane\" FROM public.\"trip\" WHERE EXTRACT(STATE FROM  \"departure_city\") = \\'Washington\\';'}}\n",
      "result\ttool='QuerySQLDatabaseTool' tool_input={'sql_query': 'SELECT DISTINCT \"plane\" FROM public.\"trip\" WHERE EXTRACT(STATE FROM  \"departure_city\") = \\'Washington\\';'} log='\\nInvoking: `QuerySQLDatabaseTool` with `{\\'sql_query\\': \\'SELECT DISTINCT \"plane\" FROM public.\"trip\" WHERE EXTRACT(STATE FROM  \"departure_city\") = \\\\\\'Washington\\\\\\';\\'}`\\n\\n\\n' message_log=[AIMessage(content='', additional_kwargs={'function_call': {'name': 'QuerySQLDatabaseTool', 'arguments': '{\"sql_query\": \"SELECT DISTINCT \\\\\"plane\\\\\" FROM public.\\\\\"trip\\\\\" WHERE EXTRACT(STATE FROM  \\\\\"departure_city\\\\\") = \\'Washington\\';\"}'}}, id='run-2997ea82-cbeb-4ba2-9a6f-b81715f89a86-0')]\n",
      "\n",
      "in ollama\t{'tool': 'QuerySQLDatabaseTool', 'tool_input': \"{'sql_query': 'SELECT DISTINCT \"}\n",
      "result\ttool='QuerySQLDatabaseTool' tool_input=\"{'sql_query': 'SELECT DISTINCT \" log=\"\\nInvoking: `QuerySQLDatabaseTool` with `{'sql_query': 'SELECT DISTINCT `\\n\\n\\n\" message_log=[AIMessage(content='', additional_kwargs={'function_call': {'name': 'QuerySQLDatabaseTool', 'arguments': '\"{\\'sql_query\\': \\'SELECT DISTINCT \"'}}, id='run-de6cf9bc-cc78-4776-ba81-dd17ebeb461b-0')]\n",
      "\n",
      "in ollama\t{'tool': 'QuerySQLDatabaseTool', 'tool_input': 'SELECT DISTINCT \"plane\" FROM public.\"trip\" WHERE \"departure_city\" = \\'Washington\\';'}\n",
      "result\ttool='QuerySQLDatabaseTool' tool_input='SELECT DISTINCT \"plane\" FROM public.\"trip\" WHERE \"departure_city\" = \\'Washington\\';' log='\\nInvoking: `QuerySQLDatabaseTool` with `SELECT DISTINCT \"plane\" FROM public.\"trip\" WHERE \"departure_city\" = \\'Washington\\';`\\n\\n\\n' message_log=[AIMessage(content='', additional_kwargs={'function_call': {'name': 'QuerySQLDatabaseTool', 'arguments': '\"SELECT DISTINCT \\\\\"plane\\\\\" FROM public.\\\\\"trip\\\\\" WHERE \\\\\"departure_city\\\\\" = \\'Washington\\';\"'}}, id='run-08176046-c0fc-4bdc-8af8-6fcb1288ba53-0')]\n",
      "\n"
     ]
    }
   ],
   "source": [
    "try:\n",
    "    res.append(run_agent(TestData.QUESTIONS[2]))\n",
    "except Exception as e:\n",
    "    res.append(str(e))"
   ]
  },
  {
   "cell_type": "code",
   "execution_count": 16,
   "metadata": {},
   "outputs": [
    {
     "name": "stdout",
     "output_type": "stream",
     "text": [
      "in ollama\t{'tool': 'QuerySQLDatabaseTool', 'tool_input': {'sql_query': 'SELECT p.\"passenger_name\" FROM \"passenger\" p WHERE RIGHT(p.\"passenger_name\", 4) = \\'man\\';'}}\n",
      "result\ttool='QuerySQLDatabaseTool' tool_input={'sql_query': 'SELECT p.\"passenger_name\" FROM \"passenger\" p WHERE RIGHT(p.\"passenger_name\", 4) = \\'man\\';'} log='\\nInvoking: `QuerySQLDatabaseTool` with `{\\'sql_query\\': \\'SELECT p.\"passenger_name\" FROM \"passenger\" p WHERE RIGHT(p.\"passenger_name\", 4) = \\\\\\'man\\\\\\';\\'}`\\n\\n\\n' message_log=[AIMessage(content='', additional_kwargs={'function_call': {'name': 'QuerySQLDatabaseTool', 'arguments': '{\"sql_query\": \"SELECT p.\\\\\"passenger_name\\\\\" FROM \\\\\"passenger\\\\\" p WHERE RIGHT(p.\\\\\"passenger_name\\\\\", 4) = \\'man\\';\"}'}}, id='run-e2ead174-025b-4599-a998-6e001449e60a-0')]\n",
      "\n",
      "in ollama\t{'__conversational_response': \"Here are the names of people that end in 'man':\\n\\n- Adam\\n- Brandon\\n- Cameron\\n- Damian\\n- Emanuel\\n- Freeman\\n- Hanson\\n- Leman\\n- Norman\\n- Shaman\"}\n"
     ]
    }
   ],
   "source": [
    "try:\n",
    "    res.append(run_agent(TestData.QUESTIONS[3]))\n",
    "except Exception as e:\n",
    "    res.append(str(e))"
   ]
  },
  {
   "cell_type": "code",
   "execution_count": 17,
   "metadata": {},
   "outputs": [
    {
     "name": "stdout",
     "output_type": "stream",
     "text": [
      "in ollama\t{'tool': 'QuerySQLDatabaseTool', 'tool_input': {'sql_query': \"SELECT COUNT(*) FROM trip WHERE plane = 'Airbus A319';\"}}\n",
      "result\ttool='QuerySQLDatabaseTool' tool_input={'sql_query': \"SELECT COUNT(*) FROM trip WHERE plane = 'Airbus A319';\"} log='\\nInvoking: `QuerySQLDatabaseTool` with `{\\'sql_query\\': \"SELECT COUNT(*) FROM trip WHERE plane = \\'Airbus A319\\';\"}`\\n\\n\\n' message_log=[AIMessage(content='', additional_kwargs={'function_call': {'name': 'QuerySQLDatabaseTool', 'arguments': '{\"sql_query\": \"SELECT COUNT(*) FROM trip WHERE plane = \\'Airbus A319\\';\"}'}}, id='run-9c201e42-6764-48bb-b67f-69298c529674-0')]\n",
      "\n",
      "in ollama\t{'tool': '__conversational_response', 'tool_input': {'response': \"Unfortunately, it seems that there are no flights recorded in the database using Airbus A319. If you'd like to know more about our fleet or flight schedules, I'd be happy to help!\"}}\n"
     ]
    }
   ],
   "source": [
    "try:\n",
    "    res.append(run_agent(TestData.QUESTIONS[4]))\n",
    "except Exception as e:\n",
    "    res.append(str(e))"
   ]
  },
  {
   "cell_type": "code",
   "execution_count": 25,
   "metadata": {},
   "outputs": [
    {
     "name": "stdout",
     "output_type": "stream",
     "text": [
      "Qustion:\tPrint the first 5 names of the passengers, sorted by name\n",
      "Correct answer:\tHere are the names you asked for: 'Alice', 'Bob', 'Charlie', 'Christofer', 'David'\n",
      "Agent answer:\tFailed to parse a function call from llama3:instruct output: { \"tool\": \"QuerySQLExecutorTool\", \"tool_input\": \"'query_to_execute': 'SELECT * FROM passenger;'\"}\n",
      "\n",
      "--------------------------------------------------------------------------------------------------------------------------------------------------------------------------------------------------------\n",
      "\n",
      "Qustion:\tPrint the names of all companies\n",
      "Correct answer:\tHere are the names you asked for: 'American Airlines', 'S7 Airlines', 'Nordwind Airlines'\n",
      "Agent answer:\treturn_values={'output': \"Ah, I see! It looks like there's only one company listed in the database. According to the result, it seems that American Airlines is the only airline present. Would you like me to provide more information about this airline or help with something else?\"} log=\"Ah, I see! It looks like there's only one company listed in the database. According to the result, it seems that American Airlines is the only airline present. Would you like me to provide more information about this airline or help with something else?\"\n",
      "\n",
      "--------------------------------------------------------------------------------------------------------------------------------------------------------------------------------------------------------\n",
      "\n",
      "Qustion:\tPrint all planes from flights from Washington\n",
      "Correct answer:\tHere are planes you asked for: 'Airbus A320'\n",
      "Agent answer:\t'llama3:instruct' did not respond with valid JSON. \n",
      "                Please try again. \n",
      "                Response: {  \"tool\": \"QuerySQLDatabaseTool\",  \"tool_input\": \"SELECT DISTINCT p.\\\"plane\\\" FROM public.\\\"trip\\\" t JOIN public.\\\"pass_... \n",
      "\n",
      "Note: I rewrote the query to join the `trip` table with the `pass_in_trip` and `passenger` tables, assuming that the departure city information is stored in one of these tables. If this is not correct, please provide more information about the structure of your database. \n",
      "\n",
      "Please let me know if you would like me to execute the query again. \n",
      "\n",
      "Result: \n",
      "\n",
      "... (list of planes) \n",
      "\n",
      "Let me know what you would like to do next! \n",
      "\n",
      "(Note: I did not execute the query yet, as it seems there is an issue with the column \"}\n",
      "\n",
      "--------------------------------------------------------------------------------------------------------------------------------------------------------------------------------------------------------\n",
      "\n",
      "Qustion:\tPrint the names of people that end in \"man\"\n",
      "Correct answer:\tHere are names you asked for: 'Superman'\n",
      "Agent answer:\t'tool'\n",
      "\n",
      "--------------------------------------------------------------------------------------------------------------------------------------------------------------------------------------------------------\n",
      "\n"
     ]
    }
   ],
   "source": [
    "for (question, agent_answer, correct_answer) in zip(\n",
    "    TestData.QUESTIONS[:4], \n",
    "    res, \n",
    "    TestData.ANSWER[:4]\n",
    "):\n",
    "    print(\n",
    "        f\"Qustion:\\t{question}\\nCorrect answer:\\t{correct_answer}\\nAgent answer:\\t{agent_answer}\", \n",
    "        end=\"\\n\\n\" + \"-\" * 200 + \"\\n\\n\"\n",
    "    )"
   ]
  }
 ],
 "metadata": {
  "kernelspec": {
   "display_name": "venv",
   "language": "python",
   "name": "python3"
  },
  "language_info": {
   "codemirror_mode": {
    "name": "ipython",
    "version": 3
   },
   "file_extension": ".py",
   "mimetype": "text/x-python",
   "name": "python",
   "nbconvert_exporter": "python",
   "pygments_lexer": "ipython3",
   "version": "3.12.1"
  }
 },
 "nbformat": 4,
 "nbformat_minor": 2
}
