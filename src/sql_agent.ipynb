{
 "cells": [
  {
   "cell_type": "markdown",
   "metadata": {},
   "source": [
    "# SQL agent"
   ]
  },
  {
   "cell_type": "code",
   "execution_count": 1,
   "metadata": {},
   "outputs": [],
   "source": [
    "import db_connect \n",
    "\n",
    "from langchain_community.llms.ollama import Ollama\n",
    "from langchain_community.embeddings.ollama import OllamaEmbeddings\n",
    "\n",
    "from langchain import agents\n",
    "\n",
    "from langchain.agents.agent_toolkits.sql.toolkit import SQLDatabaseToolkit\n",
    "from langchain.agents.agent_toolkits.sql import base"
   ]
  },
  {
   "cell_type": "markdown",
   "metadata": {},
   "source": [
    "### Load models"
   ]
  },
  {
   "cell_type": "code",
   "execution_count": 2,
   "metadata": {},
   "outputs": [],
   "source": [
    "llama3 = Ollama(model=\"llama3:8b\", temperature=0)\n",
    "llama3_embeddings = OllamaEmbeddings(model=\"llama3:8b\", temperature=0)\n",
    "\n",
    "llama3_inst = Ollama(model=\"llama3:instruct\", temperature=0)\n",
    "llama3_inst_q8 = Ollama(model=\"llama3:8b-instruct-q8_0\", temperature=0)\n",
    "llama3_inst_fp16 = Ollama(model=\"llama3:8b-instruct-fp16\", temperature=0)"
   ]
  },
  {
   "cell_type": "markdown",
   "metadata": {},
   "source": [
    "### Connect to DB with Readonly role"
   ]
  },
  {
   "cell_type": "code",
   "execution_count": 3,
   "metadata": {},
   "outputs": [],
   "source": [
    "db = db_connect.get_db()"
   ]
  },
  {
   "cell_type": "markdown",
   "metadata": {},
   "source": [
    "#### Check connection"
   ]
  },
  {
   "cell_type": "code",
   "execution_count": 4,
   "metadata": {},
   "outputs": [
    {
     "data": {
      "text/plain": [
       "\"[(16, 'John'), (17, 'James'), (18, 'Poul'), (19, 'Christofer'), (20, 'Superman')]\""
      ]
     },
     "execution_count": 4,
     "metadata": {},
     "output_type": "execute_result"
    }
   ],
   "source": [
    "db.run(\"select * from passenger\")"
   ]
  },
  {
   "cell_type": "markdown",
   "metadata": {},
   "source": [
    "-----"
   ]
  },
  {
   "cell_type": "code",
   "execution_count": 5,
   "metadata": {},
   "outputs": [],
   "source": [
    "prefix =\\\n",
    "\"\"\"# Personality\n",
    "You are an expert in PostgreSQL. Answer a question from an ordinary employee.\n",
    "# Task\n",
    "Please answer the following question to the best of your ability.\n",
    "# Tools\n",
    "Use the following tools to answer:\"\"\"\n",
    "\n",
    "format_inst =\\\n",
    "\"\"\"# Format\n",
    "Use the following format:\n",
    "Question: the input question you must answer\n",
    "Thought: you should always think about what to do\n",
    "Action: the action to take, should be one of [{tool_names}]\n",
    "Action Input: the input to the action\n",
    "Observation: the result of the action... (this Thought/Action/Action Input/Observation can repeat N times)\n",
    "Thought: I now know the final answer\n",
    "Final Answer: the final answer to the original input question\n",
    "\n",
    "IF YOU WROTE \\\"FINAL ANSWER\\\". THEN DON'T WRITE ANYTHING MORE\"\"\"\n",
    "\n",
    "suffix =\\\n",
    "\"\"\"# Start chain of thoughts\n",
    "\n",
    "Question: {input}\n",
    "Thought:{agent_scratchpad}\"\"\"\n",
    "\n",
    "def err_handle(err):\n",
    "    return \"# Error\\n\" +\\\n",
    "        f\"The previous steps caused an error, here is its text: \\n\\\"{err}\\\"\\n\" +\\\n",
    "        \"DO NOT OUTPUT AN ACTION AND A FINAL ANSWER AT THE SAME TIME\"\n",
    "\n",
    "agent = base.create_sql_agent(\n",
    "    llm=llama3,\n",
    "    db=db,\n",
    "    agent_type=agents.AgentType.ZERO_SHOT_REACT_DESCRIPTION,\n",
    "    prefix=prefix,\n",
    "    format_instructions=format_inst,\n",
    "    suffix=suffix,\n",
    "    verbose=True,\n",
    "    early_stopping_method=\"generate\",\n",
    "    agent_executor_kwargs={\n",
    "        \"handle_parsing_errors\": err_handle\n",
    "    }\n",
    ")"
   ]
  },
  {
   "cell_type": "code",
   "execution_count": 6,
   "metadata": {},
   "outputs": [
    {
     "name": "stdout",
     "output_type": "stream",
     "text": [
      "\n",
      "\n",
      "\u001b[1m> Entering new SQL Agent Executor chain...\u001b[0m\n",
      "\u001b[32;1m\u001b[1;3mLet's get started!\n",
      "\n",
      "Thought: To select the names of all the people who are in the airline database, I need to query the correct table. Since I don't know which table contains the information about passengers, I'll start by listing all the tables in the database.\n",
      "\n",
      "Action: sql_db_list_tables\n",
      "Action Input: (empty string\u001b[0m\u001b[38;5;200m\u001b[1;3mcompany, pass_in_trip, passenger, trip\u001b[0m\u001b[32;1m\u001b[1;3mLet's get started!\n",
      "\n",
      "Thought: To select the names of all the people who are in the airline database, I need to query the correct table. Since I don't know which table contains the information about passengers, I'll start by listing all the tables in the database.\n",
      "\n",
      "Action: sql_db_list_tables\n",
      "Action Input: (empty string\u001b[0m\u001b[38;5;200m\u001b[1;3mcompany, pass_in_trip, passenger, trip\u001b[0m\u001b[32;1m\u001b[1;3mLet's get started!\n",
      "\n",
      "Question: Select the names of all the people who are in the airline database\n",
      "\n",
      "Thought: Let's get started!\n",
      "Thought: To select the names of all the people who are in the airline database, I need to query the correct table. Since I don't know which table contains the information about passengers, I'll start by listing all the tables in the database.\n",
      "\n",
      "Action: sql_db_list_tables\n",
      "Action Input: (empty string\u001b[0m\u001b[38;5;200m\u001b[1;3mcompany, pass_in_trip, passenger, trip\u001b[0m\u001b[32;1m\u001b[1;3mLet's get started!\n",
      "\n",
      "Question: Select the names of all the people who are in the airline database\n",
      "\n",
      "Thought: To select the names of all the people who are in the airline database, I need to query the correct table. Since I don't know which table contains the information about passengers, I'll start by listing all the tables in the database.\n",
      "\n",
      "Action: sql_db_list_tables\n",
      "Action Input: (empty string\u001b[0m\u001b[38;5;200m\u001b[1;3mcompany, pass_in_trip, passenger, trip\u001b[0m\u001b[32;1m\u001b[1;3mLet's get started!\n",
      "\n",
      "Question: Select the names of all the people who are in the airline database\n",
      "\n",
      "Thought: To select the names of all the people who are in the airline database, I need to query the correct table. Since I don't know which table contains the information about passengers, I'll start by listing all the tables in the database.\n",
      "\n",
      "Action: sql_db_list_tables\n",
      "Action Input: (empty string\u001b[0m\u001b[38;5;200m\u001b[1;3mcompany, pass_in_trip, passenger, trip\u001b[0m\u001b[32;1m\u001b[1;3mLet's get started!\n",
      "\n",
      "Question: Select the names of all the people who are in the airline database\n",
      "\n",
      "Thought: To select the names of all the people who are in the airline database, I need to query the correct table. Since I don't know which table contains the information about passengers, I'll start by listing all the tables in the database.\n",
      "\n",
      "Action: sql_db_list_tables\n",
      "Action Input: (empty string\u001b[0m\u001b[38;5;200m\u001b[1;3mcompany, pass_in_trip, passenger, trip\u001b[0m\u001b[32;1m\u001b[1;3mLet's get started!\n",
      "\n",
      "Question: Select the names of all the people who are in the airline database\n",
      "\n",
      "Thought: To select the names of all the people who are in the airline database, I need to query the correct table. Since I don't know which table contains the information about passengers, I'll start by listing all the tables in the database.\n",
      "\n",
      "Action: sql_db_list_tables\n",
      "Action Input: (empty string\u001b[0m\u001b[38;5;200m\u001b[1;3mcompany, pass_in_trip, passenger, trip\u001b[0m\u001b[32;1m\u001b[1;3mLet's get started!\n",
      "\n",
      "Question: Select the names of all the people who are in the airline database\n",
      "\n",
      "Thought: To select the names of all the people who are in the airline database, I need to query the correct table. Since I don't know which table contains the information about passengers, I'll start by listing all the tables in the database.\n",
      "\n",
      "Action: sql_db_list_tables\n",
      "Action Input: (empty string\u001b[0m\u001b[38;5;200m\u001b[1;3mcompany, pass_in_trip, passenger, trip\u001b[0m\u001b[32;1m\u001b[1;3mLet's get started!\n",
      "\n",
      "Question: Select the names of all the people who are in the airline database\n",
      "\n",
      "Thought: To select the names of all the people who are in the airline database, I need to query the correct table. Since I don't know which table contains the information about passengers, I'll start by listing all the tables in the database.\n",
      "\n",
      "Action: sql_db_list_tables\n",
      "Action Input: (empty string\u001b[0m\u001b[38;5;200m\u001b[1;3mcompany, pass_in_trip, passenger, trip\u001b[0m\u001b[32;1m\u001b[1;3mLet's get started!\n",
      "\n",
      "Question: Select the names of all the people who are in the airline database\n",
      "\n",
      "Thought: To select the names of all the people who are in the airline database, I need to query the correct table. Since I don't know which table contains the information about passengers, I'll start by listing all the tables in the database.\n",
      "\n",
      "Action: sql_db_list_tables\n",
      "Action Input: (empty string\u001b[0m\u001b[38;5;200m\u001b[1;3mcompany, pass_in_trip, passenger, trip\u001b[0m\u001b[32;1m\u001b[1;3mLet's get started!\n",
      "\n",
      "Question: Select the names of all the people who are in the airline database\n",
      "\n",
      "Thought: To select the names of all the people who are in the airline database, I need to query the correct table. Since I don't know which table contains the information about passengers, I'll start by listing all the tables in the database.\n",
      "\n",
      "Action: sql_db_list_tables\n",
      "Action Input: (empty string\u001b[0m\u001b[38;5;200m\u001b[1;3mcompany, pass_in_trip, passenger, trip\u001b[0m\u001b[32;1m\u001b[1;3mLet's get started!\n",
      "\n",
      "Question: Select the names of all the people who are in the airline database\n",
      "\n",
      "Thought: To select the names of all the people who are in the airline database, I need to query the correct table. Since I don't know which table contains the information about passengers, I'll start by listing all the tables in the database.\n",
      "\n",
      "Action: sql_db_list_tables\n",
      "Action Input: (empty string\u001b[0m\u001b[38;5;200m\u001b[1;3mcompany, pass_in_trip, passenger, trip\u001b[0m\u001b[32;1m\u001b[1;3mLet's get started!\n",
      "\n",
      "Question: Select the names of all the people who are in the airline database\n",
      "\n",
      "Thought: To select the names of all the people who are in the airline database, I need to query the correct table. Since I don't know which table contains the information about passengers, I'll start by listing all the tables in the database.\n",
      "\n",
      "Action: sql_db_list_tables\n",
      "Action Input: (empty string\u001b[0m\u001b[38;5;200m\u001b[1;3mcompany, pass_in_trip, passenger, trip\u001b[0m\u001b[32;1m\u001b[1;3mLet's get started!\n",
      "\n",
      "Question: Select the names of all the people who are in the airline database\n",
      "\n",
      "Thought: To select the names of all the people who are in the airline database, I need to query the correct table. Since I don't know which table contains the information about passengers, I'll start by listing all the tables in the database.\n",
      "\n",
      "Action: sql_db_list_tables\n",
      "Action Input: (empty string\u001b[0m\u001b[38;5;200m\u001b[1;3mcompany, pass_in_trip, passenger, trip\u001b[0m\u001b[32;1m\u001b[1;3mLet's get started!\n",
      "\n",
      "Question: Select the names of all the people who are in the airline database\n",
      "\n",
      "Thought: To select the names of all the people who are in the airline database, I need to query the correct table. Since I don't know which table contains the information about passengers, I'll start by listing all the tables in the database.\n",
      "\n",
      "Action: sql_db_list_tables\n",
      "Action Input: (empty string\u001b[0m\u001b[38;5;200m\u001b[1;3mcompany, pass_in_trip, passenger, trip\u001b[0m"
     ]
    },
    {
     "ename": "ValueError",
     "evalue": "Got unsupported early_stopping_method `generate`",
     "output_type": "error",
     "traceback": [
      "\u001b[1;31m---------------------------------------------------------------------------\u001b[0m",
      "\u001b[1;31mValueError\u001b[0m                                Traceback (most recent call last)",
      "Cell \u001b[1;32mIn[6], line 1\u001b[0m\n\u001b[1;32m----> 1\u001b[0m res \u001b[38;5;241m=\u001b[39m \u001b[43magent\u001b[49m\u001b[38;5;241;43m.\u001b[39;49m\u001b[43minvoke\u001b[49m\u001b[43m(\u001b[49m\u001b[43m{\u001b[49m\n\u001b[0;32m      2\u001b[0m \u001b[43m    \u001b[49m\u001b[38;5;124;43m\"\u001b[39;49m\u001b[38;5;124;43minput\u001b[39;49m\u001b[38;5;124;43m\"\u001b[39;49m\u001b[43m:\u001b[49m\u001b[43m \u001b[49m\u001b[38;5;124;43m\"\u001b[39;49m\u001b[38;5;124;43mSelect the names of all the people who are in the airline database\u001b[39;49m\u001b[38;5;124;43m\"\u001b[39;49m\n\u001b[0;32m      3\u001b[0m \u001b[43m}\u001b[49m\u001b[43m)\u001b[49m\n",
      "File \u001b[1;32mc:\\Projects\\Python\\text2sql\\venv\\Lib\\site-packages\\langchain\\chains\\base.py:163\u001b[0m, in \u001b[0;36mChain.invoke\u001b[1;34m(self, input, config, **kwargs)\u001b[0m\n\u001b[0;32m    161\u001b[0m \u001b[38;5;28;01mexcept\u001b[39;00m \u001b[38;5;167;01mBaseException\u001b[39;00m \u001b[38;5;28;01mas\u001b[39;00m e:\n\u001b[0;32m    162\u001b[0m     run_manager\u001b[38;5;241m.\u001b[39mon_chain_error(e)\n\u001b[1;32m--> 163\u001b[0m     \u001b[38;5;28;01mraise\u001b[39;00m e\n\u001b[0;32m    164\u001b[0m run_manager\u001b[38;5;241m.\u001b[39mon_chain_end(outputs)\n\u001b[0;32m    166\u001b[0m \u001b[38;5;28;01mif\u001b[39;00m include_run_info:\n",
      "File \u001b[1;32mc:\\Projects\\Python\\text2sql\\venv\\Lib\\site-packages\\langchain\\chains\\base.py:153\u001b[0m, in \u001b[0;36mChain.invoke\u001b[1;34m(self, input, config, **kwargs)\u001b[0m\n\u001b[0;32m    150\u001b[0m \u001b[38;5;28;01mtry\u001b[39;00m:\n\u001b[0;32m    151\u001b[0m     \u001b[38;5;28mself\u001b[39m\u001b[38;5;241m.\u001b[39m_validate_inputs(inputs)\n\u001b[0;32m    152\u001b[0m     outputs \u001b[38;5;241m=\u001b[39m (\n\u001b[1;32m--> 153\u001b[0m         \u001b[38;5;28;43mself\u001b[39;49m\u001b[38;5;241;43m.\u001b[39;49m\u001b[43m_call\u001b[49m\u001b[43m(\u001b[49m\u001b[43minputs\u001b[49m\u001b[43m,\u001b[49m\u001b[43m \u001b[49m\u001b[43mrun_manager\u001b[49m\u001b[38;5;241;43m=\u001b[39;49m\u001b[43mrun_manager\u001b[49m\u001b[43m)\u001b[49m\n\u001b[0;32m    154\u001b[0m         \u001b[38;5;28;01mif\u001b[39;00m new_arg_supported\n\u001b[0;32m    155\u001b[0m         \u001b[38;5;28;01melse\u001b[39;00m \u001b[38;5;28mself\u001b[39m\u001b[38;5;241m.\u001b[39m_call(inputs)\n\u001b[0;32m    156\u001b[0m     )\n\u001b[0;32m    158\u001b[0m     final_outputs: Dict[\u001b[38;5;28mstr\u001b[39m, Any] \u001b[38;5;241m=\u001b[39m \u001b[38;5;28mself\u001b[39m\u001b[38;5;241m.\u001b[39mprep_outputs(\n\u001b[0;32m    159\u001b[0m         inputs, outputs, return_only_outputs\n\u001b[0;32m    160\u001b[0m     )\n\u001b[0;32m    161\u001b[0m \u001b[38;5;28;01mexcept\u001b[39;00m \u001b[38;5;167;01mBaseException\u001b[39;00m \u001b[38;5;28;01mas\u001b[39;00m e:\n",
      "File \u001b[1;32mc:\\Projects\\Python\\text2sql\\venv\\Lib\\site-packages\\langchain\\agents\\agent.py:1455\u001b[0m, in \u001b[0;36mAgentExecutor._call\u001b[1;34m(self, inputs, run_manager)\u001b[0m\n\u001b[0;32m   1453\u001b[0m     iterations \u001b[38;5;241m+\u001b[39m\u001b[38;5;241m=\u001b[39m \u001b[38;5;241m1\u001b[39m\n\u001b[0;32m   1454\u001b[0m     time_elapsed \u001b[38;5;241m=\u001b[39m time\u001b[38;5;241m.\u001b[39mtime() \u001b[38;5;241m-\u001b[39m start_time\n\u001b[1;32m-> 1455\u001b[0m output \u001b[38;5;241m=\u001b[39m \u001b[38;5;28;43mself\u001b[39;49m\u001b[38;5;241;43m.\u001b[39;49m\u001b[43magent\u001b[49m\u001b[38;5;241;43m.\u001b[39;49m\u001b[43mreturn_stopped_response\u001b[49m\u001b[43m(\u001b[49m\n\u001b[0;32m   1456\u001b[0m \u001b[43m    \u001b[49m\u001b[38;5;28;43mself\u001b[39;49m\u001b[38;5;241;43m.\u001b[39;49m\u001b[43mearly_stopping_method\u001b[49m\u001b[43m,\u001b[49m\u001b[43m \u001b[49m\u001b[43mintermediate_steps\u001b[49m\u001b[43m,\u001b[49m\u001b[43m \u001b[49m\u001b[38;5;241;43m*\u001b[39;49m\u001b[38;5;241;43m*\u001b[39;49m\u001b[43minputs\u001b[49m\n\u001b[0;32m   1457\u001b[0m \u001b[43m\u001b[49m\u001b[43m)\u001b[49m\n\u001b[0;32m   1458\u001b[0m \u001b[38;5;28;01mreturn\u001b[39;00m \u001b[38;5;28mself\u001b[39m\u001b[38;5;241m.\u001b[39m_return(output, intermediate_steps, run_manager\u001b[38;5;241m=\u001b[39mrun_manager)\n",
      "File \u001b[1;32mc:\\Projects\\Python\\text2sql\\venv\\Lib\\site-packages\\langchain\\agents\\agent.py:127\u001b[0m, in \u001b[0;36mBaseSingleActionAgent.return_stopped_response\u001b[1;34m(self, early_stopping_method, intermediate_steps, **kwargs)\u001b[0m\n\u001b[0;32m    123\u001b[0m     \u001b[38;5;28;01mreturn\u001b[39;00m AgentFinish(\n\u001b[0;32m    124\u001b[0m         {\u001b[38;5;124m\"\u001b[39m\u001b[38;5;124moutput\u001b[39m\u001b[38;5;124m\"\u001b[39m: \u001b[38;5;124m\"\u001b[39m\u001b[38;5;124mAgent stopped due to iteration limit or time limit.\u001b[39m\u001b[38;5;124m\"\u001b[39m}, \u001b[38;5;124m\"\u001b[39m\u001b[38;5;124m\"\u001b[39m\n\u001b[0;32m    125\u001b[0m     )\n\u001b[0;32m    126\u001b[0m \u001b[38;5;28;01melse\u001b[39;00m:\n\u001b[1;32m--> 127\u001b[0m     \u001b[38;5;28;01mraise\u001b[39;00m \u001b[38;5;167;01mValueError\u001b[39;00m(\n\u001b[0;32m    128\u001b[0m         \u001b[38;5;124mf\u001b[39m\u001b[38;5;124m\"\u001b[39m\u001b[38;5;124mGot unsupported early_stopping_method `\u001b[39m\u001b[38;5;132;01m{\u001b[39;00mearly_stopping_method\u001b[38;5;132;01m}\u001b[39;00m\u001b[38;5;124m`\u001b[39m\u001b[38;5;124m\"\u001b[39m\n\u001b[0;32m    129\u001b[0m     )\n",
      "\u001b[1;31mValueError\u001b[0m: Got unsupported early_stopping_method `generate`"
     ]
    }
   ],
   "source": [
    "res = agent.invoke({\n",
    "    \"input\": \"Select the names of all the people who are in the airline database\"\n",
    "})"
   ]
  },
  {
   "cell_type": "code",
   "execution_count": null,
   "metadata": {},
   "outputs": [
    {
     "name": "stdout",
     "output_type": "stream",
     "text": [
      "{'input': 'Select the names of all the people who are in the airline database', 'output': 'Agent stopped due to iteration limit or time limit.'}\n"
     ]
    }
   ],
   "source": [
    "print(res)"
   ]
  },
  {
   "cell_type": "code",
   "execution_count": null,
   "metadata": {},
   "outputs": [
    {
     "name": "stdout",
     "output_type": "stream",
     "text": [
      "Agent stopped due to iteration limit or time limit.\n"
     ]
    }
   ],
   "source": [
    "print(res['output'])"
   ]
  }
 ],
 "metadata": {
  "kernelspec": {
   "display_name": "venv",
   "language": "python",
   "name": "python3"
  },
  "language_info": {
   "codemirror_mode": {
    "name": "ipython",
    "version": 3
   },
   "file_extension": ".py",
   "mimetype": "text/x-python",
   "name": "python",
   "nbconvert_exporter": "python",
   "pygments_lexer": "ipython3",
   "version": "3.12.1"
  }
 },
 "nbformat": 4,
 "nbformat_minor": 2
}
