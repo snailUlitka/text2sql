{
 "cells": [
  {
   "cell_type": "markdown",
   "metadata": {},
   "source": [
    "# SQL agent"
   ]
  },
  {
   "cell_type": "markdown",
   "metadata": {},
   "source": [
    "## Setup"
   ]
  },
  {
   "cell_type": "markdown",
   "metadata": {},
   "source": [
    "### Imports"
   ]
  },
  {
   "cell_type": "code",
   "execution_count": 73,
   "metadata": {},
   "outputs": [],
   "source": [
    "import db_connect \n",
    "\n",
    "from langchain_community.llms.ollama import Ollama\n",
    "from langchain_community.embeddings.ollama import OllamaEmbeddings\n",
    "\n",
    "from langchain import agents\n",
    "from langchain.prompts import PromptTemplate\n",
    "\n",
    "from langchain.agents.agent_toolkits.sql import base\n",
    "from langchain.agents.agent_toolkits.sql.toolkit import SQLDatabaseToolkit"
   ]
  },
  {
   "cell_type": "markdown",
   "metadata": {},
   "source": [
    "### LangSmith"
   ]
  },
  {
   "cell_type": "code",
   "execution_count": 74,
   "metadata": {},
   "outputs": [],
   "source": [
    "from langsmith import Client\n",
    "import os\n",
    "\n",
    "os.environ[\"LANGCHAIN_PROJECT\"] = \"text2sql\"\n",
    "client = Client()"
   ]
  },
  {
   "cell_type": "markdown",
   "metadata": {},
   "source": [
    "### Load models"
   ]
  },
  {
   "cell_type": "code",
   "execution_count": 75,
   "metadata": {},
   "outputs": [],
   "source": [
    "llama3 = Ollama(model=\"llama3:8b\", temperature=0)\n",
    "llama3_embeddings = OllamaEmbeddings(model=\"llama3:8b\", temperature=0)\n",
    "\n",
    "llama3_inst = Ollama(model=\"llama3:instruct\", temperature=0)\n",
    "llama3_inst_q8 = Ollama(model=\"llama3:8b-instruct-q8_0\", temperature=0)\n",
    "llama3_inst_fp16 = Ollama(model=\"llama3:8b-instruct-fp16\", temperature=0)"
   ]
  },
  {
   "cell_type": "markdown",
   "metadata": {},
   "source": [
    "### Connect to DB with Readonly role"
   ]
  },
  {
   "cell_type": "code",
   "execution_count": 76,
   "metadata": {},
   "outputs": [],
   "source": [
    "db = db_connect.get_db()"
   ]
  },
  {
   "cell_type": "markdown",
   "metadata": {},
   "source": [
    "#### Check connection"
   ]
  },
  {
   "cell_type": "code",
   "execution_count": 77,
   "metadata": {},
   "outputs": [
    {
     "data": {
      "text/plain": [
       "\"[(16, 'John'), (17, 'James'), (18, 'Poul'), (19, 'Christofer'), (20, 'Superman')]\""
      ]
     },
     "execution_count": 77,
     "metadata": {},
     "output_type": "execute_result"
    }
   ],
   "source": [
    "db.run(\"select * from passenger\")"
   ]
  },
  {
   "cell_type": "markdown",
   "metadata": {},
   "source": [
    "-----"
   ]
  },
  {
   "cell_type": "code",
   "execution_count": 78,
   "metadata": {},
   "outputs": [],
   "source": [
    "template =\\\n",
    "\"\"\"# Personality\n",
    "You are an expert in PostgreSQL. Answer the question of an ordinary employee who does not know SQL. Please reply in plain text.\n",
    "# Task\n",
    "Please answer the following question to the best of your ability.\n",
    "# Tools\n",
    "Use the following tools to answer:\n",
    "{tools}\n",
    "# Format\n",
    "Use the following format:\n",
    "Question: the input question you must answer\n",
    "Thought: you should always think about what to do\n",
    "Action: the action to take, should be one of [{tool_names}]\n",
    "Action Input: the input to the action\n",
    "Observation: the result of the action... \n",
    "(this Thought/Action/Action Input/Observation can repeat N times)\n",
    "Thought: I now know the final answer\n",
    "Final Answer: the final answer to the original input question\n",
    "\n",
    "IF YOU WROTE \\\"FINAL ANSWER\\\". THEN DON'T WRITE ANYTHING MORE\n",
    "# Start chain of thoughts\n",
    "\n",
    "Question: {input}\n",
    "Thought:{agent_scratchpad}\"\"\"\n",
    "\n",
    "prompt = PromptTemplate.from_template(template)\n",
    "\n",
    "def err_handle(err):\n",
    "    return \"# Error\\n\" +\\\n",
    "        f\"The previous steps caused an error, here is its text: \\n\\\"{err}\\\"\\n\" +\\\n",
    "        \"DO NOT OUTPUT AN ACTION AND A FINAL ANSWER AT THE SAME TIME\"\n",
    "\n",
    "# agent = base.create_sql_agent(\n",
    "#     llm=llama3,\n",
    "#     db=db,\n",
    "#     agent_type=agents.AgentType.ZERO_SHOT_REACT_DESCRIPTION,\n",
    "#     prompt=prompt,\n",
    "#     verbose=True,\n",
    "#     early_stopping_method=\"generate\",\n",
    "#     agent_executor_kwargs={\n",
    "#         \"handle_parsing_errors\": err_handle,\n",
    "#     }\n",
    "# )\n",
    "\n",
    "model = llama3_inst_fp16\n",
    "tools = SQLDatabaseToolkit(db=db, llm=model).get_tools()\n",
    "\n",
    "agent = agents.create_react_agent(\n",
    "    llm=model,\n",
    "    prompt=prompt,\n",
    "    tools=tools,\n",
    ")\n",
    "\n",
    "agent = agents.AgentExecutor(\n",
    "        name=\"SQL Agent Executor\",\n",
    "        agent=agent,\n",
    "        tools=tools,\n",
    "        verbose=True,\n",
    "        # early_stopping_method=\"generate\",\n",
    "        handle_parsing_errors=err_handle\n",
    ")"
   ]
  },
  {
   "cell_type": "code",
   "execution_count": 79,
   "metadata": {},
   "outputs": [
    {
     "name": "stdout",
     "output_type": "stream",
     "text": [
      "\n",
      "\n",
      "\u001b[1m> Entering new SQL Agent Executor chain...\u001b[0m\n",
      "\u001b[32;1m\u001b[1;3mLet's get started!\n",
      "\n",
      "Thought: To answer this question, I need to know what tables and columns exist in the airline database. I'll start by listing all the tables using `sql_db_list_tables`.\n",
      "\n",
      "Action: sql_db_list_tables\n",
      "Action Input: (empty string\u001b[0m\u001b[38;5;200m\u001b[1;3mcompany, pass_in_trip, passenger, trip\u001b[0m\u001b[32;1m\u001b[1;3mHere's my response:\n",
      "\n",
      "Question: Select the names of all the people who are in the airline database\n",
      "Thought: Let's get started!\n",
      "Action: sql_db_list_tables\n",
      "Action Input: (empty string\u001b[0m\u001b[38;5;200m\u001b[1;3mcompany, pass_in_trip, passenger, trip\u001b[0m\u001b[32;1m\u001b[1;3mHere's my response:\n",
      "\n",
      "Question: Select the names of all the people who are in the airline database\n",
      "Thought: Let's get started!\n",
      "Action: sql_db_schema\n",
      "Action Input: passenger\u001b[0m\u001b[33;1m\u001b[1;3m\n",
      "CREATE TABLE passenger (\n",
      "\tpassenger_id BIGSERIAL NOT NULL, \n",
      "\tpassenger_name VARCHAR(60), \n",
      "\tCONSTRAINT passenger_pkey PRIMARY KEY (passenger_id)\n",
      ")\n",
      "\n",
      "/*\n",
      "3 rows from passenger table:\n",
      "passenger_id\tpassenger_name\n",
      "16\tJohn\n",
      "17\tJames\n",
      "18\tPoul\n",
      "*/\u001b[0m\u001b[32;1m\u001b[1;3mHere's the continuation of the thought process:\n",
      "\n",
      "Thought: Now that I know the schema of the `passenger` table, I can write a SQL query to select the names of all people in the airline database.\n",
      "Action: sql_db_query_checker\n",
      "Action Input: SELECT passenger_name FROM passenger\u001b[0m\u001b[36;1m\u001b[1;3mThe provided SQL query is:\n",
      "\n",
      "```\n",
      "SELECT passenger_ name FROM passenger\n",
      "```\u001b[0m\u001b[32;1m\u001b[1;3mHere's my response:\n",
      "\n",
      "Question: Select the names of all the people who are in the airline database\n",
      "Thought: Let's get started!\n",
      "Action: sql_db_list_tables\n",
      "Action Input: (empty string\u001b[0m\u001b[38;5;200m\u001b[1;3mcompany, pass_in_trip, passenger, trip\u001b[0m\u001b[32;1m\u001b[1;3mHere's my response:\n",
      "\n",
      "Question: Select the names of all the people who are in the airline database\n",
      "Thought: Let's get started!\n",
      "Action: sql_db_schema\n",
      "Action Input: passenger\u001b[0m\u001b[33;1m\u001b[1;3m\n",
      "CREATE TABLE passenger (\n",
      "\tpassenger_id BIGSERIAL NOT NULL, \n",
      "\tpassenger_name VARCHAR(60), \n",
      "\tCONSTRAINT passenger_pkey PRIMARY KEY (passenger_id)\n",
      ")\n",
      "\n",
      "/*\n",
      "3 rows from passenger table:\n",
      "passenger_id\tpassenger_name\n",
      "16\tJohn\n",
      "17\tJames\n",
      "18\tPoul\n",
      "*/\u001b[0m\u001b[32;1m\u001b[1;3mHere's the continuation of the thought process:\n",
      "\n",
      "Thought: Now that I know the schema of the `passenger` table, I can write a SQL query to select the names of all people in the airline database.\n",
      "\n",
      "Action: sql_db_query\n",
      "\n",
      "Action Input: SELECT passenger_name FROM passenger\u001b[0m\u001b[36;1m\u001b[1;3m[('John',), ('James',), ('Poul',), ('Christofer',), ('Superman',)]\u001b[0m\u001b[32;1m\u001b[1;3mHere's the continuation of the thought process:\n",
      "\n",
      "Thought: Now that I have executed the SQL query, I can see the result. The names of all people in the airline database are John, James, Poul, Christofer, and Superman.\n",
      "\n",
      "Final Answer: The names of all the people who are in the airline database are John, James, Poul, Christofer, and Superman.\u001b[0m\n",
      "\n",
      "\u001b[1m> Finished chain.\u001b[0m\n"
     ]
    }
   ],
   "source": [
    "res = agent.invoke({\n",
    "    \"input\": \"Select the names of all the people who are in the airline database\"\n",
    "})"
   ]
  },
  {
   "cell_type": "code",
   "execution_count": 80,
   "metadata": {},
   "outputs": [
    {
     "name": "stdout",
     "output_type": "stream",
     "text": [
      "{'input': 'Select the names of all the people who are in the airline database', 'output': 'The names of all the people who are in the airline database are John, James, Poul, Christofer, and Superman.'}\n"
     ]
    }
   ],
   "source": [
    "print(res)"
   ]
  },
  {
   "cell_type": "code",
   "execution_count": 81,
   "metadata": {},
   "outputs": [
    {
     "name": "stdout",
     "output_type": "stream",
     "text": [
      "The names of all the people who are in the airline database are John, James, Poul, Christofer, and Superman.\n"
     ]
    }
   ],
   "source": [
    "print(res['output'])"
   ]
  }
 ],
 "metadata": {
  "kernelspec": {
   "display_name": "venv",
   "language": "python",
   "name": "python3"
  },
  "language_info": {
   "codemirror_mode": {
    "name": "ipython",
    "version": 3
   },
   "file_extension": ".py",
   "mimetype": "text/x-python",
   "name": "python",
   "nbconvert_exporter": "python",
   "pygments_lexer": "ipython3",
   "version": "3.12.1"
  }
 },
 "nbformat": 4,
 "nbformat_minor": 2
}
