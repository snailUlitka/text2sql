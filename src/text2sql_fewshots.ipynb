{
 "cells": [
  {
   "cell_type": "markdown",
   "metadata": {},
   "source": [
    "# Developing the theme of few-shots"
   ]
  },
  {
   "cell_type": "markdown",
   "metadata": {},
   "source": [
    "## Init (imports, load models...)"
   ]
  },
  {
   "cell_type": "markdown",
   "metadata": {},
   "source": [
    "### Necessary imports"
   ]
  },
  {
   "cell_type": "code",
   "execution_count": 1,
   "metadata": {},
   "outputs": [],
   "source": [
    "from langchain_community.llms.ollama import Ollama\n",
    "\n",
    "from langchain_community.vectorstores.pgvector import PGVector\n",
    "from langchain_community.utilities.sql_database import SQLDatabase\n",
    "\n",
    "from langchain_community.embeddings.ollama import OllamaEmbeddings\n",
    "\n",
    "from langchain_core.prompts import FewShotPromptTemplate\n",
    "from langchain_core.prompts import PromptTemplate\n",
    "from langchain_core.runnables import RunnablePassthrough\n",
    "from langchain_core.output_parsers import StrOutputParser\n",
    "\n",
    "from langchain.chains.sql_database import query\n",
    "\n",
    "from langchain.agents import Tool\n",
    "from langchain import agents\n",
    "\n",
    "from langchain_community.agent_toolkits.sql.toolkit import SQLDatabaseToolkit \n",
    "from langchain_community.agent_toolkits.sql import base\n",
    "\n",
    "from langchain.prompts.example_selector import SemanticSimilarityExampleSelector\n",
    "\n",
    "from langchain.globals import set_verbose\n",
    "from langchain.globals import set_debug\n",
    "set_debug(True)\n",
    "set_verbose(True)\n",
    "\n",
    "from pswrd import PASSWORD_OF_DB\n",
    "from pswrd import PASSWORD_FOR_VC_CREATOR"
   ]
  },
  {
   "cell_type": "markdown",
   "metadata": {},
   "source": [
    "### Load models"
   ]
  },
  {
   "cell_type": "code",
   "execution_count": 2,
   "metadata": {},
   "outputs": [],
   "source": [
    "llama = Ollama(model=\"llama2:13b\", temperature=0)\n",
    "llama_embeddings = OllamaEmbeddings(model=\"llama2:13b\")\n",
    "sqlcoder_embeddings = OllamaEmbeddings(model=\"sqlcoder:15b\")\n",
    "sqlcoder = Ollama(model='sqlcoder:15b', temperature=0)"
   ]
  },
  {
   "cell_type": "markdown",
   "metadata": {},
   "source": [
    "### Save examples for few-shot prompt"
   ]
  },
  {
   "cell_type": "code",
   "execution_count": 3,
   "metadata": {},
   "outputs": [],
   "source": [
    "examples = [\n",
    "    {\n",
    "        \"input\": \"How many passengers are in the database?\",\n",
    "        \"query\": \"SELECT COUNT(*) FROM public.\\\"passenger\\\";\"\n",
    "    },\n",
    "    {\n",
    "        \"input\": \"What are the departure times of all flights?\",\n",
    "        \"query\": \"SELECT \\\"time_out\\\" FROM public.\\\"trip\\\"\"\n",
    "    },\n",
    "    {\n",
    "        \"input\": \"What is Jane's place?\",\n",
    "        \"query\": \"SELECT \\\"place\\\" FROM public.\\\"pass_in_trip\\\" JOIN public.\\\"passenger\\\" ON public.\\\"passenger\\\".\\\"id\\\" = public.\\\"pass_in_trip\\\".\\\"passenger\\\" WHERE public.\\\"passenger\\\".\\\"name\\\" = \\'John\\'\"\n",
    "    },\n",
    "    {\n",
    "        \"input\": \"Give me all information about airlines\",\n",
    "        \"query\": \"SELECT * FROM public.\\\"company\\\"\"\n",
    "    },\n",
    "    {\n",
    "        \"input\": \"Show me all the trips that are flying out today\",\n",
    "        \"query\": \"SELECT * FROM public.\\\"trip\\\"\\nWHERE EXTRACT(DAY FROM NOW()) = EXTRACT(DAY FROM \\\"time_out\\\")\"\n",
    "    },\n",
    "    {\n",
    "        \"input\": \"Which planes depart from Washington?\",\n",
    "        \"query\": \"SELECT \\\"plane\\\" FROM public.\\\"trip\\\" WHERE \\\"town_from\\\" = \\'Washington\\'\"\n",
    "    },\n",
    "    {\n",
    "        \"input\": \"Print out the names of all the planes\", \n",
    "        \"query\": \"SELECT \\\"plane\\\" FROM public.\\\"trip\\\"\"\n",
    "    },\n",
    "    {\n",
    "        \"input\": \"How many people fly on Airbus?\",\n",
    "        \"query\": \"SELECT COUNT(*) FROM public.\\\"pass_in_trip\\\" AS paip JOIN public.\\\"trip\\\" ON trip.\\\"id\\\" = paip.\\\"trip\\\" WHERE trip.\\\"plane\\\" = \\'Airbus\\'\"\n",
    "    },\n",
    "]"
   ]
  },
  {
   "cell_type": "markdown",
   "metadata": {},
   "source": [
    "### Create prompt"
   ]
  },
  {
   "cell_type": "code",
   "execution_count": 4,
   "metadata": {},
   "outputs": [],
   "source": [
    "prefix = \\\n",
    "\"\"\"You are a silent PostreSQL expert. Given an input question, first create {top_k} syntactically correct PostreSQL query to run, then look at the results and take most correct.\n",
    "Unless the user specifies in the question a specific number of examples to obtain, query for at most 5 results using the LIMIT clause as per PostreSQL. You can order the results to return the most informative data in the database.\n",
    "Never query for all columns from a table. You must query only the columns that are needed to answer the question. Wrap each column name in double quotes (\\\") to denote them as delimited identifiers.\n",
    "Pay attention to use only the column names you can see in the tables below. Be careful to not query for columns that do not exist. Also, pay attention to which column is in which table.\n",
    "Pay attention to use date(\\'now\\') function to get the current date, if the question involves \\\"today\\\".\n",
    "Below are a number of examples of questions and their corresponding SQL queries.\"\"\"\n",
    "\n",
    "suffix = \\\n",
    "\"\"\"Only use the following tables:\n",
    "{table_info}\n",
    "\n",
    "Don\\'t explain, use the following format:\n",
    "\n",
    "User input: {input}\n",
    "SQL query: \"\"\"\n",
    "\n",
    "example_prompt = PromptTemplate.from_template(\n",
    "    \"User input: {input}\\nSQL query: {query}\"\n",
    ")"
   ]
  },
  {
   "cell_type": "markdown",
   "metadata": {},
   "source": [
    "### Connect to DB with Readonly role"
   ]
  },
  {
   "cell_type": "code",
   "execution_count": 5,
   "metadata": {},
   "outputs": [],
   "source": [
    "CONNECTION_STRING = PGVector.connection_string_from_db_params(\n",
    "    driver=\"psycopg2\",\n",
    "    host=\"localhost\",\n",
    "    port=5433,\n",
    "    database=\"llama-test-2\",\n",
    "    user=\"seq2sql_llama2_rag\",\n",
    "    password=PASSWORD_OF_DB\n",
    ")"
   ]
  },
  {
   "cell_type": "code",
   "execution_count": 6,
   "metadata": {},
   "outputs": [],
   "source": [
    "db = SQLDatabase.from_uri(CONNECTION_STRING)"
   ]
  },
  {
   "cell_type": "code",
   "execution_count": 7,
   "metadata": {},
   "outputs": [],
   "source": [
    "db.run(\"SET ROLE pg_read_all_data\");"
   ]
  },
  {
   "cell_type": "markdown",
   "metadata": {},
   "source": [
    "#### Check connection"
   ]
  },
  {
   "cell_type": "code",
   "execution_count": 8,
   "metadata": {},
   "outputs": [
    {
     "data": {
      "text/plain": [
       "\"[(1, 'John'), (2, 'James'), (3, 'Poul'), (4, 'Christofer'), (5, 'Superman')]\""
      ]
     },
     "execution_count": 8,
     "metadata": {},
     "output_type": "execute_result"
    }
   ],
   "source": [
    "db.run(\"select * from passenger\")"
   ]
  },
  {
   "cell_type": "markdown",
   "metadata": {},
   "source": [
    "## Simple few-shots by using `create_sql_query_chain`"
   ]
  },
  {
   "cell_type": "code",
   "execution_count": 9,
   "metadata": {},
   "outputs": [],
   "source": [
    "few_shots_prompt = FewShotPromptTemplate(\n",
    "    examples=examples,\n",
    "    example_prompt=example_prompt,\n",
    "    prefix=prefix,\n",
    "    suffix=suffix,\n",
    "    input_variables=[\"input\", \"table_info\", \"top_k\"],\n",
    ")"
   ]
  },
  {
   "cell_type": "code",
   "execution_count": 10,
   "metadata": {},
   "outputs": [],
   "source": [
    "few_shots_chain = query.create_sql_query_chain(llm=llama, db=db, prompt=few_shots_prompt)"
   ]
  },
  {
   "cell_type": "code",
   "execution_count": 11,
   "metadata": {},
   "outputs": [
    {
     "name": "stdout",
     "output_type": "stream",
     "text": [
      "User input: Select the names of all the people who are in the airline database\n",
      "\n",
      "SQL query: SELECT name FROM passenger;\n"
     ]
    }
   ],
   "source": [
    "res = few_shots_chain.invoke({\"question\": \"Select the names of all the people who are in the airline database\"})\n",
    "print(res)"
   ]
  },
  {
   "cell_type": "code",
   "execution_count": 12,
   "metadata": {},
   "outputs": [
    {
     "data": {
      "text/plain": [
       "\"[('John',), ('James',), ('Poul',), ('Christofer',), ('Superman',)]\""
      ]
     },
     "execution_count": 12,
     "metadata": {},
     "output_type": "execute_result"
    }
   ],
   "source": [
    "db.run(\"SELECT name FROM passenger\")"
   ]
  },
  {
   "cell_type": "code",
   "execution_count": 13,
   "metadata": {},
   "outputs": [
    {
     "name": "stdout",
     "output_type": "stream",
     "text": [
      "User input: Print the names of all airlines\n",
      "\n",
      "SQL query: SELECT name FROM company;\n",
      "\n",
      "This query will retrieve the names of all airlines from the \"company\" table.\n"
     ]
    }
   ],
   "source": [
    "res = few_shots_chain.invoke({\"question\": \"Print the names of all airlines\"})\n",
    "print(res)"
   ]
  },
  {
   "cell_type": "code",
   "execution_count": 14,
   "metadata": {},
   "outputs": [
    {
     "data": {
      "text/plain": [
       "\"[('American Airlines',)]\""
      ]
     },
     "execution_count": 14,
     "metadata": {},
     "output_type": "execute_result"
    }
   ],
   "source": [
    "db.run(\"SELECT name FROM company\")"
   ]
  },
  {
   "cell_type": "code",
   "execution_count": 15,
   "metadata": {},
   "outputs": [
    {
     "name": "stdout",
     "output_type": "stream",
     "text": [
      "User input: Print the names of people that end in \"man\"\n",
      "\n",
      "SQL query: SELECT name FROM passenger WHERE name LIKE '%man';\n"
     ]
    }
   ],
   "source": [
    "res = few_shots_chain.invoke({\"question\": \"Print the names of people that end in \\\"man\\\"\"})\n",
    "print(res)"
   ]
  },
  {
   "cell_type": "code",
   "execution_count": 16,
   "metadata": {},
   "outputs": [
    {
     "data": {
      "text/plain": [
       "\"[('Superman',)]\""
      ]
     },
     "execution_count": 16,
     "metadata": {},
     "output_type": "execute_result"
    }
   ],
   "source": [
    "db.run(\"SELECT name FROM passenger WHERE name LIKE \\'%man\\'\")"
   ]
  },
  {
   "cell_type": "markdown",
   "metadata": {},
   "source": [
    "## Few-shots with `SemanticSimilarityExampleSelector`"
   ]
  },
  {
   "cell_type": "markdown",
   "metadata": {},
   "source": [
    "### Connect to another DB to create embeddings"
   ]
  },
  {
   "cell_type": "code",
   "execution_count": 17,
   "metadata": {},
   "outputs": [],
   "source": [
    "CONNECTION_STRING = PGVector.connection_string_from_db_params(\n",
    "    driver=\"psycopg2\",\n",
    "    host=\"localhost\",\n",
    "    port=5433,\n",
    "    database=\"llama-test\",\n",
    "    user=\"pgvc_embeddings_creator\",\n",
    "    password=PASSWORD_FOR_VC_CREATOR\n",
    ")"
   ]
  },
  {
   "cell_type": "code",
   "execution_count": 18,
   "metadata": {},
   "outputs": [],
   "source": [
    "example_selector = SemanticSimilarityExampleSelector.from_examples(\n",
    "    examples,\n",
    "    llama_embeddings,\n",
    "    PGVector,\n",
    "    k=2,\n",
    "    connection_string=CONNECTION_STRING,\n",
    "    pre_delete_collection=True,\n",
    "    use_jsonb=True\n",
    ");"
   ]
  },
  {
   "cell_type": "code",
   "execution_count": 19,
   "metadata": {},
   "outputs": [],
   "source": [
    "few_shots_prompt = FewShotPromptTemplate(\n",
    "    example_selector=example_selector,\n",
    "    example_prompt=example_prompt,\n",
    "    prefix=prefix,\n",
    "    suffix=suffix,\n",
    "    input_variables=[\"input\", \"table_info\", \"top_k\"],\n",
    ")"
   ]
  },
  {
   "cell_type": "code",
   "execution_count": 20,
   "metadata": {},
   "outputs": [],
   "source": [
    "few_shots_selector_chain = query.create_sql_query_chain(llm=llama, db=db, prompt=few_shots_prompt)"
   ]
  },
  {
   "cell_type": "code",
   "execution_count": 21,
   "metadata": {},
   "outputs": [
    {
     "name": "stdout",
     "output_type": "stream",
     "text": [
      "User input: Select the names of all the people who are in the airline database\n",
      "\n",
      "SQL query: SELECT name FROM passenger;\n"
     ]
    }
   ],
   "source": [
    "res = few_shots_selector_chain.invoke({\n",
    "    \"question\": \"Select the names of all the people who are in the airline database\", \n",
    "    \"top_k\": \"1\"\n",
    "})\n",
    "print(res)"
   ]
  },
  {
   "cell_type": "code",
   "execution_count": 22,
   "metadata": {},
   "outputs": [
    {
     "data": {
      "text/plain": [
       "\"[('John',), ('James',), ('Poul',), ('Christofer',), ('Superman',)]\""
      ]
     },
     "execution_count": 22,
     "metadata": {},
     "output_type": "execute_result"
    }
   ],
   "source": [
    "db.run(\"SELECT name FROM passenger\")"
   ]
  },
  {
   "cell_type": "code",
   "execution_count": 23,
   "metadata": {},
   "outputs": [
    {
     "name": "stdout",
     "output_type": "stream",
     "text": [
      "User input: Print the names of all airlines\n",
      "\n",
      "SQL query: SELECT name FROM company;\n",
      "\n",
      "This query will select all the names of the airlines from the \"company\" table, and return a list of strings.\n"
     ]
    }
   ],
   "source": [
    "res = few_shots_selector_chain.invoke({\n",
    "    \"question\": \"Print the names of all airlines\", \n",
    "    \"top_k\": \"1\"\n",
    "})\n",
    "print(res)"
   ]
  },
  {
   "cell_type": "code",
   "execution_count": 24,
   "metadata": {},
   "outputs": [
    {
     "data": {
      "text/plain": [
       "\"[('American Airlines',)]\""
      ]
     },
     "execution_count": 24,
     "metadata": {},
     "output_type": "execute_result"
    }
   ],
   "source": [
    "db.run(\"SELECT name FROM company\")"
   ]
  },
  {
   "cell_type": "code",
   "execution_count": 25,
   "metadata": {},
   "outputs": [
    {
     "name": "stdout",
     "output_type": "stream",
     "text": [
      "User input: Print the names of people that end in \"man\"\n",
      "\n",
      "SQL query: SELECT name FROM passenger WHERE name LIKE '%man';\n"
     ]
    }
   ],
   "source": [
    "res = few_shots_selector_chain.invoke({\n",
    "    \"question\": \"Print the names of people that end in \\\"man\\\"\", \n",
    "    \"top_k\": \"1\"\n",
    "})\n",
    "print(res)"
   ]
  },
  {
   "cell_type": "code",
   "execution_count": 26,
   "metadata": {},
   "outputs": [
    {
     "data": {
      "text/plain": [
       "\"[('Superman',)]\""
      ]
     },
     "execution_count": 26,
     "metadata": {},
     "output_type": "execute_result"
    }
   ],
   "source": [
    "db.run(\"SELECT name FROM passenger WHERE name LIKE \\'%man\\'\")"
   ]
  },
  {
   "cell_type": "markdown",
   "metadata": {},
   "source": [
    "## Few-shots selector with SQLCoder"
   ]
  },
  {
   "cell_type": "code",
   "execution_count": 27,
   "metadata": {},
   "outputs": [],
   "source": [
    "CONNECTION_STRING = PGVector.connection_string_from_db_params(\n",
    "    driver=\"psycopg2\",\n",
    "    host=\"localhost\",\n",
    "    port=5433,\n",
    "    database=\"llama-test\",\n",
    "    user=\"pgvc_embeddings_creator\",\n",
    "    password=PASSWORD_FOR_VC_CREATOR\n",
    ")"
   ]
  },
  {
   "cell_type": "code",
   "execution_count": 38,
   "metadata": {},
   "outputs": [],
   "source": [
    "example_selector = SemanticSimilarityExampleSelector.from_examples(\n",
    "    examples=examples,\n",
    "    embeddings=llama_embeddings,\n",
    "    vectorstore_cls=PGVector,\n",
    "    k=2,\n",
    "    connection_string=CONNECTION_STRING,\n",
    "    pre_delete_collection=True,\n",
    "    use_jsonb=True\n",
    ");"
   ]
  },
  {
   "cell_type": "code",
   "execution_count": 39,
   "metadata": {},
   "outputs": [],
   "source": [
    "few_shots_prompt = FewShotPromptTemplate(\n",
    "    example_selector=example_selector,\n",
    "    example_prompt=example_prompt,\n",
    "    prefix=prefix,\n",
    "    suffix=suffix,\n",
    "    input_variables=[\"input\", \"table_info\", \"top_k\"],\n",
    ")"
   ]
  },
  {
   "cell_type": "code",
   "execution_count": 40,
   "metadata": {},
   "outputs": [],
   "source": [
    "few_shots_selector_chain = query.create_sql_query_chain(llm=sqlcoder, db=db, prompt=few_shots_prompt)"
   ]
  },
  {
   "cell_type": "code",
   "execution_count": 41,
   "metadata": {},
   "outputs": [
    {
     "name": "stdout",
     "output_type": "stream",
     "text": [
      "<|endoftext|>\n"
     ]
    }
   ],
   "source": [
    "res = few_shots_selector_chain.invoke({\n",
    "    \"question\": \"Select the names of all the people who are in the airline database\", \n",
    "    \"top_k\": \"1\"\n",
    "})\n",
    "print(res)"
   ]
  },
  {
   "cell_type": "code",
   "execution_count": 42,
   "metadata": {},
   "outputs": [
    {
     "data": {
      "text/plain": [
       "\"[('John',), ('James',), ('Poul',), ('Christofer',), ('Superman',)]\""
      ]
     },
     "execution_count": 42,
     "metadata": {},
     "output_type": "execute_result"
    }
   ],
   "source": [
    "db.run(\"SELECT name FROM passenger\")"
   ]
  },
  {
   "cell_type": "code",
   "execution_count": 43,
   "metadata": {},
   "outputs": [
    {
     "name": "stdout",
     "output_type": "stream",
     "text": [
      "<|endoftext|>\n"
     ]
    }
   ],
   "source": [
    "res = few_shots_selector_chain.invoke({\n",
    "    \"question\": \"Print the names of all airlines\", \n",
    "    \"top_k\": \"1\"\n",
    "})\n",
    "print(res)"
   ]
  },
  {
   "cell_type": "code",
   "execution_count": 44,
   "metadata": {},
   "outputs": [
    {
     "data": {
      "text/plain": [
       "\"[('American Airlines',)]\""
      ]
     },
     "execution_count": 44,
     "metadata": {},
     "output_type": "execute_result"
    }
   ],
   "source": [
    "db.run(\"SELECT name FROM company\")"
   ]
  },
  {
   "cell_type": "code",
   "execution_count": 45,
   "metadata": {},
   "outputs": [
    {
     "name": "stdout",
     "output_type": "stream",
     "text": [
      "```\n",
      "<|endoftext|>\n"
     ]
    }
   ],
   "source": [
    "res = few_shots_selector_chain.invoke({\n",
    "    \"question\": \"Print the names of people that end in \\\"man\\\"\", \n",
    "    \"top_k\": \"1\"\n",
    "})\n",
    "print(res)"
   ]
  },
  {
   "cell_type": "code",
   "execution_count": 46,
   "metadata": {},
   "outputs": [
    {
     "data": {
      "text/plain": [
       "\"[('Superman',)]\""
      ]
     },
     "execution_count": 46,
     "metadata": {},
     "output_type": "execute_result"
    }
   ],
   "source": [
    "db.run(\"SELECT name FROM passenger WHERE name LIKE \\'%man\\'\")"
   ]
  },
  {
   "cell_type": "markdown",
   "metadata": {},
   "source": [
    "## Few-shots as tool in agent"
   ]
  },
  {
   "cell_type": "code",
   "execution_count": 8,
   "metadata": {},
   "outputs": [],
   "source": [
    "CONNECTION_STRING = PGVector.connection_string_from_db_params(\n",
    "    driver=\"psycopg2\",\n",
    "    host=\"localhost\",\n",
    "    port=5433,\n",
    "    database=\"llama-test\",\n",
    "    user=\"pgvc_embeddings_creator\",\n",
    "    password=PASSWORD_FOR_VC_CREATOR\n",
    ")"
   ]
  },
  {
   "cell_type": "code",
   "execution_count": 9,
   "metadata": {},
   "outputs": [],
   "source": [
    "example_selector = SemanticSimilarityExampleSelector.from_examples(\n",
    "    examples=examples,\n",
    "    embeddings=llama_embeddings,\n",
    "    vectorstore_cls=PGVector,\n",
    "    k=2,\n",
    "    connection_string=CONNECTION_STRING,\n",
    "    pre_delete_collection=True,\n",
    "    use_jsonb=True\n",
    ");"
   ]
  },
  {
   "cell_type": "code",
   "execution_count": 10,
   "metadata": {},
   "outputs": [],
   "source": [
    "toolkit = SQLDatabaseToolkit(llm=sqlcoder, db=db)\n",
    "\n",
    "example_tool = Tool(\n",
    "    name=\"sql_examples\",\n",
    "    func=example_selector.select_examples,\n",
    "    description=\"Input this tool a user question to get most semantically similar examples. Always use this tool before generate a query.\",\n",
    ")\n",
    "\n",
    "sql_suffix=\\\n",
    "\"\"\"Begin!\n",
    "\n",
    "Question: {input}\n",
    "Thought: I should look at semantically similar examples. \n",
    "Then I should look at the tables in the database to see what I can query. \n",
    "Then I should query the schema of the most relevant tables.\n",
    "{agent_scratchpad}\"\"\"\n",
    "\n",
    "agent = base.create_sql_agent(\n",
    "    llm=llama,\n",
    "    toolkit=toolkit,\n",
    "    extra_tools=[example_tool],\n",
    "    suffix=sql_suffix\n",
    ")"
   ]
  },
  {
   "cell_type": "code",
   "execution_count": 12,
   "metadata": {},
   "outputs": [
    {
     "name": "stdout",
     "output_type": "stream",
     "text": [
      "\n",
      "\n",
      "\u001b[1m> Entering new LLMChain chain...\u001b[0m\n",
      "Prompt after formatting:\n",
      "\u001b[32;1m\u001b[1;3m\n",
      "SELECT name FROM passenger WHERE status = 'active'\n",
      "Double check the postgresql query above for common mistakes, including:\n",
      "- Using NOT IN with NULL values\n",
      "- Using UNION when UNION ALL should have been used\n",
      "- Using BETWEEN for exclusive ranges\n",
      "- Data type mismatch in predicates\n",
      "- Properly quoting identifiers\n",
      "- Using the correct number of arguments for functions\n",
      "- Casting to the correct data type\n",
      "- Using the proper columns for joins\n",
      "\n",
      "If there are any of the above mistakes, rewrite the query. If there are no mistakes, just reproduce the original query.\n",
      "\n",
      "Output the final SQL query only.\n",
      "\n",
      "SQL Query: \u001b[0m\n",
      "\n",
      "\u001b[1m> Finished chain.\u001b[0m\n"
     ]
    }
   ],
   "source": [
    "res = agent.invoke({\n",
    "    \"input\": \"Select the names of all the people who are in the airline database\", \n",
    "    \"top_k\": \"1\"\n",
    "})\n",
    "print(res)"
   ]
  },
  {
   "cell_type": "code",
   "execution_count": null,
   "metadata": {},
   "outputs": [],
   "source": [
    "res = agent.invoke({\n",
    "    \"input\": \"Select the names of all the people who are in the airline database\", \n",
    "})\n",
    "print(res)"
   ]
  }
 ],
 "metadata": {
  "kernelspec": {
   "display_name": "venv",
   "language": "python",
   "name": "python3"
  },
  "language_info": {
   "codemirror_mode": {
    "name": "ipython",
    "version": 3
   },
   "file_extension": ".py",
   "mimetype": "text/x-python",
   "name": "python",
   "nbconvert_exporter": "python",
   "pygments_lexer": "ipython3",
   "version": "3.11.8"
  }
 },
 "nbformat": 4,
 "nbformat_minor": 2
}
