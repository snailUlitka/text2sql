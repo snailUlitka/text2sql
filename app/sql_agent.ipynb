{
 "cells": [
  {
   "cell_type": "markdown",
   "metadata": {},
   "source": [
    "# SQL agent"
   ]
  },
  {
   "cell_type": "markdown",
   "metadata": {},
   "source": [
    "## Setup"
   ]
  },
  {
   "cell_type": "markdown",
   "metadata": {},
   "source": [
    "### Imports"
   ]
  },
  {
   "cell_type": "code",
   "execution_count": 1,
   "metadata": {},
   "outputs": [],
   "source": [
    "import sys\n",
    "import os\n",
    "\n",
    "project_root = os.path.abspath(os.path.join(os.getcwd(), '..'))\n",
    "if project_root not in sys.path:\n",
    "    sys.path.append(project_root)"
   ]
  },
  {
   "cell_type": "code",
   "execution_count": 2,
   "metadata": {},
   "outputs": [],
   "source": [
    "import re\n",
    "import pickle\n",
    "from typing import List\n",
    "\n",
    "\n",
    "from app.databases.external_db import get_db\n",
    "from app.test_datasets import TestData\n",
    "from app.prompts import PromptGenerator\n",
    "from app.examples import FEW_SHOT_EXAMPLES\n",
    "\n",
    "\n",
    "from langsmith import Client\n",
    "\n",
    "\n",
    "from langchain.prompts import ChatPromptTemplate\n",
    "\n",
    "from langchain.schema.agent import AgentFinish, AgentActionMessageLog\n",
    "\n",
    "from langchain.agents.openai_tools.base import convert_to_openai_tool\n",
    "from langchain.agents.output_parsers.openai_functions import (\n",
    "    OpenAIFunctionsAgentOutputParser,\n",
    ")\n",
    "\n",
    "\n",
    "from langchain_core.output_parsers import StrOutputParser\n",
    "\n",
    "from langchain_core.messages.ai import AIMessage\n",
    "from langchain_core.messages.human import HumanMessage\n",
    "\n",
    "from langchain_core.pydantic_v1 import BaseModel, Field\n",
    "\n",
    "from langchain_core.runnables import RunnablePassthrough\n",
    "\n",
    "\n",
    "from langchain_community.chat_models.ollama import ChatOllama\n",
    "from langchain_community.embeddings.ollama import OllamaEmbeddings\n",
    "\n",
    "\n",
    "from langchain_experimental.llms.ollama_functions import (\n",
    "    OllamaFunctions,\n",
    "    DEFAULT_RESPONSE_FUNCTION\n",
    ")"
   ]
  },
  {
   "cell_type": "markdown",
   "metadata": {},
   "source": [
    "### LangSmith"
   ]
  },
  {
   "cell_type": "code",
   "execution_count": 3,
   "metadata": {},
   "outputs": [],
   "source": [
    "os.environ[\"LANGCHAIN_PROJECT\"] = \"text2sql\"\n",
    "client = Client()"
   ]
  },
  {
   "cell_type": "markdown",
   "metadata": {},
   "source": [
    "### Load models"
   ]
  },
  {
   "cell_type": "code",
   "execution_count": 4,
   "metadata": {},
   "outputs": [],
   "source": [
    "llama3_embeddings = OllamaEmbeddings(\n",
    "    model=\"llama3:8b\", \n",
    "    temperature=0\n",
    ")\n",
    "\n",
    "llama3__chat = ChatOllama(\n",
    "    model=\"llama3:instruct\", \n",
    "    temperature=0\n",
    ")\n",
    "llama3_q8__chat = ChatOllama(\n",
    "    model=\"llama3:8b-instruct-q8_0\", \n",
    "    temperature=0\n",
    ")\n",
    "\n",
    "llama3__with_functions = OllamaFunctions(\n",
    "    model=\"llama3:instruct\",\n",
    "    format=\"json\",\n",
    "    temperature=0\n",
    ")\n",
    "llama3_q8__with_functions = OllamaFunctions(\n",
    "    model=\"llama3:8b-instruct-q8_0\",\n",
    "    format=\"json\",\n",
    "    temperature=0\n",
    ")"
   ]
  },
  {
   "cell_type": "markdown",
   "metadata": {},
   "source": [
    "### Connect to DB with Readonly role"
   ]
  },
  {
   "cell_type": "code",
   "execution_count": 5,
   "metadata": {},
   "outputs": [],
   "source": [
    "db = get_db()"
   ]
  },
  {
   "cell_type": "markdown",
   "metadata": {},
   "source": [
    "#### Check connection"
   ]
  },
  {
   "cell_type": "code",
   "execution_count": null,
   "metadata": {},
   "outputs": [],
   "source": [
    "db.run(\"select * from passenger\")"
   ]
  },
  {
   "cell_type": "markdown",
   "metadata": {},
   "source": [
    "-----"
   ]
  },
  {
   "cell_type": "markdown",
   "metadata": {},
   "source": [
    "## Create agent"
   ]
  },
  {
   "cell_type": "markdown",
   "metadata": {},
   "source": [
    "### Get prompt generator"
   ]
  },
  {
   "cell_type": "code",
   "execution_count": null,
   "metadata": {},
   "outputs": [],
   "source": [
    "prompt_generator = PromptGenerator().set_example_selector(\n",
    "        examples=FEW_SHOT_EXAMPLES,\n",
    "        embedding_llm=llama3_embeddings,\n",
    "        k=3\n",
    ")"
   ]
  },
  {
   "cell_type": "markdown",
   "metadata": {},
   "source": [
    "### Create functions for `OllamaFunctions`"
   ]
  },
  {
   "cell_type": "markdown",
   "metadata": {},
   "source": [
    "#### Pydentic classes (Functions)"
   ]
  },
  {
   "cell_type": "code",
   "execution_count": null,
   "metadata": {},
   "outputs": [],
   "source": [
    "tool_names = [\n",
    "    \"__query_sql_database_tool\",\n",
    "    \"__info_sql_database_tool\",\n",
    "    \"__list_sql_database_tool\",\n",
    "    \"__query_sql_checker_tool\"\n",
    "]"
   ]
  },
  {
   "cell_type": "code",
   "execution_count": null,
   "metadata": {},
   "outputs": [],
   "source": [
    "class QuerySQLDatabaseTool(BaseModel):\n",
    "    \"\"\"INPUT to this tool is a DETAILED and CORRECT SQL query, \n",
    "    OUTPUT is a RESULT FROM the DATABASE. If the query is not \n",
    "    correct, an error message will be returned. If an error is \n",
    "    returned, rewrite the query, check the query, and try again. \n",
    "    If you encounter an issue with Unknown column \\'xxxx\\' in \n",
    "    \\'field list\\', use \\'__info_sql_database_tool\\' to query the correct table fields.\"\"\"\n",
    "    sql_query: str = Field(\n",
    "        description=\"Detailed and correct SQL query.\"\n",
    "    )\n",
    "\n",
    "\n",
    "class InfoSQLDatabaseTool(BaseModel):\n",
    "    \"\"\"INPUT to this tool is a comma-separated LIST OF TABLES, \n",
    "    output is the schema and sample rows for those tables. \n",
    "    Be sure that the tables actually exist by calling \n",
    "    \\'__list_sql_database_tool\\' first! Example Input: table1, table2, table3.\n",
    "    This tool will not help if you need to get information about a column!\"\"\"\n",
    "    list_of_tables: str = Field(\n",
    "        description=\"Comma-separated list of tables. Example: table1, table2, table3\"\n",
    "    )\n",
    "\n",
    "\n",
    "class ListSQLDatabaseTool(BaseModel):\n",
    "    \"\"\"INPUT to this tool is a EMPTY STRING, \n",
    "    OUTPUT is a comma-separated LIST OF TABLES \n",
    "    in database. Use this tool to select the \n",
    "    tables needed to respond to the user.\"\"\"\n",
    "    empty_string: str = Field(description=\"Empty string\")\n",
    "\n",
    "\n",
    "class QuerySQLCheckerTool(BaseModel):\n",
    "    \"\"\"INPUT to this tool is a QUERY to check, \n",
    "    OUTPUT is a CORRECT QUERY in database. \n",
    "    Use this tool to double check if \n",
    "    your query is correct before executing it. \n",
    "    Always use this tool before executing a \n",
    "    query with \\'__query_sql_database_tool\\'!\"\"\"\n",
    "    query_to_check: str = Field(\n",
    "        description=\"SQL query that needs to be checked before execution.\"\n",
    "    )\n",
    "\n",
    "\n",
    "functions = [\n",
    "    QuerySQLDatabaseTool, \n",
    "    InfoSQLDatabaseTool,\n",
    "    ListSQLDatabaseTool,\n",
    "    QuerySQLCheckerTool,\n",
    "]\n",
    "\n",
    "# Post-processing of functions\n",
    "functions = [convert_to_openai_tool(f)[\"function\"] for f in functions]\n",
    "\n",
    "for (i, f) in enumerate(functions):\n",
    "    f[\"name\"] = tool_names[i]\n",
    "    f[\"description\"] = re.sub(r\"\\s+\", \" \", f[\"description\"])"
   ]
  },
  {
   "cell_type": "markdown",
   "metadata": {},
   "source": [
    "#### Tools (Python functions) for execute in agent"
   ]
  },
  {
   "cell_type": "code",
   "execution_count": null,
   "metadata": {},
   "outputs": [],
   "source": [
    "key_words = [\n",
    "    \"CONSTRAINT\",\n",
    "    \"CHECK\",\n",
    "    \"UNIQUE\",\n",
    "    \"PRIMARY\",\n",
    "    \"FOREIGN\",\n",
    "    \"EXCLUDE\",\n",
    "    \"DEFERRABLE\",\n",
    "    \"NOT\",\n",
    "    \"INITIALLY\",\n",
    "    \"LIKE\",\n",
    "]\n",
    "\n",
    "def exclude_key_words_from_list(\n",
    "    list: List[str], \n",
    "    key_words: List[str]\n",
    ") -> List[str]:\n",
    "    return [ \n",
    "        column_name_or_key_word \n",
    "        for column_name_or_key_word in list\n",
    "        if column_name_or_key_word.upper() not in key_words\n",
    "    ]\n",
    "\n",
    "def extract_names_from_db(create_table_query: str, key_words_to_exclude: List[str]):\n",
    "    # Removes VARCHAR(60) and others for subsequent processing\n",
    "    clean_sql = re.sub(r\"\\(\\d+\\)\", \"\", create_table_query)\n",
    "    \n",
    "    # Removes sample rows in table info\n",
    "    clean_sql = re.sub(r\"/\\*(.|\\s)*?\\*/\", \"\", clean_sql)\n",
    "    \n",
    "    # Get all table names\n",
    "    table_names = re.findall(r\"CREATE TABLE (\\w+) \\(\", clean_sql)\n",
    "    \n",
    "    res = []\n",
    "    \n",
    "    for name in table_names:\n",
    "        # Returns a description {names}\n",
    "        table_sql = re.search(fr\"CREATE TABLE {name} \\((\\s+(.|\\s+)*?)\\s+\\)\", clean_sql).group(1)\n",
    "        \n",
    "        # Gets all column names and constraints (this is noise)\n",
    "        columns_part = re.findall(r\"\\n\\t(\\w+)\", table_sql)\n",
    "        \n",
    "        res.append({\n",
    "            \"name\": name,\n",
    "            # Exclude constraints (noise)\n",
    "            \"columns\": exclude_key_words_from_list(\n",
    "                columns_part, key_words_to_exclude\n",
    "            )\n",
    "        })\n",
    "    \n",
    "    return res"
   ]
  },
  {
   "cell_type": "code",
   "execution_count": null,
   "metadata": {},
   "outputs": [],
   "source": [
    "def QuerySQLDatabaseTool(sql_query: str):\n",
    "    res = {}\n",
    "    \n",
    "    try:\n",
    "        res[\"type\"] = \"ok\"\n",
    "        res[\"result\"] = db.run(sql_query)\n",
    "    except Exception as e:\n",
    "        res[\"type\"] = \"error\"\n",
    "        res[\"result\"] = str(e)\n",
    "        \n",
    "    return res\n",
    "\n",
    "def InfoSQLDatabaseTool(list_of_tables: str):\n",
    "    res = \"\"\n",
    "    res += \"company, \" if \"company\" in list_of_tables else \"\"\n",
    "    res += \"pass_in_trip, \" if \"pass_in_trip\" in list_of_tables else \"\"\n",
    "    res += \"passenger, \" if \"passenger\" in list_of_tables else \"\"\n",
    "    res += \"trip, \" if \"trip\" in list_of_tables else \"\"\n",
    "    \n",
    "    res = res[:-2]\n",
    "    \n",
    "    return db.get_table_info_no_throw(\n",
    "            [t.strip() for t in res.split(\",\")]\n",
    "        )\n",
    "\n",
    "def ListSQLDatabaseTool(empty_string: str = \"\"):\n",
    "    return \", \".join(db.get_usable_table_names())\n",
    "\n",
    "QUERY_CHECKER = \"\"\"\n",
    "Double check the {dialect} query for common mistakes, including:\n",
    "- Using NOT IN with NULL values\n",
    "- Using UNION when UNION ALL should have been used\n",
    "- Using BETWEEN for exclusive ranges\n",
    "- Data type mismatch in predicates\n",
    "- Properly quoting identifiers\n",
    "- Using the correct number of arguments for functions\n",
    "- Casting to the correct data type\n",
    "- Using the proper columns for joins\n",
    "\n",
    "Also check that all column and table names correspond to the database, these are the ones you need to check:\n",
    "\n",
    "{db_names}\n",
    "\n",
    "If there are any of the above mistakes, rewrite the query. If there are no mistakes, just reproduce the original query.\n",
    "\n",
    "OUTPUT THE FINAL SQL QUERY ONLY.\"\"\"\n",
    "\n",
    "checker_prompt = ChatPromptTemplate.from_messages((\n",
    "    (\"system\", QUERY_CHECKER),\n",
    "    (\"human\", \"SQL Query: SELECT name FROM passenger;\"),\n",
    "    (\"ai\", \"SELECT passenger_name FROM passenger;\"),\n",
    "    (\"human\", \"SQL Query: SELECT plane FROM flight;\"),\n",
    "    (\"ai\", \"SELECT plane FROM trip;\"),\n",
    "    (\"human\", \"SQL Query: {query}\")\n",
    "))\n",
    "\n",
    "def QuerySQLCheckerTool(query_to_check: str):\n",
    "    db_names_list = extract_names_from_db(db.get_table_info(), key_words)\n",
    "    \n",
    "    db_names = \"\"\n",
    "    for name_pair in db_names_list:\n",
    "        db_names += f\"Table name: {name_pair[\"name\"]}\\n\\tColumn names: {name_pair[\"columns\"]}\\n\"\n",
    "    \n",
    "    chain = (\n",
    "        checker_prompt.partial(db_names=db_names) \n",
    "        | llama3__chat \n",
    "        | StrOutputParser()\n",
    "    )\n",
    "    return chain.invoke({\n",
    "        \"query\": query_to_check,\n",
    "        \"dialect\": db.dialect,\n",
    "    })\n",
    "\n",
    "tools = [\n",
    "    QuerySQLDatabaseTool,\n",
    "    InfoSQLDatabaseTool,\n",
    "    ListSQLDatabaseTool,\n",
    "    QuerySQLCheckerTool,\n",
    "]"
   ]
  },
  {
   "cell_type": "markdown",
   "metadata": {},
   "source": [
    "### Util functions"
   ]
  },
  {
   "cell_type": "code",
   "execution_count": null,
   "metadata": {},
   "outputs": [],
   "source": [
    "def format_to_ollama_chat_messages(intermediate_steps):\n",
    "    agent_scratchpad = []\n",
    "    \n",
    "    for step in intermediate_steps:\n",
    "        agent_scratchpad.append(\n",
    "            AIMessage(\n",
    "                content=\"{ \" +\\\n",
    "                    f\"\\'tool\\': \\'{step[0].tool}\\', \" +\\\n",
    "                    f\"\\'tool_input\\': {step[0].tool_input}\"\n",
    "            )\n",
    "        )\n",
    "        \n",
    "        tool_result = step[1]\n",
    "        \n",
    "        if step[0].tool == tool_names[0]:\n",
    "            if tool_result[\"type\"] == \"ok\":\n",
    "                human_message = \"This is similar to the database \" +\\\n",
    "                    \"response. Maybe there's something I need there. \" +\\\n",
    "                    \"I can't see it, please help me understand, if \" +\\\n",
    "                    \"there is an response to my question, please give it \" +\\\n",
    "                    f\"to me, use it for this: \\'{DEFAULT_RESPONSE_FUNCTION[\"name\"]}\\'\"\n",
    "            elif tool_result[\"type\"] == \"error\":\n",
    "                human_message = \"Oops.. There seems to be a mistake here. \" +\\\n",
    "                    \"Apparently the request was incorrect, try to fix it! \" +\\\n",
    "                    f\"Use \\'{tool_names[1]}\\' to get info about database\" +\\\n",
    "                    \"\\nREWRITE QUERY AND COME BACK WITH RESPONSE!\"\n",
    "            tool_result = tool_result[\"result\"]\n",
    "        elif step[0].tool == tool_names[1]:\n",
    "            human_message = \"It looks like the structure of the database \" +\\\n",
    "                \"tables(s). Maybe this will help you write the right query? \" +\\\n",
    "                \"Please make sure you remember the names!\"\n",
    "        elif step[0].tool == tool_names[2]:\n",
    "            human_message = \"It looks like a list of table names. \" +\\\n",
    "                \"Maybe it will help to get an response. I think if you don't \" +\\\n",
    "                f\"have enough information, you can use this: \\'{tool_names[1]}\\'\"\n",
    "        elif step[0].tool == tool_names[3]:\n",
    "            human_message = \"It looks like an SQL query! I think it's the \" +\\\n",
    "                \"right one. Try to execute this query.\"\n",
    "        \n",
    "        agent_scratchpad.append(\n",
    "            HumanMessage(\n",
    "                content=\"I can help you execute the tool. Give me a second... \" +\n",
    "                    \"And so, I think I managed to call it, but I can't read \" +\n",
    "                    \"what's written there, only a smart AI can understand it.\" +\n",
    "                    f\"\\nI checked, the result of the tool\\n{human_message}\" +\n",
    "                    f\"\\n\\nResult of tool: \\n{tool_result}\"\n",
    "            )\n",
    "        )\n",
    "        \n",
    "    return agent_scratchpad\n",
    "\n",
    "def get_agent(llm: OllamaFunctions, functions: List[BaseModel]):\n",
    "    \"\"\"Create and return agent with provided `llm` model\"\"\"\n",
    "\n",
    "    llm_with_tools = llm.bind_tools(tools=functions + [DEFAULT_RESPONSE_FUNCTION])\n",
    "    \n",
    "    agent = (\n",
    "        RunnablePassthrough.assign(\n",
    "            agent_scratchpad=lambda steps: format_to_ollama_chat_messages(steps['intermediate_steps'])\n",
    "        )\n",
    "        | prompt_generator.get_prompt()\n",
    "        | llm_with_tools\n",
    "        | OpenAIFunctionsAgentOutputParser()\n",
    "    )\n",
    "    \n",
    "    return agent"
   ]
  },
  {
   "cell_type": "markdown",
   "metadata": {},
   "source": [
    "### Cycle for execute agent"
   ]
  },
  {
   "cell_type": "code",
   "execution_count": null,
   "metadata": {},
   "outputs": [],
   "source": [
    "agent = get_agent(llama3__with_functions, functions)\n",
    "\n",
    "def run_agent(user_input: str, iter_limit = 10) -> AgentFinish | str:\n",
    "    number_of_iteration = 0\n",
    "    intermediate_steps = []\n",
    "    \n",
    "    while number_of_iteration < iter_limit:\n",
    "        result = agent.invoke({\n",
    "            \"dialect\": \"PostgreSQL\",\n",
    "            \"input\": user_input,\n",
    "            \"top_k\": \"20\", \n",
    "            \"intermediate_steps\": intermediate_steps\n",
    "        })\n",
    "        \n",
    "        if isinstance(result, AgentFinish):\n",
    "            return result\n",
    "        else:\n",
    "            result: AgentActionMessageLog = result\n",
    "        \n",
    "        tool = {\n",
    "            tool_names[0]: QuerySQLDatabaseTool, \n",
    "            tool_names[1]: InfoSQLDatabaseTool,\n",
    "            tool_names[2]: ListSQLDatabaseTool, \n",
    "            tool_names[3]: QuerySQLCheckerTool,\n",
    "        }[result.tool]\n",
    "        \n",
    "        if isinstance(result.tool_input, str):\n",
    "            observation = tool(result.tool_input)\n",
    "        else:\n",
    "            observation = tool(**result.tool_input)\n",
    "        intermediate_steps.append((result, observation))\n",
    "        number_of_iteration += 1\n",
    "    \n",
    "    return \"Agent stop due to limited number of iterations!\""
   ]
  },
  {
   "cell_type": "markdown",
   "metadata": {},
   "source": [
    "-----\n",
    "## Testing an agent"
   ]
  },
  {
   "cell_type": "code",
   "execution_count": null,
   "metadata": {},
   "outputs": [],
   "source": [
    "results = []"
   ]
  },
  {
   "cell_type": "code",
   "execution_count": null,
   "metadata": {},
   "outputs": [],
   "source": [
    "for question in TestData.QUESTIONS:\n",
    "    try:\n",
    "        results.append(run_agent(question))\n",
    "    except Exception as e:\n",
    "        results.append(str(e))"
   ]
  },
  {
   "cell_type": "code",
   "execution_count": 6,
   "metadata": {},
   "outputs": [],
   "source": [
    "with open(\"..\\\\data\\\\ollama_functions_agent\\\\v1\\\\llama3_inst.pickle\", \"wb\") as f:\n",
    "    pickle.dump(results, f)"
   ]
  }
 ],
 "metadata": {
  "kernelspec": {
   "display_name": "venv",
   "language": "python",
   "name": "python3"
  },
  "language_info": {
   "codemirror_mode": {
    "name": "ipython",
    "version": 3
   },
   "file_extension": ".py",
   "mimetype": "text/x-python",
   "name": "python",
   "nbconvert_exporter": "python",
   "pygments_lexer": "ipython3",
   "version": "3.12.1"
  }
 },
 "nbformat": 4,
 "nbformat_minor": 2
}
